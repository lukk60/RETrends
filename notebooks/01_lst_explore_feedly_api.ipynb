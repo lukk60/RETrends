{
 "cells": [
  {
   "cell_type": "code",
   "execution_count": 3,
   "metadata": {},
   "outputs": [],
   "source": [
    "import requests\n",
    "import json\n",
    "import urllib\n",
    "import os, sys, getopt\n",
    "import logging\n",
    "from dotenv import find_dotenv, load_dotenv"
   ]
  },
  {
   "cell_type": "code",
   "execution_count": 39,
   "metadata": {},
   "outputs": [],
   "source": [
    "# load env variables\n",
    "dotenv_path = find_dotenv()\n",
    "load_dotenv(dotenv_path)\n",
    "\n",
    "FEEDLY_USER_ID = os.environ.get(\"FEEDLY_USER_ID\")\n",
    "FEEDLY_ACCESS_TOKEN = os.environ.get(\"FEEDLY_ACCESS_TOKEN\")\n",
    "\n",
    "headers = {'Authorization': 'OAuth ' + FEEDLY_ACCESS_TOKEN}\n",
    "errorHeaders = {\"Authorization\": headers[\"Authorization\"].replace(\"1\", \"2\")}"
   ]
  },
  {
   "cell_type": "markdown",
   "metadata": {},
   "source": [
    "### Subscriptions"
   ]
  },
  {
   "cell_type": "code",
   "execution_count": 48,
   "metadata": {},
   "outputs": [],
   "source": [
    "def get_subscriptions(headers):    \n",
    "    '''Get all subscriptions for current user.\n",
    "\n",
    "    Parameters\n",
    "    ----------\n",
    "    headers: dict\n",
    "        Authenication information for feedddly API\n",
    "\n",
    "    Returns\n",
    "    -------\n",
    "    list of dictionaries\n",
    "        list of all subscriptions with metadata \n",
    "    '''\n",
    "    service = \"http://cloud.feedly.com/v3/subscriptions/\"\n",
    "    res = requests.get(url=service, headers=headers)\n",
    "    \n",
    "    assert res.status_code == 200, \"API Call returned bad result (Code %s)\" %res.status_code\n",
    "    return res.json() "
   ]
  },
  {
   "cell_type": "code",
   "execution_count": 53,
   "metadata": {},
   "outputs": [
    {
     "data": {
      "text/plain": [
       "[{'categories': [{'id': 'user/4f464ff9-623e-45a2-8bde-3f1829eae9e9/category/DS Blogs',\n",
       "    'label': 'DS Blogs'}],\n",
       "  'contentType': 'longform',\n",
       "  'id': 'feed/http://www.countbayesie.com/blog?format=RSS',\n",
       "  'partial': False,\n",
       "  'subscribers': 1620,\n",
       "  'title': 'Count Bayesie - A Probability Blog',\n",
       "  'topics': ['data science', 'statistics', 'math', 'science'],\n",
       "  'updated': 1548950317488,\n",
       "  'velocity': 0.2,\n",
       "  'website': 'http://www.countbayesie.com/'},\n",
       " {'categories': [{'id': 'user/4f464ff9-623e-45a2-8bde-3f1829eae9e9/category/DS Blogs',\n",
       "    'label': 'DS Blogs'}],\n",
       "  'contentType': 'longform',\n",
       "  'coverColor': 'C0DEED',\n",
       "  'iconUrl': 'http://storage.googleapis.com/site-assets/HnIq4cYv6tJeEHJhTSUl9xfp8bciGy9n6sB3rUnBcTk_icon-15414a6fb2b',\n",
       "  'id': 'feed/http://toddwschneider.com/atom.xml',\n",
       "  'partial': False,\n",
       "  'state': 'dormant',\n",
       "  'subscribers': 488,\n",
       "  'title': 'Todd W. Schneider',\n",
       "  'topics': ['data science',\n",
       "   'data',\n",
       "   'programming',\n",
       "   'science',\n",
       "   'tech',\n",
       "   'economics'],\n",
       "  'updated': 1528291870714,\n",
       "  'velocity': 0.0,\n",
       "  'visualUrl': 'http://storage.googleapis.com/site-assets/HnIq4cYv6tJeEHJhTSUl9xfp8bciGy9n6sB3rUnBcTk_visual-15414a6fb2b',\n",
       "  'website': 'http://toddwschneider.com/'},\n",
       " {'categories': [{'id': 'user/4f464ff9-623e-45a2-8bde-3f1829eae9e9/category/DS Blogs',\n",
       "    'label': 'DS Blogs'}],\n",
       "  'contentType': 'article',\n",
       "  'iconUrl': 'https://storage.googleapis.com/site-assets/Z_vuBu-ckrkRxtG6GRq5A8DoX07QbPMzkPxCGs4_jGc_sicon-15b644f0261',\n",
       "  'id': 'feed/http://brettromero.com/wordpress/feed/',\n",
       "  'partial': False,\n",
       "  'state': 'dormant',\n",
       "  'subscribers': 38,\n",
       "  'title': 'Brett Romero',\n",
       "  'topics': ['data science'],\n",
       "  'updated': 1503746977662,\n",
       "  'velocity': 0.0,\n",
       "  'visualUrl': 'https://storage.googleapis.com/site-assets/Z_vuBu-ckrkRxtG6GRq5A8DoX07QbPMzkPxCGs4_jGc_svisual-15b644f0261',\n",
       "  'website': 'http://brettromero.com/wordpress'},\n",
       " {'categories': [{'id': 'user/4f464ff9-623e-45a2-8bde-3f1829eae9e9/category/DS Blogs',\n",
       "    'label': 'DS Blogs'}],\n",
       "  'contentType': 'longform',\n",
       "  'coverColor': 'C0DEED',\n",
       "  'coverUrl': 'https://storage.googleapis.com/site-assets/T0szY5XsNf_ltFSV83Vv5y1s5Y53cRyVvbMtOmljVUY_cover-15bec0a0e61',\n",
       "  'iconUrl': 'https://storage.googleapis.com/site-assets/T0szY5XsNf_ltFSV83Vv5y1s5Y53cRyVvbMtOmljVUY_icon-15bec0a0e61',\n",
       "  'id': 'feed/http://simplystatistics.org/feed/',\n",
       "  'partial': False,\n",
       "  'subscribers': 22944,\n",
       "  'title': 'Simply Statistics',\n",
       "  'topics': ['data science', 'data', 'science'],\n",
       "  'updated': 1547835784904,\n",
       "  'velocity': 0.5,\n",
       "  'visualUrl': 'https://storage.googleapis.com/site-assets/T0szY5XsNf_ltFSV83Vv5y1s5Y53cRyVvbMtOmljVUY_visual-15bec0a0e61',\n",
       "  'website': 'https://simplystatistics.org/index.xml'},\n",
       " {'categories': [{'id': 'user/4f464ff9-623e-45a2-8bde-3f1829eae9e9/category/DS Blogs',\n",
       "    'label': 'DS Blogs'}],\n",
       "  'contentType': 'article',\n",
       "  'id': 'feed/http://opendata.ch/feed/',\n",
       "  'partial': False,\n",
       "  'subscribers': 64,\n",
       "  'title': 'Opendata.ch',\n",
       "  'topics': ['opendata'],\n",
       "  'updated': 1548758139346,\n",
       "  'velocity': 0.5,\n",
       "  'website': 'https://opendata.ch'},\n",
       " {'categories': [{'id': 'user/4f464ff9-623e-45a2-8bde-3f1829eae9e9/category/7a329076-9761-474f-b587-1c623db67516',\n",
       "    'label': 'Fun'}],\n",
       "  'contentType': 'longform',\n",
       "  'coverColor': '131516',\n",
       "  'coverUrl': 'https://storage.googleapis.com/site-assets/-I69vCrAczoNMUFVhhTOEETtoYF_X6xmF8gkNTDH1JM_cover-15b93554cb5',\n",
       "  'iconUrl': 'https://storage.googleapis.com/site-assets/-I69vCrAczoNMUFVhhTOEETtoYF_X6xmF8gkNTDH1JM_icon-15cb6302dce',\n",
       "  'id': 'feed/http://fivethirtyeight.com/tag/the-riddler/feed/',\n",
       "  'partial': False,\n",
       "  'subscribers': 359,\n",
       "  'title': 'FiveThirtyEight tells compelling data-driven stories about politics, sports and science.',\n",
       "  'topics': ['puzzles', 'math', 'science', 'comics'],\n",
       "  'updated': 1549026317223,\n",
       "  'velocity': 0.9,\n",
       "  'visualUrl': 'https://storage.googleapis.com/site-assets/-I69vCrAczoNMUFVhhTOEETtoYF_X6xmF8gkNTDH1JM_visual-15cb6302dce',\n",
       "  'website': 'https://fivethirtyeight.com'},\n",
       " {'categories': [{'id': 'user/4f464ff9-623e-45a2-8bde-3f1829eae9e9/category/DS Blogs',\n",
       "    'label': 'DS Blogs'}],\n",
       "  'contentType': 'article',\n",
       "  'iconUrl': 'http://storage.googleapis.com/site-assets/FfO7w7dVd7aWIlbEPQOM1YRKE18F6oqPLuWxonhoupk_sicon-154270f726b',\n",
       "  'id': 'feed/http://feeds.feedburner.com/dkriesel-de',\n",
       "  'partial': False,\n",
       "  'state': 'dormant',\n",
       "  'subscribers': 719,\n",
       "  'title': 'D. Kriesel',\n",
       "  'topics': ['tech', 'news', 'fun'],\n",
       "  'updated': 1531033029602,\n",
       "  'velocity': 0.0,\n",
       "  'visualUrl': 'http://storage.googleapis.com/site-assets/FfO7w7dVd7aWIlbEPQOM1YRKE18F6oqPLuWxonhoupk_svisual-154270f726b',\n",
       "  'website': 'http://www.dkriesel.com/'},\n",
       " {'categories': [{'id': 'user/4f464ff9-623e-45a2-8bde-3f1829eae9e9/category/global.must',\n",
       "    'label': 'Must Read'}],\n",
       "  'contentType': 'article',\n",
       "  'coverColor': '131516',\n",
       "  'coverUrl': 'https://storage.googleapis.com/site-assets/u1ZxW7TvgPHBesAgOftmQllM1rBAOErrZ_EfkwWlMtI_cover-16710cb50e2',\n",
       "  'iconUrl': 'https://storage.googleapis.com/site-assets/u1ZxW7TvgPHBesAgOftmQllM1rBAOErrZ_EfkwWlMtI_icon-15cd6da2992',\n",
       "  'id': 'feed/http://dataskeptic.libsyn.com/rss',\n",
       "  'partial': False,\n",
       "  'subscribers': 926,\n",
       "  'title': 'Data Skeptic',\n",
       "  'topics': ['data science',\n",
       "   'podcasts',\n",
       "   'data',\n",
       "   'programming',\n",
       "   'machine learning'],\n",
       "  'updated': 1549038431481,\n",
       "  'velocity': 0.9,\n",
       "  'visualUrl': 'https://storage.googleapis.com/site-assets/u1ZxW7TvgPHBesAgOftmQllM1rBAOErrZ_EfkwWlMtI_visual-15cd6da2992',\n",
       "  'website': 'https://dataskeptic.com'},\n",
       " {'categories': [{'id': 'user/4f464ff9-623e-45a2-8bde-3f1829eae9e9/category/DS Blogs',\n",
       "    'label': 'DS Blogs'}],\n",
       "  'contentType': 'longform',\n",
       "  'coverColor': '018AC8',\n",
       "  'coverUrl': 'https://storage.googleapis.com/site-assets/HVBODcTMeqJUe6D3OCfxmkwGYgorgn1FxH7WwQfyAqk_cover-167c78ab18e',\n",
       "  'iconUrl': 'https://storage.googleapis.com/site-assets/HVBODcTMeqJUe6D3OCfxmkwGYgorgn1FxH7WwQfyAqk_icon-167c78ab18e',\n",
       "  'id': 'feed/http://www.datenjournalist.de/feed/',\n",
       "  'partial': False,\n",
       "  'subscribers': 691,\n",
       "  'title': 'Datenjournalist',\n",
       "  'topics': ['medien', 'web', 'tech', 'netzpolitik', 'analytics'],\n",
       "  'updated': 1545117472587,\n",
       "  'velocity': 0.1,\n",
       "  'visualUrl': 'https://storage.googleapis.com/site-assets/HVBODcTMeqJUe6D3OCfxmkwGYgorgn1FxH7WwQfyAqk_visual-167c78ab18e',\n",
       "  'website': 'https://www.datenjournalist.de'},\n",
       " {'categories': [{'id': 'user/4f464ff9-623e-45a2-8bde-3f1829eae9e9/category/DS Blogs',\n",
       "    'label': 'DS Blogs'}],\n",
       "  'id': 'feed/http://paulolivier.dehaye.org/rss.xml',\n",
       "  'state': 'dormant',\n",
       "  'subscribers': 9,\n",
       "  'title': 'paulolivier.dehaye.org',\n",
       "  'updated': 1459597500693,\n",
       "  'velocity': 0.0,\n",
       "  'website': 'http://paulolivier.dehaye.org/'},\n",
       " {'categories': [{'id': 'user/4f464ff9-623e-45a2-8bde-3f1829eae9e9/category/DS Blogs',\n",
       "    'label': 'DS Blogs'}],\n",
       "  'contentType': 'longform',\n",
       "  'id': 'feed/https://blog.openai.com/rss/',\n",
       "  'partial': False,\n",
       "  'subscribers': 7275,\n",
       "  'title': 'OpenAI ',\n",
       "  'topics': ['ai', 'machine learning', 'tech', 'data science'],\n",
       "  'updated': 1545238288456,\n",
       "  'velocity': 0.1,\n",
       "  'website': 'https://blog.openai.com'},\n",
       " {'categories': [{'id': 'user/4f464ff9-623e-45a2-8bde-3f1829eae9e9/category/News',\n",
       "    'label': 'News'}],\n",
       "  'contentType': 'audio',\n",
       "  'iconUrl': 'https://storage.googleapis.com/site-assets/CMp8ik929KxJzb0Wj7n-ymzAatZI5olg4L2N3YLBBBY_sicon-1624238c28c',\n",
       "  'id': 'feed/http://pod.drs.ch/echo_der_zeit_mpx.xml',\n",
       "  'partial': False,\n",
       "  'subscribers': 334,\n",
       "  'title': 'Echo der Zeit',\n",
       "  'topics': ['news', 'podcasts', 'radio'],\n",
       "  'updated': 1549303741996,\n",
       "  'velocity': 7.0,\n",
       "  'visualUrl': 'https://storage.googleapis.com/site-assets/CMp8ik929KxJzb0Wj7n-ymzAatZI5olg4L2N3YLBBBY_svisual-1624238c28c',\n",
       "  'website': 'https://www.srf.ch/sendungen/echo-der-zeit'},\n",
       " {'categories': [{'id': 'user/4f464ff9-623e-45a2-8bde-3f1829eae9e9/category/2a8c9142-29af-4dd6-9bc0-8f5861e766de',\n",
       "    'label': 'Real Estate News'}],\n",
       "  'contentType': 'article',\n",
       "  'coverColor': 'C0DEED',\n",
       "  'iconUrl': 'http://storage.googleapis.com/site-assets/tWH7WySPByo3uihEWohLz5ZTo2J828AaTnFpHiUsvDo_icon-154168f4f01',\n",
       "  'id': 'feed/http://www.immonewsfeed.de/rss/newsfeed.php',\n",
       "  'partial': True,\n",
       "  'subscribers': 169,\n",
       "  'title': 'Immonews RSS Feed',\n",
       "  'topics': ['immobilien', 'immo', 'real estate'],\n",
       "  'updated': 1549235195265,\n",
       "  'velocity': 4.7,\n",
       "  'visualUrl': 'http://storage.googleapis.com/site-assets/tWH7WySPByo3uihEWohLz5ZTo2J828AaTnFpHiUsvDo_visual-154168f4f01',\n",
       "  'website': 'http://www.immonewsfeed.de/'},\n",
       " {'categories': [{'id': 'user/4f464ff9-623e-45a2-8bde-3f1829eae9e9/category/2a8c9142-29af-4dd6-9bc0-8f5861e766de',\n",
       "    'label': 'Real Estate News'}],\n",
       "  'contentType': 'article',\n",
       "  'coverColor': 'E9F0FF',\n",
       "  'coverUrl': 'https://storage.googleapis.com/site-assets/4v_RpGaaSAXvT2Bs8aaTO3EMdqI0rAzoIZdOrfYdn6o_cover-167814e96d0',\n",
       "  'iconUrl': 'https://storage.googleapis.com/site-assets/4v_RpGaaSAXvT2Bs8aaTO3EMdqI0rAzoIZdOrfYdn6o_icon-160f90c401f',\n",
       "  'id': 'feed/http://blog.immobilienscout24.de/feed/',\n",
       "  'partial': False,\n",
       "  'subscribers': 331,\n",
       "  'title': 'ImmobilienScout24 Blog',\n",
       "  'topics': ['immobilien'],\n",
       "  'updated': 1549283408924,\n",
       "  'velocity': 0.7,\n",
       "  'visualUrl': 'https://storage.googleapis.com/site-assets/4v_RpGaaSAXvT2Bs8aaTO3EMdqI0rAzoIZdOrfYdn6o_visual-160f90c401f',\n",
       "  'website': 'https://blog.immobilienscout24.de'},\n",
       " {'categories': [{'id': 'user/4f464ff9-623e-45a2-8bde-3f1829eae9e9/category/2a8c9142-29af-4dd6-9bc0-8f5861e766de',\n",
       "    'label': 'Real Estate News'}],\n",
       "  'contentType': 'article',\n",
       "  'coverColor': 'FFFFFF',\n",
       "  'coverUrl': 'https://storage.googleapis.com/site-assets/bQKkXy5cmm-X3n4LN5OkkjkiiKJk2_yeic_5hqvN8A8_cover-15bb41e472a',\n",
       "  'iconUrl': 'https://storage.googleapis.com/site-assets/bQKkXy5cmm-X3n4LN5OkkjkiiKJk2_yeic_5hqvN8A8_icon-163f0f20438',\n",
       "  'id': 'feed/http://www.ifma.org/Feeds/ifma-news',\n",
       "  'partial': False,\n",
       "  'subscribers': 263,\n",
       "  'title': 'IFMA News',\n",
       "  'topics': ['facility management',\n",
       "   'energy efficiency',\n",
       "   'hvac',\n",
       "   'architecture'],\n",
       "  'updated': 1549285246282,\n",
       "  'velocity': 1.1,\n",
       "  'visualUrl': 'https://storage.googleapis.com/site-assets/bQKkXy5cmm-X3n4LN5OkkjkiiKJk2_yeic_5hqvN8A8_visual-163f0f20438',\n",
       "  'website': 'http://www.ifma.org/'},\n",
       " {'categories': [{'id': 'user/4f464ff9-623e-45a2-8bde-3f1829eae9e9/category/2a8c9142-29af-4dd6-9bc0-8f5861e766de',\n",
       "    'label': 'Real Estate News'}],\n",
       "  'contentType': 'article',\n",
       "  'iconUrl': 'https://storage.googleapis.com/site-assets/iUJBEZ0t16JNn5gboRic0ZqvaO-Dp0W5X1EhHXrImLg_sicon-167dcd32edc',\n",
       "  'id': 'feed/http://www.jamesdearsley.co.uk/feed/',\n",
       "  'partial': True,\n",
       "  'state': 'dead',\n",
       "  'subscribers': 182,\n",
       "  'title': 'Everything PropTech',\n",
       "  'topics': ['proptech', 'property', 'real estate'],\n",
       "  'updated': 1536355909953,\n",
       "  'velocity': 0.1,\n",
       "  'visualUrl': 'https://storage.googleapis.com/site-assets/iUJBEZ0t16JNn5gboRic0ZqvaO-Dp0W5X1EhHXrImLg_svisual-167dcd32edc',\n",
       "  'website': 'http://www.jamesdearsley.co.uk'},\n",
       " {'categories': [{'id': 'user/4f464ff9-623e-45a2-8bde-3f1829eae9e9/category/2a8c9142-29af-4dd6-9bc0-8f5861e766de',\n",
       "    'label': 'Real Estate News'}],\n",
       "  'contentType': 'longform',\n",
       "  'coverColor': 'DEA537',\n",
       "  'coverUrl': 'https://storage.googleapis.com/site-assets/pAll0y5reb9EOfInG4eisUIzkoZc4xCx0HyK02_6FhU_cover-15b92c87ed3',\n",
       "  'iconUrl': 'https://storage.googleapis.com/site-assets/pAll0y5reb9EOfInG4eisUIzkoZc4xCx0HyK02_6FhU_icon-15b92c87ed3',\n",
       "  'id': 'feed/http://www.propertymanagementinsider.com/feed',\n",
       "  'partial': False,\n",
       "  'subscribers': 1195,\n",
       "  'title': 'Property Management Insider',\n",
       "  'topics': ['property management', 'real estate', 'property'],\n",
       "  'updated': 1548861344779,\n",
       "  'velocity': 1.8,\n",
       "  'visualUrl': 'https://storage.googleapis.com/site-assets/pAll0y5reb9EOfInG4eisUIzkoZc4xCx0HyK02_6FhU_visual-15b92c87ed3',\n",
       "  'website': 'https://www.propertymanagementinsider.com'},\n",
       " {'categories': [{'id': 'user/4f464ff9-623e-45a2-8bde-3f1829eae9e9/category/2a8c9142-29af-4dd6-9bc0-8f5861e766de',\n",
       "    'label': 'Real Estate News'}],\n",
       "  'contentType': 'longform',\n",
       "  'iconUrl': 'https://storage.googleapis.com/site-assets/hu94UCg3vuxifOgio_b16czFOOJs9C7thvt-mklFm78_sicon-161458c03ea',\n",
       "  'id': 'feed/http://realestatetechnews.com/blog?format=RSS',\n",
       "  'partial': False,\n",
       "  'state': 'dormant',\n",
       "  'subscribers': 143,\n",
       "  'title': 'RETN - Real Estate Tech News',\n",
       "  'topics': ['real estate',\n",
       "   'commercial real estate',\n",
       "   'tech',\n",
       "   'gis',\n",
       "   'finance',\n",
       "   'business',\n",
       "   'kickstarter'],\n",
       "  'updated': 1519734688256,\n",
       "  'velocity': 0.0,\n",
       "  'visualUrl': 'https://storage.googleapis.com/site-assets/hu94UCg3vuxifOgio_b16czFOOJs9C7thvt-mklFm78_svisual-161458c03ea',\n",
       "  'website': 'http://realestatetechnews.com/blog/'},\n",
       " {'categories': [{'id': 'user/4f464ff9-623e-45a2-8bde-3f1829eae9e9/category/2a8c9142-29af-4dd6-9bc0-8f5861e766de',\n",
       "    'label': 'Real Estate News'}],\n",
       "  'contentType': 'longform',\n",
       "  'coverColor': 'C6E2EE',\n",
       "  'coverUrl': 'http://storage.googleapis.com/site-assets/jC8FXwTDciYGLOAfM8hBAYM2nuXMg9GKL32sbB5vY-o_cover-15425eac27f',\n",
       "  'iconUrl': 'http://storage.googleapis.com/site-assets/jC8FXwTDciYGLOAfM8hBAYM2nuXMg9GKL32sbB5vY-o_icon-15425eac27f',\n",
       "  'id': 'feed/http://grundbuchblog.de/feed/',\n",
       "  'partial': False,\n",
       "  'state': 'dormant',\n",
       "  'subscribers': 126,\n",
       "  'title': 'GRUNDBUCHBLOG',\n",
       "  'topics': ['immobilien', 'finanzen'],\n",
       "  'updated': 1531512327185,\n",
       "  'velocity': 0.0,\n",
       "  'visualUrl': 'http://storage.googleapis.com/site-assets/jC8FXwTDciYGLOAfM8hBAYM2nuXMg9GKL32sbB5vY-o_visual-15425eac27f',\n",
       "  'website': 'http://grundbuchblog.de'},\n",
       " {'categories': [{'id': 'user/4f464ff9-623e-45a2-8bde-3f1829eae9e9/category/2a8c9142-29af-4dd6-9bc0-8f5861e766de',\n",
       "    'label': 'Real Estate News'}],\n",
       "  'id': 'feed/http://www.jgk.be.ch/jgk/de/index/direktion/organisation/hra/_jcr_content/middlePar/meldungslisteneu_50a.rss',\n",
       "  'subscribers': 1,\n",
       "  'title': 'Meldungen aus dem Handelsregisteramt des Kantons Bern',\n",
       "  'updated': 1541074904219,\n",
       "  'velocity': 0.1,\n",
       "  'website': 'https://www.jgk.be.ch/jgk/de/index/direktion/organisation/hra.html?utm_source=rss&utm_medium=Meldungen+aus+dem+Handelsregisteramt+des+Kantons+Bern&utm_campaign=Handelsregisteramt+des+Kantons+Bern'},\n",
       " {'categories': [{'id': 'user/4f464ff9-623e-45a2-8bde-3f1829eae9e9/category/DS Blogs',\n",
       "    'label': 'DS Blogs'}],\n",
       "  'contentType': 'article',\n",
       "  'iconUrl': 'https://storage.googleapis.com/site-assets/AKvjvkjTuE72adHuLPtouEx2NRf_tlqD937TlYjXqWU_sicon-15ddb0bc6ec',\n",
       "  'id': 'feed/http://www.wildml.com/feed/',\n",
       "  'partial': True,\n",
       "  'state': 'dormant',\n",
       "  'subscribers': 3879,\n",
       "  'title': 'WildML',\n",
       "  'topics': ['machine learning',\n",
       "   'data science',\n",
       "   'ai',\n",
       "   'tech',\n",
       "   'deep learning'],\n",
       "  'updated': 1518329768061,\n",
       "  'velocity': 0.0,\n",
       "  'visualUrl': 'https://storage.googleapis.com/site-assets/AKvjvkjTuE72adHuLPtouEx2NRf_tlqD937TlYjXqWU_svisual-15ddb0bc6ec',\n",
       "  'website': 'http://www.wildml.com'},\n",
       " {'categories': [{'id': 'user/4f464ff9-623e-45a2-8bde-3f1829eae9e9/category/2a8c9142-29af-4dd6-9bc0-8f5861e766de',\n",
       "    'label': 'Real Estate News'}],\n",
       "  'id': 'feed/https://proptechnews.ch/feed/',\n",
       "  'subscribers': 4,\n",
       "  'title': 'PropTech News',\n",
       "  'updated': 1549005469989,\n",
       "  'velocity': 1.1,\n",
       "  'website': 'https://proptechnews.ch'},\n",
       " {'categories': [{'id': 'user/4f464ff9-623e-45a2-8bde-3f1829eae9e9/category/DS Blogs',\n",
       "    'label': 'DS Blogs'}],\n",
       "  'contentType': 'longform',\n",
       "  'iconUrl': 'https://storage.googleapis.com/site-assets/yoh1uBNmx2VU6h91Xmjqd93y-EqZ4gtU3H9YEngsERw_sicon-15b645ddd20',\n",
       "  'id': 'feed/https://mappingbabel.wordpress.com/feed/',\n",
       "  'partial': False,\n",
       "  'subscribers': 1314,\n",
       "  'title': 'Import AI',\n",
       "  'topics': ['machine learning', 'data science', 'ai', 'tech'],\n",
       "  'updated': 1549306048147,\n",
       "  'velocity': 1.1,\n",
       "  'visualUrl': 'https://storage.googleapis.com/site-assets/yoh1uBNmx2VU6h91Xmjqd93y-EqZ4gtU3H9YEngsERw_svisual-15b645ddd20',\n",
       "  'website': 'https://jack-clark.net'},\n",
       " {'categories': [{'id': 'user/4f464ff9-623e-45a2-8bde-3f1829eae9e9/category/DS Blogs',\n",
       "    'label': 'DS Blogs'}],\n",
       "  'coverColor': 'C0DEED',\n",
       "  'coverUrl': 'https://storage.googleapis.com/site-assets/IbVsHz6L7PXm_Sme5Bb7u1cW8NmnfO-MdoqpCS8T0j4_cover-15b96effd8c',\n",
       "  'iconUrl': 'https://storage.googleapis.com/site-assets/IbVsHz6L7PXm_Sme5Bb7u1cW8NmnfO-MdoqpCS8T0j4_icon-15f481d9817',\n",
       "  'id': 'feed/https://jalammar.github.io/feed.xml',\n",
       "  'subscribers': 149,\n",
       "  'title': 'Jay Alammar',\n",
       "  'topics': ['machine learning', 'programming', 'ai', 'deep learning'],\n",
       "  'updated': 1543853355541,\n",
       "  'velocity': 0.1,\n",
       "  'visualUrl': 'https://storage.googleapis.com/site-assets/IbVsHz6L7PXm_Sme5Bb7u1cW8NmnfO-MdoqpCS8T0j4_visual-15f481d9817',\n",
       "  'website': 'http://jalammar.github.io/'},\n",
       " {'categories': [{'id': 'user/4f464ff9-623e-45a2-8bde-3f1829eae9e9/category/DS Blogs',\n",
       "    'label': 'DS Blogs'}],\n",
       "  'contentType': 'article',\n",
       "  'iconUrl': 'https://storage.googleapis.com/test-site-assets/ycZq4kSKHUSKenXbLcJeyA3JYSM_zY89qgB5ndrd5Xs_oicon-16587fd9702',\n",
       "  'id': 'feed/https://deepmind.com/blog/feed/basic/',\n",
       "  'partial': True,\n",
       "  'subscribers': 4646,\n",
       "  'title': 'DeepMind ',\n",
       "  'topics': ['machine learning', 'ai', 'tech', 'data science'],\n",
       "  'updated': 1548368840174,\n",
       "  'velocity': 0.2,\n",
       "  'visualUrl': 'https://storage.googleapis.com/test-site-assets/ycZq4kSKHUSKenXbLcJeyA3JYSM_zY89qgB5ndrd5Xs_ovisual-16587fd9702',\n",
       "  'website': 'https://deepmind.com/blog/'}]"
      ]
     },
     "execution_count": 53,
     "metadata": {},
     "output_type": "execute_result"
    }
   ],
   "source": [
    "subscriptions = get_subscriptions(headers)\n",
    "subscriptions"
   ]
  },
  {
   "cell_type": "code",
   "execution_count": 31,
   "metadata": {},
   "outputs": [],
   "source": [
    "headers[\"Authorization\"] = headers[\"Authorization\"].replace(\"1\", \"2\")"
   ]
  },
  {
   "cell_type": "code",
   "execution_count": 9,
   "metadata": {},
   "outputs": [],
   "source": [
    "err = {'errorCode': 401,\n",
    " 'errorId': 'ap5int-sv2.2019020412.346719',\n",
    " 'errorMessage': 'token expired: 1541548800000 (-7761946)'}"
   ]
  },
  {
   "cell_type": "code",
   "execution_count": 11,
   "metadata": {},
   "outputs": [
    {
     "data": {
      "text/plain": [
       "401"
      ]
     },
     "execution_count": 11,
     "metadata": {},
     "output_type": "execute_result"
    }
   ],
   "source": [
    "err[\"errorCode\"]"
   ]
  },
  {
   "cell_type": "markdown",
   "metadata": {},
   "source": [
    "### Categories"
   ]
  },
  {
   "cell_type": "code",
   "execution_count": 12,
   "metadata": {},
   "outputs": [],
   "source": [
    "# get all categories\n",
    "def get_categories(headers):   \n",
    "    '''Get all categories for current user\n",
    "\n",
    "    Parameters\n",
    "    ----------\n",
    "    headers: dict\n",
    "        Authenication information for feedly API\n",
    "\n",
    "    Returns\n",
    "    -------\n",
    "    list of dictionaries\n",
    "        list of categories with metadata \n",
    "    '''\n",
    "    service = \"http://cloud.feedly.com/v3/categories/\"\n",
    "    res = requests.get(url=service, headers=headers)\n",
    "    \n",
    "    return res.json()"
   ]
  },
  {
   "cell_type": "code",
   "execution_count": 13,
   "metadata": {},
   "outputs": [
    {
     "data": {
      "text/plain": [
       "[{'created': 1532164162834,\n",
       "  'id': 'user/4f464ff9-623e-45a2-8bde-3f1829eae9e9/category/2a8c9142-29af-4dd6-9bc0-8f5861e766de',\n",
       "  'label': 'Real Estate News'},\n",
       " {'created': 1532175354117,\n",
       "  'id': 'user/4f464ff9-623e-45a2-8bde-3f1829eae9e9/category/7a329076-9761-474f-b587-1c623db67516',\n",
       "  'label': 'Fun'},\n",
       " {'id': 'user/4f464ff9-623e-45a2-8bde-3f1829eae9e9/category/DS Blogs',\n",
       "  'label': 'DS Blogs'},\n",
       " {'id': 'user/4f464ff9-623e-45a2-8bde-3f1829eae9e9/category/News',\n",
       "  'label': 'News'},\n",
       " {'id': 'user/4f464ff9-623e-45a2-8bde-3f1829eae9e9/category/global.must',\n",
       "  'label': 'Must Read'}]"
      ]
     },
     "execution_count": 13,
     "metadata": {},
     "output_type": "execute_result"
    }
   ],
   "source": [
    "categories = get_categories(headers)\n",
    "categories"
   ]
  },
  {
   "cell_type": "markdown",
   "metadata": {},
   "source": [
    "### Feed Metadata"
   ]
  },
  {
   "cell_type": "code",
   "execution_count": 15,
   "metadata": {},
   "outputs": [],
   "source": [
    "def get_feed_metadata(feedURI, headers):\n",
    "    '''Get metadata such as Topic, language, number of subscribers etc. on a given feed\n",
    "\n",
    "    Parameters\n",
    "    ----------\n",
    "    feedURI: str\n",
    "        Feed Identifier (e.g. 'feed/http://abc.ch/xy')\n",
    "    headers: dict\n",
    "        Authenication information for feedly API\n",
    "    Returns\n",
    "    -------\n",
    "    dict\n",
    "        dictionary containing metadata on given feed\n",
    "    '''\n",
    "    feedURI = urllib.parse.quote(feedURI, safe=\"\")\n",
    "    service = \"http://cloud.feedly.com/v3/feeds/\"\n",
    "    res = requests.get(url=service+feedURI, \n",
    "                       headers=headers)\n",
    "    return res.json()"
   ]
  },
  {
   "cell_type": "code",
   "execution_count": 16,
   "metadata": {},
   "outputs": [
    {
     "data": {
      "text/plain": [
       "{'contentType': 'article',\n",
       " 'feedId': 'feed/http://feeds.feedburner.com/dkriesel-de',\n",
       " 'iconUrl': 'http://storage.googleapis.com/site-assets/FfO7w7dVd7aWIlbEPQOM1YRKE18F6oqPLuWxonhoupk_sicon-154270f726b',\n",
       " 'id': 'feed/http://feeds.feedburner.com/dkriesel-de',\n",
       " 'language': 'de',\n",
       " 'partial': False,\n",
       " 'subscribers': 654,\n",
       " 'title': 'D. Kriesel',\n",
       " 'topics': ['tech', 'news', 'fun'],\n",
       " 'updated': 1531033029602,\n",
       " 'velocity': 0.1,\n",
       " 'visualUrl': 'http://storage.googleapis.com/site-assets/FfO7w7dVd7aWIlbEPQOM1YRKE18F6oqPLuWxonhoupk_svisual-154270f726b',\n",
       " 'website': 'http://www.dkriesel.com/'}"
      ]
     },
     "execution_count": 16,
     "metadata": {},
     "output_type": "execute_result"
    }
   ],
   "source": [
    "feedID = \"feed/http://feeds.feedburner.com/dkriesel-de\"\n",
    "feedMetaData = get_feed_metadata(feedID, headers)\n",
    "feedMetaData"
   ]
  },
  {
   "cell_type": "markdown",
   "metadata": {},
   "source": [
    "### Streams"
   ]
  },
  {
   "cell_type": "code",
   "execution_count": 17,
   "metadata": {},
   "outputs": [],
   "source": [
    "def get_stream_ids(streamID, headers, count=100, continuation=None):\n",
    "    '''Get stream ids for a given feedID\n",
    "\n",
    "    Parameters\n",
    "    ----------\n",
    "    streamID: str\n",
    "        stream identifier (e.g. 'feed/http://abc.ch/xy')\n",
    "    headers: dict\n",
    "        Authenication information for feedly API\n",
    "        \n",
    "    Returns\n",
    "    -------\n",
    "    list\n",
    "        list of dictionarys \n",
    "    '''\n",
    "    query = {\"streamId\": streamID,\n",
    "            \"count\": count}\n",
    "    service = \"http://cloud.feedly.com/v3/streams/ids?\"\n",
    "    \n",
    "    res = requests.get(url=service, params=query, headers=headers)\n",
    "    return res.json()"
   ]
  },
  {
   "cell_type": "code",
   "execution_count": 18,
   "metadata": {},
   "outputs": [
    {
     "data": {
      "text/plain": [
       "{'continuation': '1594c97d95c:ea848d:ebaea9dd',\n",
       " 'ids': ['FfO7w7dVd7aWIlbEPQOM1YRKE18F6oqPLuWxonhoupk=_16478ae0be2:1e4e43f:b83afde1',\n",
       "  'FfO7w7dVd7aWIlbEPQOM1YRKE18F6oqPLuWxonhoupk=_1638758c563:11b93bc:abeb7260',\n",
       "  'FfO7w7dVd7aWIlbEPQOM1YRKE18F6oqPLuWxonhoupk=_15fdf18cfcd:1ab5d4:1cefc59',\n",
       "  'FfO7w7dVd7aWIlbEPQOM1YRKE18F6oqPLuWxonhoupk=_15eadf98f76:69985:803daed2',\n",
       "  'FfO7w7dVd7aWIlbEPQOM1YRKE18F6oqPLuWxonhoupk=_15e4d5d45a4:17124e8:81bdf694',\n",
       "  'FfO7w7dVd7aWIlbEPQOM1YRKE18F6oqPLuWxonhoupk=_15e47f90162:f23c5c:57a3f9c6',\n",
       "  'FfO7w7dVd7aWIlbEPQOM1YRKE18F6oqPLuWxonhoupk=_15dbc2fa576:182d20:6c0c5382',\n",
       "  'FfO7w7dVd7aWIlbEPQOM1YRKE18F6oqPLuWxonhoupk=_15b2b2bbcd4:240aaf0:854e2c06',\n",
       "  'FfO7w7dVd7aWIlbEPQOM1YRKE18F6oqPLuWxonhoupk=_159611c9382:2d06d07:ebaea9dd',\n",
       "  'FfO7w7dVd7aWIlbEPQOM1YRKE18F6oqPLuWxonhoupk=_1594c97d95c:ea848d:ebaea9dd']}"
      ]
     },
     "execution_count": 18,
     "metadata": {},
     "output_type": "execute_result"
    }
   ],
   "source": [
    "get_stream_ids(\"feed/http://feeds.feedburner.com/dkriesel-de\", headers, count=10)"
   ]
  },
  {
   "cell_type": "code",
   "execution_count": 19,
   "metadata": {},
   "outputs": [],
   "source": [
    "def get_feed_content(streamID, headers, count=100, continuation=None):\n",
    "    '''Get contents of a given feed\n",
    "\n",
    "    Parameters\n",
    "    ----------\n",
    "    streamID: str\n",
    "        stream identifier (e.g. 'feed/http://abc.ch/xy')\n",
    "    headers: dict\n",
    "        Authenication information for feedly API\n",
    "    count: int\n",
    "        number of results to return\n",
    "    continuation:\n",
    "        continuation-string from previous call\n",
    "        \n",
    "    Returns\n",
    "    -------\n",
    "    list\n",
    "        dictionary\n",
    "    '''\n",
    "    \n",
    "    query = {\"streamId\": streamID,\n",
    "            \"count\": count,\n",
    "            \"continuation\": continuation}\n",
    "    service = \"https://cloud.feedly.com/v3/streams/contents?\" + urllib.parse.urlencode(query)\n",
    "\n",
    "    res = requests.get(url=service, headers=headers)\n",
    "    return res.json()"
   ]
  },
  {
   "cell_type": "code",
   "execution_count": 20,
   "metadata": {},
   "outputs": [],
   "source": [
    "feedData = get_feed_content(\"feed/http://feeds.feedburner.com/dkriesel-de\", headers, count=100)"
   ]
  },
  {
   "cell_type": "markdown",
   "metadata": {},
   "source": [
    "## Explore Feed Data"
   ]
  },
  {
   "cell_type": "code",
   "execution_count": 21,
   "metadata": {},
   "outputs": [
    {
     "data": {
      "text/plain": [
       "dict_keys(['updated', 'alternate', 'continuation', 'direction', 'id', 'items', 'title'])"
      ]
     },
     "execution_count": 21,
     "metadata": {},
     "output_type": "execute_result"
    }
   ],
   "source": [
    "feedData.keys()"
   ]
  },
  {
   "cell_type": "code",
   "execution_count": 22,
   "metadata": {},
   "outputs": [
    {
     "data": {
      "text/plain": [
       "100"
      ]
     },
     "execution_count": 22,
     "metadata": {},
     "output_type": "execute_result"
    }
   ],
   "source": [
    "feedContent = feedData[\"items\"]\n",
    "len(feedContent)"
   ]
  },
  {
   "cell_type": "code",
   "execution_count": 23,
   "metadata": {},
   "outputs": [
    {
     "data": {
      "text/plain": [
       "dict_keys(['canonical', 'tags', 'categories', 'alternate', 'keywords', 'originId', 'engagement', 'summary', 'recrawled', 'title', 'visual', 'fingerprint', 'crawled', 'author', 'id', 'unread', 'published', 'origin'])"
      ]
     },
     "execution_count": 23,
     "metadata": {},
     "output_type": "execute_result"
    }
   ],
   "source": [
    "feedContent[0].keys()"
   ]
  },
  {
   "cell_type": "code",
   "execution_count": 24,
   "metadata": {},
   "outputs": [
    {
     "data": {
      "text/plain": [
       "{'htmlUrl': 'http://www.dkriesel.com/',\n",
       " 'streamId': 'feed/http://feeds.feedburner.com/dkriesel-de',\n",
       " 'title': 'D. Kriesel'}"
      ]
     },
     "execution_count": 24,
     "metadata": {},
     "output_type": "execute_result"
    }
   ],
   "source": [
    "feedContent[0][\"origin\"]"
   ]
  },
  {
   "cell_type": "code",
   "execution_count": 25,
   "metadata": {},
   "outputs": [],
   "source": [
    "# Relevant fields for each piece of content:  \n",
    "# author:      author  \n",
    "# canonical:   direct link to article  \n",
    "# engagement:  popularity metric(?)\n",
    "# id:          UID\n",
    "# keywords:    list of keywords\n",
    "# published:   published date\n",
    "# summary:     summary dict x[\"summary\"][\"content\"]\n",
    "# title:       title of article\n",
    "# visual: url to main visual  "
   ]
  },
  {
   "cell_type": "code",
   "execution_count": 26,
   "metadata": {},
   "outputs": [
    {
     "data": {
      "text/plain": [
       "'<div>\\n<p>\\n<img alt=\"\" width=\"140\" src=\"http://www.dkriesel.com/_media/splashpics/laugh2.png?w=140&tok=3ec15d\"> Die bahnbrechenden Fortschritte der SPD im Hinblick auf ihr „Projekt 5%“ zwingen mich zur Neuausrichtung einiger Plots meiner Sonntagsfragen-Liveansicht (<a rel=\"nofollow noopener\" href=\"http://www.dkriesel.com/sonntagsfrage\" title=\"http://www.dkriesel.com/sonntagsfrage\" target=\"_blank\">http://www.dkriesel.com/sonntagsfrage</a>). In den Plots, die den Fokus auf die kleinen Parteien legen (eigentlich AfD, Grüne, Linke, FDP) wird die SPD jetzt mit angezeigt, sofern sie in den Prozentbereich der kleinen Parteien vordringt. Diese Konstellation hatte ich mir beim programmieren nicht träumen lassen. Danke für eure Zuschriften. Was ich mache, wenn die SPD das Anschlussvorhaben „Projekt SPD – Sonstige Partei Deutschlands“ in Angriff nimmt und den Bereich der kleinen Parteien wieder nach unten verlässt, überlege ich mir noch. <img alt=\"8-)\" src=\"http://www.dkriesel.com/lib/images/smileys/icon_cool.gif\">\\n</p>\\n<p>\\nAuch anderweitig ist die Sonntagsfragen-Ansicht nun auf den neuesten Stand gebracht und die Diagramm-Zeiträume sind sinnvoller gesetzt (30-Tage-Ansicht ausgetauscht durch 90 Tage, und die Ansicht ab Start 2017 ist ausgetauscht in eine Ansicht „seit letzter Wahl“). Erstere Ansicht findet ihr nachfolgend. </p>\\n<p>\\n<a rel=\"noopener\" href=\"http://www.dkriesel.com/_media/sonntagsfrage_90tage.png\" title=\"sonntagsfrage_90tage.png\" target=\"_blank\"><img alt=\"\" width=\"700\" src=\"http://www.dkriesel.com/_media/sonntagsfrage_90tage.png?w=700&tok=797823\"></a>\\n</p>\\n</div>\\n<p>\\n<small>\\nEintrag vom 2018-07-08 um 08:15 , zuletzt geändert am 2018-07-08 um 11:38 by\\nDavid Kriesel.\\nTags: <a href=\"http://www.dkriesel.com/start?btng%5Bpost%5D%5Btags%5D=Allensbach\">Allensbach</a>, <a href=\"http://www.dkriesel.com/start?btng%5Bpost%5D%5Btags%5D=Bundestagswahl\">Bundestagswahl</a>, <a href=\"http://www.dkriesel.com/start?btng%5Bpost%5D%5Btags%5D=Emnid\">Emnid</a>, <a href=\"http://www.dkriesel.com/start?btng%5Bpost%5D%5Btags%5D=Forsa\">Forsa</a>, <a href=\"http://www.dkriesel.com/start?btng%5Bpost%5D%5Btags%5D=Forschungsgruppe%20Wahlen\">Forschungsgruppe Wahlen</a>, <a href=\"http://www.dkriesel.com/start?btng%5Bpost%5D%5Btags%5D=GMS\">GMS</a>, <a href=\"http://www.dkriesel.com/start?btng%5Bpost%5D%5Btags%5D=Infratest\">Infratest</a>, <a href=\"http://www.dkriesel.com/start?btng%5Bpost%5D%5Btags%5D=Parteien\">Parteien</a>, <a href=\"http://www.dkriesel.com/start?btng%5Bpost%5D%5Btags%5D=Projekt%205%25\">Projekt 5%</a>, <a href=\"http://www.dkriesel.com/start?btng%5Bpost%5D%5Btags%5D=SPD\">SPD</a>, <a href=\"http://www.dkriesel.com/start?btng%5Bpost%5D%5Btags%5D=Sonntagsfrage\">Sonntagsfrage</a>, <a href=\"http://www.dkriesel.com/start?btng%5Bpost%5D%5Btags%5D=Sonstige%20Partei%20Deutschlands\">Sonstige Partei Deutschlands</a>, <a href=\"http://www.dkriesel.com/start?btng%5Bpost%5D%5Btags%5D=dimap%20und%20INSA\">dimap und INSA</a>.\\n</small>\\n</p><img width=\"1\" alt=\"\" src=\"http://feeds.feedburner.com/~r/dkriesel-de/~4/IfQGildvR9U\" height=\"1\">'"
      ]
     },
     "execution_count": 26,
     "metadata": {},
     "output_type": "execute_result"
    }
   ],
   "source": [
    "feedContent[0][\"summary\"][\"content\"]"
   ]
  },
  {
   "cell_type": "markdown",
   "metadata": {},
   "source": [
    "\n",
    "### Get content for all feeds in category"
   ]
  },
  {
   "cell_type": "code",
   "execution_count": 27,
   "metadata": {},
   "outputs": [],
   "source": [
    "def get_feedlist(category, headers):\n",
    "    '''get all feeds for a given category\n",
    "\n",
    "    Parameters\n",
    "    ----------\n",
    "    category: str\n",
    "        name of the category to retrieve \n",
    "    headers: dict\n",
    "        Authenication information for feedly API\n",
    "        \n",
    "    Returns\n",
    "    -------\n",
    "    list\n",
    "        list of feed IDs \n",
    "    '''\n",
    "    subs = get_subscriptions(headers)\n",
    "    \n",
    "    feeds = []\n",
    "    \n",
    "    for s in subs:\n",
    "        if s[\"categories\"][0][\"label\"] == category:\n",
    "            feeds.append(s[\"id\"])\n",
    "    \n",
    "    return feeds"
   ]
  },
  {
   "cell_type": "code",
   "execution_count": 28,
   "metadata": {},
   "outputs": [
    {
     "data": {
      "text/plain": [
       "['feed/http://www.immonewsfeed.de/rss/newsfeed.php',\n",
       " 'feed/http://blog.immobilienscout24.de/feed/',\n",
       " 'feed/http://www.ifma.org/Feeds/ifma-news',\n",
       " 'feed/http://www.jamesdearsley.co.uk/feed/',\n",
       " 'feed/http://www.propertymanagementinsider.com/feed',\n",
       " 'feed/http://realestatetechnews.com/blog?format=RSS',\n",
       " 'feed/http://grundbuchblog.de/feed/',\n",
       " 'feed/http://www.jgk.be.ch/jgk/de/index/direktion/organisation/hra/_jcr_content/middlePar/meldungslisteneu_50a.rss']"
      ]
     },
     "execution_count": 28,
     "metadata": {},
     "output_type": "execute_result"
    }
   ],
   "source": [
    "feedlist = get_feedlist(\"Real Estate News\", headers)\n",
    "feedlist"
   ]
  },
  {
   "cell_type": "code",
   "execution_count": 29,
   "metadata": {},
   "outputs": [],
   "source": [
    "def download_feeds(feedIDs, headers, count=10):\n",
    "    '''download the contents for a list of feeds \n",
    "\n",
    "    Parameters\n",
    "    ----------\n",
    "    feedIDs: list\n",
    "        list of feedIDs to retrieve\n",
    "    headers: dict\n",
    "        Authenication information for feedly API\n",
    "    count: int\n",
    "        number of items to retrieve per feed\n",
    "        \n",
    "    Returns\n",
    "    -------\n",
    "    list\n",
    "        list of feed IDs \n",
    "    '''\n",
    "    feedContents = {}\n",
    "    \n",
    "    for f in feedIDs:\n",
    "        feedContents[f] = get_feed_content(f, headers, count)\n",
    "        \n",
    "    return feedContents        "
   ]
  },
  {
   "cell_type": "code",
   "execution_count": 30,
   "metadata": {},
   "outputs": [],
   "source": [
    "feedData = download_feeds(feedlist, headers, count=10)"
   ]
  },
  {
   "cell_type": "code",
   "execution_count": 31,
   "metadata": {},
   "outputs": [
    {
     "data": {
      "text/plain": [
       "dict_keys(['updated', 'alternate', 'continuation', 'direction', 'id', 'items', 'title'])"
      ]
     },
     "execution_count": 31,
     "metadata": {},
     "output_type": "execute_result"
    }
   ],
   "source": [
    "feedData['feed/http://www.immonewsfeed.de/rss/newsfeed.php'].keys()"
   ]
  },
  {
   "cell_type": "code",
   "execution_count": 32,
   "metadata": {},
   "outputs": [
    {
     "data": {
      "text/plain": [
       "dict_keys(['feed/http://www.jamesdearsley.co.uk/feed/', 'feed/http://www.ifma.org/Feeds/ifma-news', 'feed/http://www.propertymanagementinsider.com/feed', 'feed/http://realestatetechnews.com/blog?format=RSS', 'feed/http://www.immonewsfeed.de/rss/newsfeed.php', 'feed/http://www.jgk.be.ch/jgk/de/index/direktion/organisation/hra/_jcr_content/middlePar/meldungslisteneu_50a.rss', 'feed/http://grundbuchblog.de/feed/', 'feed/http://blog.immobilienscout24.de/feed/'])"
      ]
     },
     "execution_count": 32,
     "metadata": {},
     "output_type": "execute_result"
    }
   ],
   "source": [
    "feedData.keys()"
   ]
  },
  {
   "cell_type": "code",
   "execution_count": 33,
   "metadata": {},
   "outputs": [
    {
     "data": {
      "text/plain": [
       "dict_keys(['feed/http://www.jamesdearsley.co.uk/feed/', 'feed/http://www.ifma.org/Feeds/ifma-news', 'feed/http://www.propertymanagementinsider.com/feed', 'feed/http://realestatetechnews.com/blog?format=RSS', 'feed/http://www.immonewsfeed.de/rss/newsfeed.php', 'feed/http://www.jgk.be.ch/jgk/de/index/direktion/organisation/hra/_jcr_content/middlePar/meldungslisteneu_50a.rss', 'feed/http://grundbuchblog.de/feed/', 'feed/http://blog.immobilienscout24.de/feed/'])"
      ]
     },
     "execution_count": 33,
     "metadata": {},
     "output_type": "execute_result"
    }
   ],
   "source": [
    "feedData.keys()"
   ]
  },
  {
   "cell_type": "code",
   "execution_count": 34,
   "metadata": {},
   "outputs": [
    {
     "name": "stdout",
     "output_type": "stream",
     "text": [
      "10\n",
      "10\n",
      "10\n",
      "10\n",
      "10\n",
      "2\n",
      "10\n",
      "10\n"
     ]
    }
   ],
   "source": [
    "for f in feedData: print(len(feedData[f][\"items\"]))"
   ]
  },
  {
   "cell_type": "code",
   "execution_count": 35,
   "metadata": {},
   "outputs": [],
   "source": [
    "with open(\"test.txt\", \"r+\") as f:\n",
    "    a = f.readlines()\n",
    "    f.write(\"\\na asdfasdf asdfasd asdfa\")"
   ]
  },
  {
   "cell_type": "code",
   "execution_count": 36,
   "metadata": {},
   "outputs": [
    {
     "data": {
      "text/plain": [
       "['ddddxxx', 'asdfasdf', 'asdfasdf', 'asdfasdf\\n']"
      ]
     },
     "execution_count": 36,
     "metadata": {},
     "output_type": "execute_result"
    }
   ],
   "source": [
    "a[2].split(\" \")"
   ]
  },
  {
   "cell_type": "code",
   "execution_count": 37,
   "metadata": {},
   "outputs": [
    {
     "data": {
      "text/plain": [
       "['adsölkfjöakdslfadsölkfjöakdslfadsölkfjöakdslfadsölkfjöakdslfadsölkfjöakdslfadsölkfjöakdslfadsölkfjöakdslfadsölkfjöakdslffffffffffddddxxxddddxxx\\n',\n",
       " 'ddddxxx\\n',\n",
       " 'ddddxxx asdfasdf asdfasdf asdfasdf\\n',\n",
       " ' asdfasdf asdfasd asdfa\\n',\n",
       " ' asdfasdf asdfasd asdfa\\n',\n",
       " 'a asdfasdf asdfasd asdfa\\n',\n",
       " 'a asdfasdf asdfasd asdfa']"
      ]
     },
     "execution_count": 37,
     "metadata": {},
     "output_type": "execute_result"
    }
   ],
   "source": [
    "a"
   ]
  },
  {
   "cell_type": "code",
   "execution_count": 38,
   "metadata": {},
   "outputs": [],
   "source": [
    "b = []\n",
    "for i in a:\n",
    "    b.append(i.split(\" \"))"
   ]
  },
  {
   "cell_type": "code",
   "execution_count": 72,
   "metadata": {},
   "outputs": [
    {
     "data": {
      "text/plain": [
       "'Property Management Insider'"
      ]
     },
     "execution_count": 72,
     "metadata": {},
     "output_type": "execute_result"
    }
   ],
   "source": [
    "feedData['feed/http://www.propertymanagementinsider.com/feed'].keys()\n",
    "feedData['feed/http://www.propertymanagementinsider.com/feed'][\"title\"]"
   ]
  },
  {
   "cell_type": "code",
   "execution_count": 80,
   "metadata": {},
   "outputs": [],
   "source": [
    "def restructure_data(feedData):\n",
    "    '''restructure the feedly data structure so each item in the dictionary is an \n",
    "    article identified by its id. information stored on feed-level is added to each article object.\n",
    "\n",
    "        Parameters\n",
    "        ----------\n",
    "        feedData: dictionary\n",
    "            dictionary returned by download_feeds\n",
    "    \n",
    "        Returns\n",
    "        -------\n",
    "        dictionary\n",
    "            dictionary where each item is an article \n",
    "    '''\n",
    "\n",
    "    articles = {}\n",
    "\n",
    "    for f in feedData.keys():\n",
    "        for i in feedData[f][\"items\"]:\n",
    "            i[\"feedId\"]    = feedData[f][\"id\"]\n",
    "            i[\"feedTitle\"] = feedData[f][\"title\"]\n",
    "\n",
    "            articles[i[\"id\"]] = i\n",
    "    \n",
    "    return articles\n",
    "\n"
   ]
  },
  {
   "cell_type": "code",
   "execution_count": 111,
   "metadata": {},
   "outputs": [],
   "source": [
    "feedDataSimple = restructure_data(feedData)"
   ]
  },
  {
   "cell_type": "code",
   "execution_count": 112,
   "metadata": {},
   "outputs": [],
   "source": [
    "DATA_PATH   = \"D:/ZHAW/Masterarbeit/Data/feedlyData.json\"\n",
    "import os"
   ]
  },
  {
   "cell_type": "code",
   "execution_count": 114,
   "metadata": {},
   "outputs": [
    {
     "name": "stdout",
     "output_type": "stream",
     "text": [
      "existing file\n",
      "dict_keys(['hu94UCg3vuxifOgio/b16czFOOJs9C7thvt+mklFm78=_161955eecb4:71c9f92:3c0bb656', 'tWH7WySPByo3uihEWohLz5ZTo2J828AaTnFpHiUsvDo=_166411d098e:3cb700f:a84931b0', 'bQKkXy5cmm+X3n4LN5OkkjkiiKJk2/yeic/5hqvN8A8=_1653933e802:61846c9:6f86c10b', 'jC8FXwTDciYGLOAfM8hBAYM2nuXMg9GKL32sbB5vY+o=_164953f8c11:a2eb3d4:4e0f6129', 'bQKkXy5cmm+X3n4LN5OkkjkiiKJk2/yeic/5hqvN8A8=_16631626aa7:24d5b57:f06daea', 'jC8FXwTDciYGLOAfM8hBAYM2nuXMg9GKL32sbB5vY+o=_15d99015c4f:54a9563:9493fdce', 'hu94UCg3vuxifOgio/b16czFOOJs9C7thvt+mklFm78=_161b334e3b9:9cc1993:541f3c40', 'pAll0y5reb9EOfInG4eisUIzkoZc4xCx0HyK02/6FhU=_1664554162f:416ce71:f06daea', 'hu94UCg3vuxifOgio/b16czFOOJs9C7thvt+mklFm78=_161d73f0a00:a84bf:7c9981b6', 'iUJBEZ0t16JNn5gboRic0ZqvaO+Dp0W5X1EhHXrImLg=_161cc5a5ade:bfda50a:7157a206', 'iUJBEZ0t16JNn5gboRic0ZqvaO+Dp0W5X1EhHXrImLg=_161f06002a4:260022d:923c4a60', 'bQKkXy5cmm+X3n4LN5OkkjkiiKJk2/yeic/5hqvN8A8=_1663b022794:33cb3cb:a84931b0', 'pAll0y5reb9EOfInG4eisUIzkoZc4xCx0HyK02/6FhU=_1653e15c604:6848cd3:6f86c10b', 'jC8FXwTDciYGLOAfM8hBAYM2nuXMg9GKL32sbB5vY+o=_164953f8c11:a2eb3d3:4e0f6129', 'bQKkXy5cmm+X3n4LN5OkkjkiiKJk2/yeic/5hqvN8A8=_1663e2dd251:36da8f1:f06daea', 'iUJBEZ0t16JNn5gboRic0ZqvaO+Dp0W5X1EhHXrImLg=_163e7f14b78:78c85c9:7cfe07d6', 'pAll0y5reb9EOfInG4eisUIzkoZc4xCx0HyK02/6FhU=_1658c8f3f2e:dcca36:4db7ac35', 'tWH7WySPByo3uihEWohLz5ZTo2J828AaTnFpHiUsvDo=_16617e9236c:449e8c:f06daea', 'hu94UCg3vuxifOgio/b16czFOOJs9C7thvt+mklFm78=_16191e765d8:6d404cb:541f3c40', '4v/RpGaaSAXvT2Bs8aaTO3EMdqI0rAzoIZdOrfYdn6o=_164370cdd83:16bf1c0:aa514a55', 'hu94UCg3vuxifOgio/b16czFOOJs9C7thvt+mklFm78=_1618f4ca115:6709562:7157a206', 'tWH7WySPByo3uihEWohLz5ZTo2J828AaTnFpHiUsvDo=_1661d0df734:c3f8ad:19b4cc1a', 'pAll0y5reb9EOfInG4eisUIzkoZc4xCx0HyK02/6FhU=_16559b354f0:89a5fbd:4c71e4fe', 'bQKkXy5cmm+X3n4LN5OkkjkiiKJk2/yeic/5hqvN8A8=_1664608b867:43d76cc:a84931b0', 'pAll0y5reb9EOfInG4eisUIzkoZc4xCx0HyK02/6FhU=_165b57a2e59:65c24c:cf41b655', 'tWH7WySPByo3uihEWohLz5ZTo2J828AaTnFpHiUsvDo=_1663bf80e28:33f32cb:f06daea', '4v/RpGaaSAXvT2Bs8aaTO3EMdqI0rAzoIZdOrfYdn6o=_16418750202:184cea5:93d646dc', 'pAll0y5reb9EOfInG4eisUIzkoZc4xCx0HyK02/6FhU=_16524d6885a:4706632:4c71e4fe', 'bQKkXy5cmm+X3n4LN5OkkjkiiKJk2/yeic/5hqvN8A8=_165d265e337:a61f5d:4c71e4fe', '4v/RpGaaSAXvT2Bs8aaTO3EMdqI0rAzoIZdOrfYdn6o=_164ff82d14b:1447fc3:4db7ac35', 'hu94UCg3vuxifOgio/b16czFOOJs9C7thvt+mklFm78=_16199783aa0:781213f:3c0bb656', 'tWH7WySPByo3uihEWohLz5ZTo2J828AaTnFpHiUsvDo=_16631a79b86:2661f80:a84931b0', 'iUJBEZ0t16JNn5gboRic0ZqvaO+Dp0W5X1EhHXrImLg=_16513121831:2da7903:6f86c10b', 'iUJBEZ0t16JNn5gboRic0ZqvaO+Dp0W5X1EhHXrImLg=_1640357b276:49e011:f29f4ba1', '4v/RpGaaSAXvT2Bs8aaTO3EMdqI0rAzoIZdOrfYdn6o=_165379103d5:5d0de2e:4c71e4fe', 'hu94UCg3vuxifOgio/b16czFOOJs9C7thvt+mklFm78=_161a0195ffc:81ee7a8:7157a206', 'pAll0y5reb9EOfInG4eisUIzkoZc4xCx0HyK02/6FhU=_165b09a069e:e42995:b99eedab', 'bQKkXy5cmm+X3n4LN5OkkjkiiKJk2/yeic/5hqvN8A8=_1655cacdd36:8ffe9ae:6f86c10b', '4v/RpGaaSAXvT2Bs8aaTO3EMdqI0rAzoIZdOrfYdn6o=_164cbaee712:eea4e1b:386c987f', 'iUJBEZ0t16JNn5gboRic0ZqvaO+Dp0W5X1EhHXrImLg=_162aa7447ce:14f4851:923c4a60', 'iUJBEZ0t16JNn5gboRic0ZqvaO+Dp0W5X1EhHXrImLg=_163e7f14b78:78c85ca:7cfe07d6', 'jC8FXwTDciYGLOAfM8hBAYM2nuXMg9GKL32sbB5vY+o=_15ac4d256bd:1223a0e:36e281dc', 'bQKkXy5cmm+X3n4LN5OkkjkiiKJk2/yeic/5hqvN8A8=_1658017eaa3:9611a4:4db7ac35', 'tWH7WySPByo3uihEWohLz5ZTo2J828AaTnFpHiUsvDo=_166087373f5:a8bd83:4c71e4fe', '4v/RpGaaSAXvT2Bs8aaTO3EMdqI0rAzoIZdOrfYdn6o=_165a45c5e25:2a79aa2:b99eedab', 'iUJBEZ0t16JNn5gboRic0ZqvaO+Dp0W5X1EhHXrImLg=_1649d0071ce:abc6cc5:4e0f6129', '4v/RpGaaSAXvT2Bs8aaTO3EMdqI0rAzoIZdOrfYdn6o=_1641846e92e:185b900:2835af05', 'iUJBEZ0t16JNn5gboRic0ZqvaO+Dp0W5X1EhHXrImLg=_165b5f2c141:6b78ce:4c71e4fe', 'iUJBEZ0t16JNn5gboRic0ZqvaO+Dp0W5X1EhHXrImLg=_16430f5840b:f21636:aa514a55', 'tWH7WySPByo3uihEWohLz5ZTo2J828AaTnFpHiUsvDo=_1662c7f6c8d:1f187c3:a84931b0', 'ZxLYmskQ+aarbmxhyXhkMZh/K2ROFXcUO6/yoxllAmY=_16594c66d4c:18bcb6a:4c71e4fe', 'jC8FXwTDciYGLOAfM8hBAYM2nuXMg9GKL32sbB5vY+o=_15d648eb309:e1522c:53d642ee', 'hu94UCg3vuxifOgio/b16czFOOJs9C7thvt+mklFm78=_16170419b50:3b23c1c:541f3c40', 'tWH7WySPByo3uihEWohLz5ZTo2J828AaTnFpHiUsvDo=_16612bf55ad:18ea4eb:3097813d', '4v/RpGaaSAXvT2Bs8aaTO3EMdqI0rAzoIZdOrfYdn6o=_164a38d25e2:b459f30:aa514a55', 'hu94UCg3vuxifOgio/b16czFOOJs9C7thvt+mklFm78=_16175717f7f:434d666:3c0bb656', 'ZxLYmskQ+aarbmxhyXhkMZh/K2ROFXcUO6/yoxllAmY=_1631a125880:70d990:b3c0dbe3', 'jC8FXwTDciYGLOAfM8hBAYM2nuXMg9GKL32sbB5vY+o=_1561ec49e4d:d953d8e:d45364f0', 'tWH7WySPByo3uihEWohLz5ZTo2J828AaTnFpHiUsvDo=_1660d9bc68a:11990d6:3097813d', 'jC8FXwTDciYGLOAfM8hBAYM2nuXMg9GKL32sbB5vY+o=_164953f8c11:a2eb3d5:4e0f6129', 'tWH7WySPByo3uihEWohLz5ZTo2J828AaTnFpHiUsvDo=_16636cc6b15:2c59986:f06daea', 'bQKkXy5cmm+X3n4LN5OkkjkiiKJk2/yeic/5hqvN8A8=_1659f43e11a:232fb2f:4db7ac35', 'jC8FXwTDciYGLOAfM8hBAYM2nuXMg9GKL32sbB5vY+o=_1636eca9076:4ac683a:93d646dc', 'jC8FXwTDciYGLOAfM8hBAYM2nuXMg9GKL32sbB5vY+o=_1636eca9076:4ac683b:93d646dc', 'jC8FXwTDciYGLOAfM8hBAYM2nuXMg9GKL32sbB5vY+o=_164953f8c11:a2eb3d6:4e0f6129', 'bQKkXy5cmm+X3n4LN5OkkjkiiKJk2/yeic/5hqvN8A8=_16635f1844e:2b3183e:f06daea', 'pAll0y5reb9EOfInG4eisUIzkoZc4xCx0HyK02/6FhU=_166402c2e1b:39fd10f:f06daea', 'pAll0y5reb9EOfInG4eisUIzkoZc4xCx0HyK02/6FhU=_165a6288610:2d7b747:b99eedab', 'pAll0y5reb9EOfInG4eisUIzkoZc4xCx0HyK02/6FhU=_16534e8251b:59fbc63:4db7ac35', '4v/RpGaaSAXvT2Bs8aaTO3EMdqI0rAzoIZdOrfYdn6o=_163a5e99218:15dea6c:3dd877af', 'hu94UCg3vuxifOgio/b16czFOOJs9C7thvt+mklFm78=_1617c848853:4f8d836:541f3c40', '4v/RpGaaSAXvT2Bs8aaTO3EMdqI0rAzoIZdOrfYdn6o=_16387e606de:6d420c8:93d646dc'])\n"
     ]
    }
   ],
   "source": [
    "if not os.path.isfile(DATA_PATH):\n",
    "    print(\"newfile\")\n",
    "    with open(DATA_PATH, \"w\") as f:\n",
    "        json.dump(feedDataSimple, f)\n",
    "else: \n",
    "    print(\"existing file\")\n",
    "    with open(DATA_PATH, \"r+\") as f:\n",
    "        data = json.load(f)\n",
    "        print(data.keys())\n",
    "        \n",
    "        dataUpdated = {**data, **feedDataSimple}\n",
    "        json.dump(dataUpdated, f)\n",
    "        "
   ]
  }
 ],
 "metadata": {
  "kernelspec": {
   "display_name": "Python 3",
   "language": "python",
   "name": "python3"
  },
  "language_info": {
   "codemirror_mode": {
    "name": "ipython",
    "version": 3
   },
   "file_extension": ".py",
   "mimetype": "text/x-python",
   "name": "python",
   "nbconvert_exporter": "python",
   "pygments_lexer": "ipython3",
   "version": "3.5.4"
  }
 },
 "nbformat": 4,
 "nbformat_minor": 2
}

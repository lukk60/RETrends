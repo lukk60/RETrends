{
 "cells": [
  {
   "cell_type": "markdown",
   "metadata": {},
   "source": [
    "# Test Google Search Scraping"
   ]
  },
  {
   "cell_type": "markdown",
   "metadata": {},
   "source": [
    "## Get Links via Google Search"
   ]
  },
  {
   "cell_type": "code",
   "execution_count": 1,
   "metadata": {},
   "outputs": [],
   "source": [
    "from googlesearch import search"
   ]
  },
  {
   "cell_type": "code",
   "execution_count": 65,
   "metadata": {},
   "outputs": [],
   "source": [
    "# create generator object\n",
    "generator = search('digital real estate', stop=100)"
   ]
  },
  {
   "cell_type": "code",
   "execution_count": 66,
   "metadata": {},
   "outputs": [],
   "source": [
    "# iterate through generator \n",
    "# no direct iteration on generator to catch errors more easily\n",
    "a = []\n",
    "for i in range(100):\n",
    "    res = generator.send(None)\n",
    "    a.append(res)"
   ]
  },
  {
   "cell_type": "markdown",
   "metadata": {},
   "source": [
    "## Crawling Webpages"
   ]
  },
  {
   "cell_type": "code",
   "execution_count": 71,
   "metadata": {},
   "outputs": [],
   "source": [
    "import requests\n",
    "page = requests.get(a[1])"
   ]
  },
  {
   "cell_type": "code",
   "execution_count": 84,
   "metadata": {},
   "outputs": [
    {
     "data": {
      "text/plain": [
       "b'<!DOCTYPE html><html><head><!-- Google Tag Manager --><script>\\n\\t\\tvar dataLayer = [{\\n\\t\\t\\t\"environment\": \"production\"\\t\\t}];\\n\\n\\t\\tdataLayer.push({\\n\\t\\t\\tcontentType: \\'article\\' || \\'unmapped\\',\\n\\t\\t\\ttemplateSubType: \\'article\\' || null,\\n\\t\\t\\ttemplateType: \\'standard\\' || \\'unmapped\\',\\n\\t\\t\\tURL: window.location.href\\n\\t\\t});\\n\\n\\t\\tvar bzDataLayer = dataLayer;\\n\\t\\t(function(w,d,s,l,i){w[l]=w[l]||[];w[l].push({\\'gtm.start\\':\\n\\t\\tnew Date().getTime(),event:\\'gtm.js\\'});var f=d.getElementsByTagName(s)[0],\\n\\t\\tj=d.createElement(s),dl=l!=\\'dataLayer\\'?\\'&l=\\'+l:\\'\\';j.async=true;j.src=\\n\\t\\t\\'https://www.googletagmanager.com/gtm.js?id=\\'+i+dl;f.parentNode.insertBefore(j,f);\\n\\t\\t})(window,document,\\'script\\',\\'dataLayer\\',\\'GTM-M95G2X9\\');\\n\\n\\t\\t</script><!-- End Google Tag Manager --><meta name=\\'ir-site-verification-token\\' value=\\'1409186093\\' /><meta name=\"viewport\" content=\"width=device-width, initial-scale=1.0, user-scalable = no\"><meta http-equiv=\"Content-Type\" content=\"text/html; charset=utf-8\" /><title>How to Invest in Digital Real Estate</title><met'"
      ]
     },
     "execution_count": 84,
     "metadata": {},
     "output_type": "execute_result"
    }
   ],
   "source": [
    "page.status_code\n",
    "page.content[:1000]"
   ]
  },
  {
   "cell_type": "code",
   "execution_count": 76,
   "metadata": {},
   "outputs": [],
   "source": [
    "from bs4 import BeautifulSoup\n",
    "soup = BeautifulSoup(page.content, \"html.parser\")"
   ]
  },
  {
   "cell_type": "code",
   "execution_count": 82,
   "metadata": {},
   "outputs": [
    {
     "data": {
      "text/plain": [
       "[bs4.element.Doctype, bs4.element.Tag]"
      ]
     },
     "execution_count": 82,
     "metadata": {},
     "output_type": "execute_result"
    }
   ],
   "source": [
    "[type(item) for item in list(soup.children)]"
   ]
  },
  {
   "cell_type": "code",
   "execution_count": null,
   "metadata": {},
   "outputs": [],
   "source": []
  }
 ],
 "metadata": {
  "kernelspec": {
   "display_name": "Python 3",
   "language": "python",
   "name": "python3"
  },
  "language_info": {
   "codemirror_mode": {
    "name": "ipython",
    "version": 3
   },
   "file_extension": ".py",
   "mimetype": "text/x-python",
   "name": "python",
   "nbconvert_exporter": "python",
   "pygments_lexer": "ipython3",
   "version": "3.6.8"
  }
 },
 "nbformat": 4,
 "nbformat_minor": 2
}

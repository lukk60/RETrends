{
 "cells": [
  {
   "cell_type": "markdown",
   "metadata": {},
   "source": [
    "# Test Google Search Scraping"
   ]
  },
  {
   "cell_type": "code",
   "execution_count": 8,
   "metadata": {},
   "outputs": [
    {
     "name": "stdout",
     "output_type": "stream",
     "text": [
      "https://www.digitalrealestate.ch/\n",
      "https://www.digitalrealestate.ch/digital-top-10/digitaltop10schweiz/\n",
      "https://www.business.com/articles/investing-in-digital-real-estate/\n",
      "https://fh-hwz.ch/produkt/cas-digital-real-estate/\n",
      "https://www.hottopics.ht/19867/10-of-the-most-innovative-digital-real-estate-platforms/\n",
      "https://www.udemy.com/digital-real-estate-how-to-invest-in-profitable-assets/\n",
      "https://firebrandtalent.com/blog/2014/05/who-owns-your-digital-real-estate/\n",
      "https://www.ft.com/content/f004b536-e44b-11e8-8e70-5e22a430c1ad\n",
      "https://siriusdesigngroup.com/what-is-digital-real-estate/\n",
      "https://marcoschwartz.com/digital-real-estate\n",
      "https://realestatedigital.com/\n",
      "http://arunkumar.me/index.php/item/21-understanding-your-digital-real-estate\n",
      "https://www.youtube.com/watch?v=XIw8FR0-uvw\n",
      "https://gceg2015.org/investing-digital-real-estate-need-know.html\n",
      "https://www.pwc.de/en/real-estate/digital-real-estate.html\n",
      "https://www.lyfemarketing.com/blog/real-estate-digital-marketing/\n",
      "https://whizbangtraining.com/digital-real-estate/\n",
      "https://www.post.ch/de/immobilien/post-immobilien-management-und-services-ag/innovation-im-gebaeudemanagement/digital-real-estate-summit\n",
      "https://www.ctmecontracts.com/\n",
      "https://www.onlinerealassets.com/\n"
     ]
    }
   ],
   "source": [
    "# Get the first 20 hits for: \"Breaking Code\" WordPress blog\n",
    "from googlesearch import search\n",
    "for url in search('digital real estate', stop=20):\n",
    "    print(url)"
   ]
  },
  {
   "cell_type": "code",
   "execution_count": null,
   "metadata": {},
   "outputs": [],
   "source": []
  }
 ],
 "metadata": {
  "kernelspec": {
   "display_name": "Python 3",
   "language": "python",
   "name": "python3"
  },
  "language_info": {
   "codemirror_mode": {
    "name": "ipython",
    "version": 3
   },
   "file_extension": ".py",
   "mimetype": "text/x-python",
   "name": "python",
   "nbconvert_exporter": "python",
   "pygments_lexer": "ipython3",
   "version": "3.6.8"
  }
 },
 "nbformat": 4,
 "nbformat_minor": 2
}

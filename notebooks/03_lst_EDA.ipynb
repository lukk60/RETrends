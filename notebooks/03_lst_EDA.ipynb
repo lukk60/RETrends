{
 "cells": [
  {
   "cell_type": "markdown",
   "metadata": {},
   "source": [
    "# Exploratory Analysis of Real Estate News Data"
   ]
  },
  {
   "cell_type": "markdown",
   "metadata": {},
   "source": [
    "## Setup"
   ]
  },
  {
   "cell_type": "code",
   "execution_count": 1,
   "metadata": {},
   "outputs": [],
   "source": [
    "import pandas as pd\n",
    "import numpy as np\n",
    "import os, sys\n",
    "import json\n",
    "from dotenv import find_dotenv, load_dotenv\n",
    "from datetime import datetime\n",
    "\n",
    "sys.path.append('../')\n",
    "from src.data.azure_storage_utils import load_text_file\n",
    "from src.data.preprocess_utils import preprocess_document"
   ]
  },
  {
   "cell_type": "code",
   "execution_count": 2,
   "metadata": {},
   "outputs": [],
   "source": [
    "with open(\"../src/config.json\", \"r\") as f:\n",
    "    cfg = json.load(f)\n",
    "    \n",
    "load_dotenv(find_dotenv())\n",
    "AZURE_STORAGE_NAME = os.environ.get(\"AZURE_STORAGE_NAME\")\n",
    "AZURE_STORAGE_KEY = os.environ.get(\"AZURE_STORAGE_KEY\")"
   ]
  },
  {
   "cell_type": "code",
   "execution_count": 3,
   "metadata": {},
   "outputs": [],
   "source": [
    "# load stored data from blob store\n",
    "dRaw = load_text_file(\n",
    "    containerName = cfg[\"azureStorage\"][\"containerName\"], \n",
    "    blobName = cfg[\"azureStorage\"][\"blobName\"],\n",
    "    accountName = AZURE_STORAGE_NAME,\n",
    "    accountKey = AZURE_STORAGE_KEY\n",
    "    )"
   ]
  },
  {
   "cell_type": "markdown",
   "metadata": {},
   "source": [
    "## General Overview"
   ]
  },
  {
   "cell_type": "markdown",
   "metadata": {},
   "source": [
    "See how the feedly data is stuctured"
   ]
  },
  {
   "cell_type": "code",
   "execution_count": 4,
   "metadata": {},
   "outputs": [
    {
     "data": {
      "text/plain": [
       "3758"
      ]
     },
     "execution_count": 4,
     "metadata": {},
     "output_type": "execute_result"
    }
   ],
   "source": [
    "len(dRaw)"
   ]
  },
  {
   "cell_type": "code",
   "execution_count": 5,
   "metadata": {},
   "outputs": [
    {
     "data": {
      "text/plain": [
       "('tWH7WySPByo3uihEWohLz5ZTo2J828AaTnFpHiUsvDo=_14ffc58c7af:156decbc:fccac72e',\n",
       " {'unread': False,\n",
       "  'published': 1443047720879,\n",
       "  'summary': {'direction': 'ltr',\n",
       "   'content': '<img height=\"55\" alt=\"Copyright Fotolia.de / nmann77\" align=\"left\" width=\"55\" src=\"http://www.immonewsfeed.de/upload/immonews/small/1442390871_Fotolia_62893253_X-nmann77.jpg\"><p>Wie der Verband Haus &amp; Grund mitteilt, wird die Nachfrage nach Wohnraum in den kommenden Jahren höher als angenommen sein. Die hohen Zuwanderungs- und Flüchtlingszahlen würden ein schnelles Handeln erfordern, um den Menschen Wohnungen anbieten zu können. Der Verband fordert deshalb die Politik auf, die Kosten für den Wohnungsbau zu senken.\\nVon den allein in diesem Jahr erwarteten 800.000 Flüchtlingen würden laut Haus &amp; Grund viele dauerhaft in Deutschland wohnen bleiben. Damit der erforderliche Wohnraum gebaut werden kann, sei ein ganzes Bündel an Maßnahmen notwendig:\\nErhöhung der steuerlichen Abschreibung von zwei auf vier Prozent\\nGrunderwerbsteuersatz in alter Höhe von 3,5 Prozent\\nVerstärkte Ausweisung von Bauland\\nLockerung der energetischen Anforderungen an Neu- und Bestandsbauten\\nBereitstellung von mehr Wohnraum in Innenstädten zum Beispiel durch eine baurechtlich vereinfachte Aufstockung von Gebäuden\\nAbschaffung der Mietpreisbremse\\nNur wenn die Koordination von Bund, Ländern und Kommunen im Bereich Wohnungs- und Städtebaupolitik wesentlich verbessert wird, könnten die aktuellen Herausforderungen gemeistert werden.</p>'},\n",
       "  'origin': {'streamId': 'feed/http://www.immonewsfeed.de/rss/newsfeed.php',\n",
       "   'htmlUrl': 'http://www.immonewsfeed.de/',\n",
       "   'title': 'Immonews RSS Feed'},\n",
       "  'crawled': 1443047720879,\n",
       "  'title': '24.09.2015 - Politik & Wirtschaft: Haus & Grund fordert Senkung der Kosten für den Wohnungsbau',\n",
       "  'categories': [{'label': 'Real Estate News',\n",
       "    'id': 'user/4f464ff9-623e-45a2-8bde-3f1829eae9e9/category/2a8c9142-29af-4dd6-9bc0-8f5861e766de'}],\n",
       "  'feedTitle': 'Immonews RSS Feed',\n",
       "  'fingerprint': '1c59d24b',\n",
       "  'author': 'Fotolia.de / nmann77',\n",
       "  'feedId': 'feed/http://www.immonewsfeed.de/rss/newsfeed.php',\n",
       "  'alternate': [{'href': 'http://www.immonewsfeed.de/news.php?id=1645',\n",
       "    'type': 'text/html'}],\n",
       "  'originId': 'http://www.immonewsfeed.de/news.php?id=1645',\n",
       "  'engagement': 7,\n",
       "  'id': 'tWH7WySPByo3uihEWohLz5ZTo2J828AaTnFpHiUsvDo=_14ffc58c7af:156decbc:fccac72e'})"
      ]
     },
     "execution_count": 5,
     "metadata": {},
     "output_type": "execute_result"
    }
   ],
   "source": [
    "list(dRaw.items())[0]"
   ]
  },
  {
   "cell_type": "code",
   "execution_count": 9,
   "metadata": {},
   "outputs": [
    {
     "data": {
      "text/html": [
       "<div>\n",
       "<style scoped>\n",
       "    .dataframe tbody tr th:only-of-type {\n",
       "        vertical-align: middle;\n",
       "    }\n",
       "\n",
       "    .dataframe tbody tr th {\n",
       "        vertical-align: top;\n",
       "    }\n",
       "\n",
       "    .dataframe thead th {\n",
       "        text-align: right;\n",
       "    }\n",
       "</style>\n",
       "<table border=\"1\" class=\"dataframe\">\n",
       "  <thead>\n",
       "    <tr style=\"text-align: right;\">\n",
       "      <th></th>\n",
       "      <th>feedTitle</th>\n",
       "      <th>author</th>\n",
       "      <th>published</th>\n",
       "      <th>engagement</th>\n",
       "      <th>title</th>\n",
       "      <th>summary</th>\n",
       "      <th>published_period</th>\n",
       "    </tr>\n",
       "  </thead>\n",
       "  <tbody>\n",
       "    <tr>\n",
       "      <th>tWH7WySPByo3uihEWohLz5ZTo2J828AaTnFpHiUsvDo=_14ffc58c7af:156decbc:fccac72e</th>\n",
       "      <td>Immonews RSS Feed</td>\n",
       "      <td>Fotolia.de / nmann77</td>\n",
       "      <td>2015-09-23 22:35:20.879</td>\n",
       "      <td>7</td>\n",
       "      <td>24.09.2015 - Politik &amp; Wirtschaft: Haus &amp; Grun...</td>\n",
       "      <td>&lt;img height=\"55\" alt=\"Copyright Fotolia.de / n...</td>\n",
       "      <td>2015-09</td>\n",
       "    </tr>\n",
       "    <tr>\n",
       "      <th>tWH7WySPByo3uihEWohLz5ZTo2J828AaTnFpHiUsvDo=_15994eb4e80:6bb50cc:1e99f69f</th>\n",
       "      <td>Immonews RSS Feed</td>\n",
       "      <td>Fotolia.de / 2xwilfinger</td>\n",
       "      <td>2017-01-12 23:02:46.144</td>\n",
       "      <td>17</td>\n",
       "      <td>13.01.2017 - Leben &amp; Wohnen: Ausnahme beim Win...</td>\n",
       "      <td>&lt;img height=\"55\" alt=\"Copyright Fotolia.de / 2...</td>\n",
       "      <td>2017-01</td>\n",
       "    </tr>\n",
       "    <tr>\n",
       "      <th>hu94UCg3vuxifOgio/b16czFOOJs9C7thvt+mklFm78=_15f5873f95f:9d862cf:4d363ef0</th>\n",
       "      <td>RETN - Real Estate Tech News</td>\n",
       "      <td>Lindsey Imperatore</td>\n",
       "      <td>2017-10-26 11:30:00.000</td>\n",
       "      <td>1</td>\n",
       "      <td>Exclusive Q&amp;A With #RETAS Sponsor Glenn Murray...</td>\n",
       "      <td>FUEL Enterprises develops cloud-based technolo...</td>\n",
       "      <td>2017-10</td>\n",
       "    </tr>\n",
       "    <tr>\n",
       "      <th>pAll0y5reb9EOfInG4eisUIzkoZc4xCx0HyK02/6FhU=_1436d43bf75:11670829:d7247628</th>\n",
       "      <td>Property Management Insider</td>\n",
       "      <td>Greg Willett</td>\n",
       "      <td>2014-01-07 15:50:04.000</td>\n",
       "      <td>14</td>\n",
       "      <td>Will Oakland’s Apartment Market Lead the Way i...</td>\n",
       "      <td>&lt;img src=\"https://www.propertymanagementinside...</td>\n",
       "      <td>2014-01</td>\n",
       "    </tr>\n",
       "    <tr>\n",
       "      <th>xWDIGZBMt8xnhnzyNkukvtkIAR2mBD5dsDLzMT+azN4=_16204a07f50:21ee66:4e6e6075</th>\n",
       "      <td>PropTech News</td>\n",
       "      <td>proptechnews</td>\n",
       "      <td>2018-03-08 08:00:50.000</td>\n",
       "      <td>0</td>\n",
       "      <td>Mehr, mehr, mehr PropTech</td>\n",
       "      <td>Diese Woche fand der 4. Digital Real Estate Su...</td>\n",
       "      <td>2018-03</td>\n",
       "    </tr>\n",
       "  </tbody>\n",
       "</table>\n",
       "</div>"
      ],
      "text/plain": [
       "                                                                       feedTitle  \\\n",
       "tWH7WySPByo3uihEWohLz5ZTo2J828AaTnFpHiUsvDo=_14...             Immonews RSS Feed   \n",
       "tWH7WySPByo3uihEWohLz5ZTo2J828AaTnFpHiUsvDo=_15...             Immonews RSS Feed   \n",
       "hu94UCg3vuxifOgio/b16czFOOJs9C7thvt+mklFm78=_15...  RETN - Real Estate Tech News   \n",
       "pAll0y5reb9EOfInG4eisUIzkoZc4xCx0HyK02/6FhU=_14...   Property Management Insider   \n",
       "xWDIGZBMt8xnhnzyNkukvtkIAR2mBD5dsDLzMT+azN4=_16...                 PropTech News   \n",
       "\n",
       "                                                                      author  \\\n",
       "tWH7WySPByo3uihEWohLz5ZTo2J828AaTnFpHiUsvDo=_14...      Fotolia.de / nmann77   \n",
       "tWH7WySPByo3uihEWohLz5ZTo2J828AaTnFpHiUsvDo=_15...  Fotolia.de / 2xwilfinger   \n",
       "hu94UCg3vuxifOgio/b16czFOOJs9C7thvt+mklFm78=_15...        Lindsey Imperatore   \n",
       "pAll0y5reb9EOfInG4eisUIzkoZc4xCx0HyK02/6FhU=_14...              Greg Willett   \n",
       "xWDIGZBMt8xnhnzyNkukvtkIAR2mBD5dsDLzMT+azN4=_16...              proptechnews   \n",
       "\n",
       "                                                                 published  \\\n",
       "tWH7WySPByo3uihEWohLz5ZTo2J828AaTnFpHiUsvDo=_14... 2015-09-23 22:35:20.879   \n",
       "tWH7WySPByo3uihEWohLz5ZTo2J828AaTnFpHiUsvDo=_15... 2017-01-12 23:02:46.144   \n",
       "hu94UCg3vuxifOgio/b16czFOOJs9C7thvt+mklFm78=_15... 2017-10-26 11:30:00.000   \n",
       "pAll0y5reb9EOfInG4eisUIzkoZc4xCx0HyK02/6FhU=_14... 2014-01-07 15:50:04.000   \n",
       "xWDIGZBMt8xnhnzyNkukvtkIAR2mBD5dsDLzMT+azN4=_16... 2018-03-08 08:00:50.000   \n",
       "\n",
       "                                                   engagement  \\\n",
       "tWH7WySPByo3uihEWohLz5ZTo2J828AaTnFpHiUsvDo=_14...          7   \n",
       "tWH7WySPByo3uihEWohLz5ZTo2J828AaTnFpHiUsvDo=_15...         17   \n",
       "hu94UCg3vuxifOgio/b16czFOOJs9C7thvt+mklFm78=_15...          1   \n",
       "pAll0y5reb9EOfInG4eisUIzkoZc4xCx0HyK02/6FhU=_14...         14   \n",
       "xWDIGZBMt8xnhnzyNkukvtkIAR2mBD5dsDLzMT+azN4=_16...          0   \n",
       "\n",
       "                                                                                                title  \\\n",
       "tWH7WySPByo3uihEWohLz5ZTo2J828AaTnFpHiUsvDo=_14...  24.09.2015 - Politik & Wirtschaft: Haus & Grun...   \n",
       "tWH7WySPByo3uihEWohLz5ZTo2J828AaTnFpHiUsvDo=_15...  13.01.2017 - Leben & Wohnen: Ausnahme beim Win...   \n",
       "hu94UCg3vuxifOgio/b16czFOOJs9C7thvt+mklFm78=_15...  Exclusive Q&A With #RETAS Sponsor Glenn Murray...   \n",
       "pAll0y5reb9EOfInG4eisUIzkoZc4xCx0HyK02/6FhU=_14...  Will Oakland’s Apartment Market Lead the Way i...   \n",
       "xWDIGZBMt8xnhnzyNkukvtkIAR2mBD5dsDLzMT+azN4=_16...                          Mehr, mehr, mehr PropTech   \n",
       "\n",
       "                                                                                              summary  \\\n",
       "tWH7WySPByo3uihEWohLz5ZTo2J828AaTnFpHiUsvDo=_14...  <img height=\"55\" alt=\"Copyright Fotolia.de / n...   \n",
       "tWH7WySPByo3uihEWohLz5ZTo2J828AaTnFpHiUsvDo=_15...  <img height=\"55\" alt=\"Copyright Fotolia.de / 2...   \n",
       "hu94UCg3vuxifOgio/b16czFOOJs9C7thvt+mklFm78=_15...  FUEL Enterprises develops cloud-based technolo...   \n",
       "pAll0y5reb9EOfInG4eisUIzkoZc4xCx0HyK02/6FhU=_14...  <img src=\"https://www.propertymanagementinside...   \n",
       "xWDIGZBMt8xnhnzyNkukvtkIAR2mBD5dsDLzMT+azN4=_16...  Diese Woche fand der 4. Digital Real Estate Su...   \n",
       "\n",
       "                                                   published_period  \n",
       "tWH7WySPByo3uihEWohLz5ZTo2J828AaTnFpHiUsvDo=_14...          2015-09  \n",
       "tWH7WySPByo3uihEWohLz5ZTo2J828AaTnFpHiUsvDo=_15...          2017-01  \n",
       "hu94UCg3vuxifOgio/b16czFOOJs9C7thvt+mklFm78=_15...          2017-10  \n",
       "pAll0y5reb9EOfInG4eisUIzkoZc4xCx0HyK02/6FhU=_14...          2014-01  \n",
       "xWDIGZBMt8xnhnzyNkukvtkIAR2mBD5dsDLzMT+azN4=_16...          2018-03  "
      ]
     },
     "execution_count": 9,
     "metadata": {},
     "output_type": "execute_result"
    }
   ],
   "source": [
    "# convert to dataframe\n",
    "dDocs = pd.DataFrame.from_dict(dRaw).transpose()\n",
    "dDocs = dDocs[[\"feedTitle\", \"author\", \"published\", \"engagement\", \"title\", \"summary\"]]\n",
    "\n",
    "for i in dDocs.index:\n",
    "    try:\n",
    "        dDocs[\"summary\"][i] = dDocs[\"summary\"][i][\"content\"]\n",
    "    except TypeError:\n",
    "        dDocs[\"summary\"][i] = None\n",
    "\n",
    "# convert timestamps\n",
    "dDocs[\"published\"] = pd.to_datetime(dDocs[\"published\"], unit=\"ms\")\n",
    "dDocs[\"published_period\"] = pd.DatetimeIndex(dDocs[\"published\"]).to_period(\"M\").astype(str)\n",
    "\n",
    "dDocs.head()"
   ]
  },
  {
   "cell_type": "markdown",
   "metadata": {},
   "source": [
    "## Time of Publication"
   ]
  },
  {
   "cell_type": "code",
   "execution_count": 10,
   "metadata": {},
   "outputs": [
    {
     "data": {
      "text/html": [
       "<script type=\"text/javascript\">window.PlotlyConfig = {MathJaxConfig: 'local'};</script><script type=\"text/javascript\">if (window.MathJax) {MathJax.Hub.Config({SVG: {font: \"STIX-Web\"}});}</script><script>requirejs.config({paths: { 'plotly': ['https://cdn.plot.ly/plotly-latest.min']},});if(!window._Plotly) {require(['plotly'],function(plotly) {window._Plotly=plotly;});}</script>"
      ],
      "text/vnd.plotly.v1+html": [
       "<script type=\"text/javascript\">window.PlotlyConfig = {MathJaxConfig: 'local'};</script><script type=\"text/javascript\">if (window.MathJax) {MathJax.Hub.Config({SVG: {font: \"STIX-Web\"}});}</script><script>requirejs.config({paths: { 'plotly': ['https://cdn.plot.ly/plotly-latest.min']},});if(!window._Plotly) {require(['plotly'],function(plotly) {window._Plotly=plotly;});}</script>"
      ]
     },
     "metadata": {},
     "output_type": "display_data"
    }
   ],
   "source": [
    "import plotly\n",
    "import plotly.graph_objs as go\n",
    "plotly.offline.init_notebook_mode(connected=True)"
   ]
  },
  {
   "cell_type": "code",
   "execution_count": 11,
   "metadata": {},
   "outputs": [
    {
     "data": {
      "application/vnd.plotly.v1+json": {
       "config": {
        "linkText": "Export to plot.ly",
        "plotlyServerURL": "https://plot.ly",
        "showLink": false
       },
       "data": [
        {
         "type": "bar",
         "uid": "014850ac-ef31-4316-b777-c0ef59c236e3",
         "x": [
          "2012-06",
          "2012-08",
          "2012-10",
          "2012-11",
          "2012-12",
          "2013-01",
          "2013-02",
          "2013-04",
          "2013-05",
          "2013-06",
          "2013-07",
          "2013-08",
          "2013-09",
          "2013-10",
          "2013-11",
          "2013-12",
          "2014-01",
          "2014-02",
          "2014-03",
          "2014-04",
          "2014-05",
          "2014-06",
          "2014-07",
          "2014-08",
          "2014-09",
          "2014-10",
          "2014-11",
          "2014-12",
          "2015-01",
          "2015-02",
          "2015-03",
          "2015-04",
          "2015-05",
          "2015-06",
          "2015-07",
          "2015-08",
          "2015-09",
          "2015-10",
          "2015-11",
          "2015-12",
          "2016-01",
          "2016-02",
          "2016-03",
          "2016-04",
          "2016-05",
          "2016-06",
          "2016-07",
          "2016-08",
          "2016-09",
          "2016-10",
          "2016-11",
          "2016-12",
          "2017-01",
          "2017-02",
          "2017-03",
          "2017-04",
          "2017-05",
          "2017-06",
          "2017-07",
          "2017-08",
          "2017-09",
          "2017-10",
          "2017-11",
          "2017-12",
          "2018-01",
          "2018-02",
          "2018-03",
          "2018-04",
          "2018-05",
          "2018-06",
          "2018-07",
          "2018-08",
          "2018-09",
          "2018-10",
          "2018-11",
          "2018-12",
          "2019-01",
          "2019-02"
         ],
         "y": [
          1,
          1,
          1,
          1,
          1,
          2,
          1,
          4,
          15,
          13,
          18,
          20,
          22,
          20,
          29,
          9,
          41,
          38,
          43,
          46,
          42,
          45,
          33,
          35,
          41,
          41,
          60,
          61,
          48,
          52,
          54,
          49,
          50,
          57,
          55,
          47,
          49,
          57,
          71,
          68,
          75,
          79,
          69,
          67,
          87,
          85,
          70,
          78,
          84,
          75,
          71,
          72,
          81,
          68,
          77,
          69,
          75,
          80,
          75,
          67,
          71,
          78,
          81,
          58,
          78,
          59,
          46,
          40,
          44,
          47,
          59,
          46,
          44,
          45,
          45,
          24,
          44,
          4
         ]
        }
       ],
       "layout": {
        "autosize": true,
        "title": {
         "text": "Number of articles published each month"
        },
        "xaxis": {
         "autorange": true,
         "range": [
          "2012-05-18",
          "2019-02-15"
         ],
         "type": "date"
        },
        "yaxis": {
         "autorange": true,
         "range": [
          0,
          91.57894736842105
         ],
         "type": "linear"
        }
       }
      },
      "image/png": "[encoded data removed]",
      "text/html": [
       "<div id=\"0c7a164f-7652-4e4d-be52-78ea11d80199\" style=\"height: 525px; width: 100%;\" class=\"plotly-graph-div\"></div><script type=\"text/javascript\">require([\"plotly\"], function(Plotly) { window.PLOTLYENV=window.PLOTLYENV || {};window.PLOTLYENV.BASE_URL=\"https://plot.ly\";Plotly.newPlot(\"0c7a164f-7652-4e4d-be52-78ea11d80199\", [{\"x\": [\"2012-06\", \"2012-08\", \"2012-10\", \"2012-11\", \"2012-12\", \"2013-01\", \"2013-02\", \"2013-04\", \"2013-05\", \"2013-06\", \"2013-07\", \"2013-08\", \"2013-09\", \"2013-10\", \"2013-11\", \"2013-12\", \"2014-01\", \"2014-02\", \"2014-03\", \"2014-04\", \"2014-05\", \"2014-06\", \"2014-07\", \"2014-08\", \"2014-09\", \"2014-10\", \"2014-11\", \"2014-12\", \"2015-01\", \"2015-02\", \"2015-03\", \"2015-04\", \"2015-05\", \"2015-06\", \"2015-07\", \"2015-08\", \"2015-09\", \"2015-10\", \"2015-11\", \"2015-12\", \"2016-01\", \"2016-02\", \"2016-03\", \"2016-04\", \"2016-05\", \"2016-06\", \"2016-07\", \"2016-08\", \"2016-09\", \"2016-10\", \"2016-11\", \"2016-12\", \"2017-01\", \"2017-02\", \"2017-03\", \"2017-04\", \"2017-05\", \"2017-06\", \"2017-07\", \"2017-08\", \"2017-09\", \"2017-10\", \"2017-11\", \"2017-12\", \"2018-01\", \"2018-02\", \"2018-03\", \"2018-04\", \"2018-05\", \"2018-06\", \"2018-07\", \"2018-08\", \"2018-09\", \"2018-10\", \"2018-11\", \"2018-12\", \"2019-01\", \"2019-02\"], \"y\": [1, 1, 1, 1, 1, 2, 1, 4, 15, 13, 18, 20, 22, 20, 29, 9, 41, 38, 43, 46, 42, 45, 33, 35, 41, 41, 60, 61, 48, 52, 54, 49, 50, 57, 55, 47, 49, 57, 71, 68, 75, 79, 69, 67, 87, 85, 70, 78, 84, 75, 71, 72, 81, 68, 77, 69, 75, 80, 75, 67, 71, 78, 81, 58, 78, 59, 46, 40, 44, 47, 59, 46, 44, 45, 45, 24, 44, 4], \"type\": \"bar\", \"uid\": \"0d4073a7-a9fd-4702-9255-e71b853abf7c\"}], {\"title\": {\"text\": \"Number of articles published each month\"}}, {\"showLink\": false, \"linkText\": \"Export to plot.ly\", \"plotlyServerURL\": \"https://plot.ly\"})});</script><script type=\"text/javascript\">window.addEventListener(\"resize\", function(){window._Plotly.Plots.resize(document.getElementById(\"0c7a164f-7652-4e4d-be52-78ea11d80199\"));});</script>"
      ],
      "text/vnd.plotly.v1+html": [
       "<div id=\"0c7a164f-7652-4e4d-be52-78ea11d80199\" style=\"height: 525px; width: 100%;\" class=\"plotly-graph-div\"></div><script type=\"text/javascript\">require([\"plotly\"], function(Plotly) { window.PLOTLYENV=window.PLOTLYENV || {};window.PLOTLYENV.BASE_URL=\"https://plot.ly\";Plotly.newPlot(\"0c7a164f-7652-4e4d-be52-78ea11d80199\", [{\"x\": [\"2012-06\", \"2012-08\", \"2012-10\", \"2012-11\", \"2012-12\", \"2013-01\", \"2013-02\", \"2013-04\", \"2013-05\", \"2013-06\", \"2013-07\", \"2013-08\", \"2013-09\", \"2013-10\", \"2013-11\", \"2013-12\", \"2014-01\", \"2014-02\", \"2014-03\", \"2014-04\", \"2014-05\", \"2014-06\", \"2014-07\", \"2014-08\", \"2014-09\", \"2014-10\", \"2014-11\", \"2014-12\", \"2015-01\", \"2015-02\", \"2015-03\", \"2015-04\", \"2015-05\", \"2015-06\", \"2015-07\", \"2015-08\", \"2015-09\", \"2015-10\", \"2015-11\", \"2015-12\", \"2016-01\", \"2016-02\", \"2016-03\", \"2016-04\", \"2016-05\", \"2016-06\", \"2016-07\", \"2016-08\", \"2016-09\", \"2016-10\", \"2016-11\", \"2016-12\", \"2017-01\", \"2017-02\", \"2017-03\", \"2017-04\", \"2017-05\", \"2017-06\", \"2017-07\", \"2017-08\", \"2017-09\", \"2017-10\", \"2017-11\", \"2017-12\", \"2018-01\", \"2018-02\", \"2018-03\", \"2018-04\", \"2018-05\", \"2018-06\", \"2018-07\", \"2018-08\", \"2018-09\", \"2018-10\", \"2018-11\", \"2018-12\", \"2019-01\", \"2019-02\"], \"y\": [1, 1, 1, 1, 1, 2, 1, 4, 15, 13, 18, 20, 22, 20, 29, 9, 41, 38, 43, 46, 42, 45, 33, 35, 41, 41, 60, 61, 48, 52, 54, 49, 50, 57, 55, 47, 49, 57, 71, 68, 75, 79, 69, 67, 87, 85, 70, 78, 84, 75, 71, 72, 81, 68, 77, 69, 75, 80, 75, 67, 71, 78, 81, 58, 78, 59, 46, 40, 44, 47, 59, 46, 44, 45, 45, 24, 44, 4], \"type\": \"bar\", \"uid\": \"0d4073a7-a9fd-4702-9255-e71b853abf7c\"}], {\"title\": {\"text\": \"Number of articles published each month\"}}, {\"showLink\": false, \"linkText\": \"Export to plot.ly\", \"plotlyServerURL\": \"https://plot.ly\"})});</script><script type=\"text/javascript\">window.addEventListener(\"resize\", function(){window._Plotly.Plots.resize(document.getElementById(\"0c7a164f-7652-4e4d-be52-78ea11d80199\"));});</script>"
      ]
     },
     "metadata": {},
     "output_type": "display_data"
    }
   ],
   "source": [
    "plotData = dDocs.groupby(\"published_period\")\n",
    "plotData = plotData.count().reset_index()\n",
    "\n",
    "p = [go.Bar(x=plotData[\"published_period\"], y=plotData[\"published\"])]\n",
    "l = go.Layout(title = \"Number of articles published each month\")\n",
    "plotly.offline.iplot({\"data\": p, \"layout\":l})"
   ]
  },
  {
   "cell_type": "markdown",
   "metadata": {},
   "source": [
    "Most articles were published between 2016 and 2018\n"
   ]
  },
  {
   "cell_type": "markdown",
   "metadata": {},
   "source": [
    "## Sources"
   ]
  },
  {
   "cell_type": "code",
   "execution_count": 12,
   "metadata": {},
   "outputs": [
    {
     "data": {
      "application/vnd.plotly.v1+json": {
       "config": {
        "linkText": "Export to plot.ly",
        "plotlyServerURL": "https://plot.ly",
        "showLink": false
       },
       "data": [
        {
         "orientation": "h",
         "type": "bar",
         "uid": "47e46b70-3c28-4623-9fac-51322b665337",
         "x": [
          3,
          54,
          74,
          210,
          243,
          433,
          645,
          1027,
          1069
         ],
         "y": [
          "Meldungen aus dem Handelsregisteramt des Kantons Bern",
          "GRUNDBUCHBLOG",
          "PropTech News",
          "IFMA News",
          "Everything PropTech",
          "ImmobilienScout24 Blog",
          "RETN - Real Estate Tech News",
          "Property Management Insider",
          "Immonews RSS Feed"
         ]
        }
       ],
       "layout": {
        "autosize": true,
        "title": {
         "text": "Number of articles published by each source"
        },
        "xaxis": {
         "autorange": true,
         "range": [
          0,
          1125.2631578947369
         ],
         "type": "linear"
        },
        "yaxis": {
         "autorange": true,
         "range": [
          -0.5,
          8.5
         ],
         "type": "category"
        }
       }
      },
      "image/png": "[encoded data removed]",
      "text/html": [
       "<div id=\"5a1840d3-5898-4db2-9569-115d5ee1a1ce\" style=\"height: 525px; width: 100%;\" class=\"plotly-graph-div\"></div><script type=\"text/javascript\">require([\"plotly\"], function(Plotly) { window.PLOTLYENV=window.PLOTLYENV || {};window.PLOTLYENV.BASE_URL=\"https://plot.ly\";Plotly.newPlot(\"5a1840d3-5898-4db2-9569-115d5ee1a1ce\", [{\"orientation\": \"h\", \"x\": [3, 54, 74, 210, 243, 433, 645, 1027, 1069], \"y\": [\"Meldungen aus dem Handelsregisteramt des Kantons Bern\", \"GRUNDBUCHBLOG\", \"PropTech News\", \"IFMA News\", \"Everything PropTech\", \"ImmobilienScout24 Blog\", \"RETN - Real Estate Tech News\", \"Property Management Insider\", \"Immonews RSS Feed\"], \"type\": \"bar\", \"uid\": \"763794e0-0f9d-4c9e-8c1a-f8a17bc1c1ec\"}], {\"title\": {\"text\": \"Number of articles published by each source\"}}, {\"showLink\": false, \"linkText\": \"Export to plot.ly\", \"plotlyServerURL\": \"https://plot.ly\"})});</script><script type=\"text/javascript\">window.addEventListener(\"resize\", function(){window._Plotly.Plots.resize(document.getElementById(\"5a1840d3-5898-4db2-9569-115d5ee1a1ce\"));});</script>"
      ],
      "text/vnd.plotly.v1+html": [
       "<div id=\"5a1840d3-5898-4db2-9569-115d5ee1a1ce\" style=\"height: 525px; width: 100%;\" class=\"plotly-graph-div\"></div><script type=\"text/javascript\">require([\"plotly\"], function(Plotly) { window.PLOTLYENV=window.PLOTLYENV || {};window.PLOTLYENV.BASE_URL=\"https://plot.ly\";Plotly.newPlot(\"5a1840d3-5898-4db2-9569-115d5ee1a1ce\", [{\"orientation\": \"h\", \"x\": [3, 54, 74, 210, 243, 433, 645, 1027, 1069], \"y\": [\"Meldungen aus dem Handelsregisteramt des Kantons Bern\", \"GRUNDBUCHBLOG\", \"PropTech News\", \"IFMA News\", \"Everything PropTech\", \"ImmobilienScout24 Blog\", \"RETN - Real Estate Tech News\", \"Property Management Insider\", \"Immonews RSS Feed\"], \"type\": \"bar\", \"uid\": \"763794e0-0f9d-4c9e-8c1a-f8a17bc1c1ec\"}], {\"title\": {\"text\": \"Number of articles published by each source\"}}, {\"showLink\": false, \"linkText\": \"Export to plot.ly\", \"plotlyServerURL\": \"https://plot.ly\"})});</script><script type=\"text/javascript\">window.addEventListener(\"resize\", function(){window._Plotly.Plots.resize(document.getElementById(\"5a1840d3-5898-4db2-9569-115d5ee1a1ce\"));});</script>"
      ]
     },
     "metadata": {},
     "output_type": "display_data"
    }
   ],
   "source": [
    "plotData = dDocs.groupby(\"feedTitle\")\n",
    "plotData = plotData.count().reset_index().sort_values([\"published_period\"])\n",
    "\n",
    "\n",
    "p = [go.Bar(x=plotData[\"published\"], y=plotData[\"feedTitle\"], orientation=\"h\")]\n",
    "l = go.Layout(title = \"Number of articles published by each source\")\n",
    "plotly.offline.iplot({\"data\": p, \"layout\":l})"
   ]
  },
  {
   "cell_type": "markdown",
   "metadata": {},
   "source": [
    "## Document Characteristics"
   ]
  },
  {
   "cell_type": "code",
   "execution_count": 13,
   "metadata": {},
   "outputs": [
    {
     "data": {
      "text/plain": [
       "['wie der verband haus  grund mitteilt wird die nachfrage nach wohnraum in den kommenden jahren hoher als angenommen sein die hohen zuwanderungs und fluchtlingszahlen wurden ein schnelles handeln erfordern um den menschen wohnungen anbieten zu konnen der verband fordert deshalb die politik auf die kosten fur den wohnungsbau zu senken\\nvon den allein in diesem jahr erwarteten 800000 fluchtlingen wurden laut haus  grund viele dauerhaft in deutschland wohnen bleiben damit der erforderliche wohnraum gebaut werden kann sei ein ganzes bundel an manahmen notwendig\\nerhohung der steuerlichen abschreibung von zwei auf vier prozent\\ngrunderwerbsteuersatz in alter hohe von 35 prozent\\nverstarkte ausweisung von bauland\\nlockerung der energetischen anforderungen an neu und bestandsbauten\\nbereitstellung von mehr wohnraum in innenstadten zum beispiel durch eine baurechtlich vereinfachte aufstockung von gebauden\\nabschaffung der mietpreisbremse\\nnur wenn die koordination von bund landern und kommunen im bereich wohnungs und stadtebaupolitik wesentlich verbessert wird konnten die aktuellen herausforderungen gemeistert werden',\n",
       " 'grundsatzlich gilt bei glatteis grundstuckseigentumer mussen ihre verkehrssicherungspflicht einhalten und dafur sorge tragen dass stolperfallen und gefahrenstellen beseitigt werden ein aktuelles urteil des oberlandesgerichts brandenburg hat allerdings gezeigt dass nicht jede stelle mit glatteis entdeckt werden muss az 2 u 807\\nim vorliegenden fall hatte eine zeitungszustellerin geklagt da sie am fruhen morgen auf glatteis ausgerutscht war und sich schwere verletzungen zugezogen hatte der verkehrssicherungspflichtige hatte ihrer ansicht nach dafur sorgen mussen dass die anliegerstrae frei von eis und schnee ist sie verlangte schmerzensgeld\\ndas oberlandesgericht brandenburg lehnte die klage allerdings ab zwar sei der winterdienst grundsatzlich zu erfullen jedoch war in diesem fall die glatteisstelle lediglich einen meter breit und die ortung und beseitigung dem grundstuckseigentumer nicht zumutbar',\n",
       " 'fuel enterprises develops cloudbased technology platforms for commercial real estate with a focus on valuation forecasting and data the flagship product fuel is designed to enable realtime valuation process and transparency for everyone  from executives to analysts and from individuals to institutions  throughout the commercial real estate ecosystem']"
      ]
     },
     "execution_count": 13,
     "metadata": {},
     "output_type": "execute_result"
    }
   ],
   "source": [
    "summaries = list()\n",
    "for d in dDocs.index:\n",
    "    summaries.append(preprocess_document(dDocs[\"summary\"][d]))\n",
    "\n",
    "summaries[:3]"
   ]
  },
  {
   "cell_type": "code",
   "execution_count": 14,
   "metadata": {},
   "outputs": [
    {
     "ename": "NameError",
     "evalue": "name 'strip_html' is not defined",
     "output_type": "error",
     "traceback": [
      "\u001b[1;31m---------------------------------------------------------------------------\u001b[0m",
      "\u001b[1;31mNameError\u001b[0m                                 Traceback (most recent call last)",
      "\u001b[1;32m<ipython-input-14-69eb6d8d38c8>\u001b[0m in \u001b[0;36m<module>\u001b[1;34m\u001b[0m\n\u001b[0;32m      9\u001b[0m     \u001b[1;32mtry\u001b[0m\u001b[1;33m:\u001b[0m\u001b[1;33m\u001b[0m\u001b[1;33m\u001b[0m\u001b[0m\n\u001b[0;32m     10\u001b[0m         \u001b[0mtmpSummary\u001b[0m \u001b[1;33m=\u001b[0m \u001b[0mv\u001b[0m\u001b[1;33m.\u001b[0m\u001b[0mget\u001b[0m\u001b[1;33m(\u001b[0m\u001b[1;34m\"summary\"\u001b[0m\u001b[1;33m)\u001b[0m\u001b[1;33m.\u001b[0m\u001b[0mget\u001b[0m\u001b[1;33m(\u001b[0m\u001b[1;34m\"content\"\u001b[0m\u001b[1;33m)\u001b[0m\u001b[1;33m\u001b[0m\u001b[1;33m\u001b[0m\u001b[0m\n\u001b[1;32m---> 11\u001b[1;33m         \u001b[0msummaries\u001b[0m\u001b[1;33m[\u001b[0m\u001b[0mk\u001b[0m\u001b[1;33m]\u001b[0m \u001b[1;33m=\u001b[0m \u001b[0mstrip_html\u001b[0m\u001b[1;33m(\u001b[0m\u001b[0mtmpSummary\u001b[0m\u001b[1;33m)\u001b[0m\u001b[1;33m\u001b[0m\u001b[1;33m\u001b[0m\u001b[0m\n\u001b[0m\u001b[0;32m     12\u001b[0m     \u001b[1;32mexcept\u001b[0m \u001b[0mAttributeError\u001b[0m\u001b[1;33m:\u001b[0m\u001b[1;33m\u001b[0m\u001b[1;33m\u001b[0m\u001b[0m\n\u001b[0;32m     13\u001b[0m         \u001b[0msummaries\u001b[0m\u001b[1;33m[\u001b[0m\u001b[0mk\u001b[0m\u001b[1;33m]\u001b[0m \u001b[1;33m=\u001b[0m \u001b[1;32mNone\u001b[0m\u001b[1;33m\u001b[0m\u001b[1;33m\u001b[0m\u001b[0m\n",
      "\u001b[1;31mNameError\u001b[0m: name 'strip_html' is not defined"
     ]
    }
   ],
   "source": [
    "\n",
    "summaries = dict()\n",
    "titles = dict()\n",
    "\n",
    "# extract titles and summaries (v.get / try to handle missing summaries)\n",
    "# remove html elements from summary\n",
    "for k, v in dRaw.items():\n",
    "    titles[k] = v.get(\"title\")\n",
    "    try:\n",
    "        tmpSummary = v.get(\"summary\").get(\"content\")\n",
    "        summaries[k] = strip_html(tmpSummary)\n",
    "    except AttributeError:\n",
    "        summaries[k] = None\n"
   ]
  },
  {
   "cell_type": "code",
   "execution_count": null,
   "metadata": {},
   "outputs": [],
   "source": [
    "# word tokenize summaries and titles\n",
    "for k, v in summaries.items():\n",
    "    try:\n",
    "        summaries[k] = nltk.tokenize.word_tokenize(v)\n",
    "    except TypeError:\n",
    "        summaries[k] = None"
   ]
  },
  {
   "cell_type": "code",
   "execution_count": 15,
   "metadata": {},
   "outputs": [
    {
     "name": "stdout",
     "output_type": "stream",
     "text": [
      "0\n",
      "3758\n"
     ]
    },
    {
     "ename": "KeyError",
     "evalue": "'tWH7WySPByo3uihEWohLz5ZTo2J828AaTnFpHiUsvDo=_14ffc58c7af:156decbc:fccac72e'",
     "output_type": "error",
     "traceback": [
      "\u001b[1;31m---------------------------------------------------------------------------\u001b[0m",
      "\u001b[1;31mKeyError\u001b[0m                                  Traceback (most recent call last)",
      "\u001b[1;32m<ipython-input-15-86957d9fe16a>\u001b[0m in \u001b[0;36m<module>\u001b[1;34m\u001b[0m\n\u001b[0;32m      6\u001b[0m \u001b[1;32mfor\u001b[0m \u001b[0mi\u001b[0m \u001b[1;32min\u001b[0m \u001b[0mdDocs\u001b[0m\u001b[1;33m.\u001b[0m\u001b[0mindex\u001b[0m\u001b[1;33m:\u001b[0m\u001b[1;33m\u001b[0m\u001b[1;33m\u001b[0m\u001b[0m\n\u001b[0;32m      7\u001b[0m     \u001b[1;32mtry\u001b[0m\u001b[1;33m:\u001b[0m\u001b[1;33m\u001b[0m\u001b[1;33m\u001b[0m\u001b[0m\n\u001b[1;32m----> 8\u001b[1;33m         \u001b[0mArticleLengths\u001b[0m\u001b[1;33m.\u001b[0m\u001b[0mappend\u001b[0m\u001b[1;33m(\u001b[0m\u001b[0mlen\u001b[0m\u001b[1;33m(\u001b[0m\u001b[0msummaries\u001b[0m\u001b[1;33m[\u001b[0m\u001b[0mi\u001b[0m\u001b[1;33m]\u001b[0m\u001b[1;33m)\u001b[0m\u001b[1;33m)\u001b[0m\u001b[1;33m\u001b[0m\u001b[1;33m\u001b[0m\u001b[0m\n\u001b[0m\u001b[0;32m      9\u001b[0m     \u001b[1;32mexcept\u001b[0m \u001b[0mTypeError\u001b[0m\u001b[1;33m:\u001b[0m\u001b[1;33m\u001b[0m\u001b[1;33m\u001b[0m\u001b[0m\n\u001b[0;32m     10\u001b[0m         \u001b[0mArticleLengths\u001b[0m\u001b[1;33m.\u001b[0m\u001b[0mappend\u001b[0m\u001b[1;33m(\u001b[0m\u001b[1;36m0\u001b[0m\u001b[1;33m)\u001b[0m\u001b[1;33m\u001b[0m\u001b[1;33m\u001b[0m\u001b[0m\n",
      "\u001b[1;31mKeyError\u001b[0m: 'tWH7WySPByo3uihEWohLz5ZTo2J828AaTnFpHiUsvDo=_14ffc58c7af:156decbc:fccac72e'"
     ]
    }
   ],
   "source": [
    "# check equal length of dDocs and summaries\n",
    "print(len(summaries))\n",
    "print(len(dDocs))\n",
    "\n",
    "ArticleLengths = list()\n",
    "for i in dDocs.index:\n",
    "    try:\n",
    "        ArticleLengths.append(len(summaries[i]))\n",
    "    except TypeError:\n",
    "        ArticleLengths.append(0)\n",
    "\n",
    "dDocs[\"ArticleLength\"] = ArticleLengths\n",
    "dDocs.head()"
   ]
  },
  {
   "cell_type": "code",
   "execution_count": 16,
   "metadata": {},
   "outputs": [
    {
     "ename": "TypeError",
     "evalue": "unsupported operand type(s) for +: 'NoneType' and 'str'",
     "output_type": "error",
     "traceback": [
      "\u001b[1;31m---------------------------------------------------------------------------\u001b[0m",
      "\u001b[1;31mTypeError\u001b[0m                                 Traceback (most recent call last)",
      "\u001b[1;32m<ipython-input-16-13f9b4e9cce4>\u001b[0m in \u001b[0;36m<module>\u001b[1;34m\u001b[0m\n\u001b[0;32m      5\u001b[0m \u001b[1;33m\u001b[0m\u001b[0m\n\u001b[0;32m      6\u001b[0m \u001b[1;32mfor\u001b[0m \u001b[0mi\u001b[0m \u001b[1;32min\u001b[0m \u001b[0ma\u001b[0m\u001b[1;33m:\u001b[0m\u001b[1;33m\u001b[0m\u001b[1;33m\u001b[0m\u001b[0m\n\u001b[1;32m----> 7\u001b[1;33m     \u001b[0mprint\u001b[0m\u001b[1;33m(\u001b[0m\u001b[0mpreprocess_document\u001b[0m\u001b[1;33m(\u001b[0m\u001b[0mi\u001b[0m\u001b[1;33m)\u001b[0m \u001b[1;33m+\u001b[0m \u001b[1;34m\"aaa\"\u001b[0m\u001b[1;33m)\u001b[0m\u001b[1;33m\u001b[0m\u001b[1;33m\u001b[0m\u001b[0m\n\u001b[0m\u001b[0;32m      8\u001b[0m \u001b[1;33m\u001b[0m\u001b[0m\n",
      "\u001b[1;31mTypeError\u001b[0m: unsupported operand type(s) for +: 'NoneType' and 'str'"
     ]
    }
   ],
   "source": [
    "# vocabulary\n",
    "# most popular words (overall, tf/idf)\n",
    "a = [\"\", \" \", None]\n",
    "\n",
    "\n",
    "for i in a:\n",
    "    print(preprocess_document(i) + \"aaa\")\n",
    "    "
   ]
  },
  {
   "cell_type": "code",
   "execution_count": 17,
   "metadata": {},
   "outputs": [
    {
     "data": {
      "text/plain": [
       "array(['aaaa', 'aaab', 'aaac'], dtype='<U4')"
      ]
     },
     "execution_count": 17,
     "metadata": {},
     "output_type": "execute_result"
    }
   ],
   "source": [
    "def somefun(text):\n",
    "    return \"aaa\" + text\n",
    "\n",
    "somefun_vectorized = np.vectorize(somefun)\n",
    "somefun_vectorized([\"a\", \"b\", \"c\"])"
   ]
  },
  {
   "cell_type": "code",
   "execution_count": 77,
   "metadata": {},
   "outputs": [
    {
     "ename": "NameError",
     "evalue": "name 'reload' is not defined",
     "output_type": "error",
     "traceback": [
      "\u001b[1;31m---------------------------------------------------------------------------\u001b[0m",
      "\u001b[1;31mNameError\u001b[0m                                 Traceback (most recent call last)",
      "\u001b[1;32m<ipython-input-77-eb7b436789c6>\u001b[0m in \u001b[0;36m<module>\u001b[1;34m\u001b[0m\n\u001b[1;32m----> 1\u001b[1;33m \u001b[0mreload\u001b[0m\u001b[1;33m(\u001b[0m\u001b[0msrc\u001b[0m\u001b[1;33m.\u001b[0m\u001b[0mdata\u001b[0m\u001b[1;33m.\u001b[0m\u001b[0mpreprocess_utils\u001b[0m\u001b[1;33m)\u001b[0m\u001b[1;33m\u001b[0m\u001b[1;33m\u001b[0m\u001b[0m\n\u001b[0m",
      "\u001b[1;31mNameError\u001b[0m: name 'reload' is not defined"
     ]
    }
   ],
   "source": []
  },
  {
   "cell_type": "code",
   "execution_count": null,
   "metadata": {},
   "outputs": [],
   "source": []
  }
 ],
 "metadata": {
  "kernelspec": {
   "display_name": "Python 3",
   "language": "python",
   "name": "python3"
  },
  "language_info": {
   "codemirror_mode": {
    "name": "ipython",
    "version": 3
   },
   "file_extension": ".py",
   "mimetype": "text/x-python",
   "name": "python",
   "nbconvert_exporter": "python",
   "pygments_lexer": "ipython3",
   "version": "3.6.8"
  }
 },
 "nbformat": 4,
 "nbformat_minor": 2
}

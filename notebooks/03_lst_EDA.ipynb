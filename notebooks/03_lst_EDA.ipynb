{
 "cells": [
  {
   "cell_type": "markdown",
   "metadata": {},
   "source": [
    "# Exploratory Analysis of Real Estate News Data"
   ]
  },
  {
   "cell_type": "markdown",
   "metadata": {},
   "source": [
    "## Setup"
   ]
  },
  {
   "cell_type": "code",
   "execution_count": 1,
   "metadata": {},
   "outputs": [],
   "source": [
    "import pandas as pd\n",
    "import numpy as np\n",
    "import os, sys\n",
    "import json\n",
    "from dotenv import find_dotenv, load_dotenv\n",
    "from datetime import datetime"
   ]
  },
  {
   "cell_type": "code",
   "execution_count": 2,
   "metadata": {},
   "outputs": [
    {
     "data": {
      "text/html": [
       "<div>\n",
       "<style scoped>\n",
       "    .dataframe tbody tr th:only-of-type {\n",
       "        vertical-align: middle;\n",
       "    }\n",
       "\n",
       "    .dataframe tbody tr th {\n",
       "        vertical-align: top;\n",
       "    }\n",
       "\n",
       "    .dataframe thead th {\n",
       "        text-align: right;\n",
       "    }\n",
       "</style>\n",
       "<table border=\"1\" class=\"dataframe\">\n",
       "  <thead>\n",
       "    <tr style=\"text-align: right;\">\n",
       "      <th></th>\n",
       "      <th>feedTitle</th>\n",
       "      <th>author</th>\n",
       "      <th>published</th>\n",
       "      <th>engagement</th>\n",
       "      <th>title</th>\n",
       "      <th>fileID</th>\n",
       "      <th>published_period</th>\n",
       "    </tr>\n",
       "  </thead>\n",
       "  <tbody>\n",
       "    <tr>\n",
       "      <th>tWH7WySPByo3uihEWohLz5ZTo2J828AaTnFpHiUsvDo=_14ffc58c7af:156decbc:fccac72e</th>\n",
       "      <td>Immonews RSS Feed</td>\n",
       "      <td>Fotolia.de / nmann77</td>\n",
       "      <td>2015-09-23 22:35:20.879</td>\n",
       "      <td>7</td>\n",
       "      <td>24.09.2015 - Politik &amp; Wirtschaft: Haus &amp; Grun...</td>\n",
       "      <td>1</td>\n",
       "      <td>2015-09</td>\n",
       "    </tr>\n",
       "    <tr>\n",
       "      <th>tWH7WySPByo3uihEWohLz5ZTo2J828AaTnFpHiUsvDo=_15994eb4e80:6bb50cc:1e99f69f</th>\n",
       "      <td>Immonews RSS Feed</td>\n",
       "      <td>Fotolia.de / 2xwilfinger</td>\n",
       "      <td>2017-01-12 23:02:46.144</td>\n",
       "      <td>17</td>\n",
       "      <td>13.01.2017 - Leben &amp; Wohnen: Ausnahme beim Win...</td>\n",
       "      <td>2</td>\n",
       "      <td>2017-01</td>\n",
       "    </tr>\n",
       "    <tr>\n",
       "      <th>hu94UCg3vuxifOgio/b16czFOOJs9C7thvt+mklFm78=_15f5873f95f:9d862cf:4d363ef0</th>\n",
       "      <td>RETN - Real Estate Tech News</td>\n",
       "      <td>Lindsey Imperatore</td>\n",
       "      <td>2017-10-26 11:30:00.000</td>\n",
       "      <td>1</td>\n",
       "      <td>Exclusive Q&amp;A With #RETAS Sponsor Glenn Murray...</td>\n",
       "      <td>3</td>\n",
       "      <td>2017-10</td>\n",
       "    </tr>\n",
       "    <tr>\n",
       "      <th>pAll0y5reb9EOfInG4eisUIzkoZc4xCx0HyK02/6FhU=_1436d43bf75:11670829:d7247628</th>\n",
       "      <td>Property Management Insider</td>\n",
       "      <td>Greg Willett</td>\n",
       "      <td>2014-01-07 15:50:04.000</td>\n",
       "      <td>14</td>\n",
       "      <td>Will Oakland’s Apartment Market Lead the Way i...</td>\n",
       "      <td>4</td>\n",
       "      <td>2014-01</td>\n",
       "    </tr>\n",
       "    <tr>\n",
       "      <th>xWDIGZBMt8xnhnzyNkukvtkIAR2mBD5dsDLzMT+azN4=_16204a07f50:21ee66:4e6e6075</th>\n",
       "      <td>PropTech News</td>\n",
       "      <td>proptechnews</td>\n",
       "      <td>2018-03-08 08:00:50.000</td>\n",
       "      <td>0</td>\n",
       "      <td>Mehr, mehr, mehr PropTech</td>\n",
       "      <td>5</td>\n",
       "      <td>2018-03</td>\n",
       "    </tr>\n",
       "  </tbody>\n",
       "</table>\n",
       "</div>"
      ],
      "text/plain": [
       "                                                                       feedTitle  \\\n",
       "tWH7WySPByo3uihEWohLz5ZTo2J828AaTnFpHiUsvDo=_14...             Immonews RSS Feed   \n",
       "tWH7WySPByo3uihEWohLz5ZTo2J828AaTnFpHiUsvDo=_15...             Immonews RSS Feed   \n",
       "hu94UCg3vuxifOgio/b16czFOOJs9C7thvt+mklFm78=_15...  RETN - Real Estate Tech News   \n",
       "pAll0y5reb9EOfInG4eisUIzkoZc4xCx0HyK02/6FhU=_14...   Property Management Insider   \n",
       "xWDIGZBMt8xnhnzyNkukvtkIAR2mBD5dsDLzMT+azN4=_16...                 PropTech News   \n",
       "\n",
       "                                                                      author  \\\n",
       "tWH7WySPByo3uihEWohLz5ZTo2J828AaTnFpHiUsvDo=_14...      Fotolia.de / nmann77   \n",
       "tWH7WySPByo3uihEWohLz5ZTo2J828AaTnFpHiUsvDo=_15...  Fotolia.de / 2xwilfinger   \n",
       "hu94UCg3vuxifOgio/b16czFOOJs9C7thvt+mklFm78=_15...        Lindsey Imperatore   \n",
       "pAll0y5reb9EOfInG4eisUIzkoZc4xCx0HyK02/6FhU=_14...              Greg Willett   \n",
       "xWDIGZBMt8xnhnzyNkukvtkIAR2mBD5dsDLzMT+azN4=_16...              proptechnews   \n",
       "\n",
       "                                                                 published  \\\n",
       "tWH7WySPByo3uihEWohLz5ZTo2J828AaTnFpHiUsvDo=_14... 2015-09-23 22:35:20.879   \n",
       "tWH7WySPByo3uihEWohLz5ZTo2J828AaTnFpHiUsvDo=_15... 2017-01-12 23:02:46.144   \n",
       "hu94UCg3vuxifOgio/b16czFOOJs9C7thvt+mklFm78=_15... 2017-10-26 11:30:00.000   \n",
       "pAll0y5reb9EOfInG4eisUIzkoZc4xCx0HyK02/6FhU=_14... 2014-01-07 15:50:04.000   \n",
       "xWDIGZBMt8xnhnzyNkukvtkIAR2mBD5dsDLzMT+azN4=_16... 2018-03-08 08:00:50.000   \n",
       "\n",
       "                                                   engagement  \\\n",
       "tWH7WySPByo3uihEWohLz5ZTo2J828AaTnFpHiUsvDo=_14...          7   \n",
       "tWH7WySPByo3uihEWohLz5ZTo2J828AaTnFpHiUsvDo=_15...         17   \n",
       "hu94UCg3vuxifOgio/b16czFOOJs9C7thvt+mklFm78=_15...          1   \n",
       "pAll0y5reb9EOfInG4eisUIzkoZc4xCx0HyK02/6FhU=_14...         14   \n",
       "xWDIGZBMt8xnhnzyNkukvtkIAR2mBD5dsDLzMT+azN4=_16...          0   \n",
       "\n",
       "                                                                                                title  \\\n",
       "tWH7WySPByo3uihEWohLz5ZTo2J828AaTnFpHiUsvDo=_14...  24.09.2015 - Politik & Wirtschaft: Haus & Grun...   \n",
       "tWH7WySPByo3uihEWohLz5ZTo2J828AaTnFpHiUsvDo=_15...  13.01.2017 - Leben & Wohnen: Ausnahme beim Win...   \n",
       "hu94UCg3vuxifOgio/b16czFOOJs9C7thvt+mklFm78=_15...  Exclusive Q&A With #RETAS Sponsor Glenn Murray...   \n",
       "pAll0y5reb9EOfInG4eisUIzkoZc4xCx0HyK02/6FhU=_14...  Will Oakland’s Apartment Market Lead the Way i...   \n",
       "xWDIGZBMt8xnhnzyNkukvtkIAR2mBD5dsDLzMT+azN4=_16...                          Mehr, mehr, mehr PropTech   \n",
       "\n",
       "                                                    fileID published_period  \n",
       "tWH7WySPByo3uihEWohLz5ZTo2J828AaTnFpHiUsvDo=_14...       1          2015-09  \n",
       "tWH7WySPByo3uihEWohLz5ZTo2J828AaTnFpHiUsvDo=_15...       2          2017-01  \n",
       "hu94UCg3vuxifOgio/b16czFOOJs9C7thvt+mklFm78=_15...       3          2017-10  \n",
       "pAll0y5reb9EOfInG4eisUIzkoZc4xCx0HyK02/6FhU=_14...       4          2014-01  \n",
       "xWDIGZBMt8xnhnzyNkukvtkIAR2mBD5dsDLzMT+azN4=_16...       5          2018-03  "
      ]
     },
     "execution_count": 2,
     "metadata": {},
     "output_type": "execute_result"
    }
   ],
   "source": [
    "with open(\"../src/config.json\", \"r\") as f:\n",
    "    cfg = json.load(f)\n",
    "    \n",
    "df = pd.read_pickle(\"../data/interim/structured_data_20190302.pickle\")\n",
    "\n",
    "df[\"published_period\"] = df[\"published\"].dt.to_period(\"M\").astype(str)\n",
    "df.head(5)"
   ]
  },
  {
   "cell_type": "markdown",
   "metadata": {},
   "source": [
    "## Time of Publication"
   ]
  },
  {
   "cell_type": "code",
   "execution_count": 3,
   "metadata": {},
   "outputs": [
    {
     "data": {
      "text/html": [
       "<script type=\"text/javascript\">window.PlotlyConfig = {MathJaxConfig: 'local'};</script><script type=\"text/javascript\">if (window.MathJax) {MathJax.Hub.Config({SVG: {font: \"STIX-Web\"}});}</script><script>requirejs.config({paths: { 'plotly': ['https://cdn.plot.ly/plotly-latest.min']},});if(!window._Plotly) {require(['plotly'],function(plotly) {window._Plotly=plotly;});}</script>"
      ],
      "text/vnd.plotly.v1+html": [
       "<script type=\"text/javascript\">window.PlotlyConfig = {MathJaxConfig: 'local'};</script><script type=\"text/javascript\">if (window.MathJax) {MathJax.Hub.Config({SVG: {font: \"STIX-Web\"}});}</script><script>requirejs.config({paths: { 'plotly': ['https://cdn.plot.ly/plotly-latest.min']},});if(!window._Plotly) {require(['plotly'],function(plotly) {window._Plotly=plotly;});}</script>"
      ]
     },
     "metadata": {},
     "output_type": "display_data"
    }
   ],
   "source": [
    "import plotly\n",
    "import plotly.graph_objs as go\n",
    "plotly.offline.init_notebook_mode(connected=True)"
   ]
  },
  {
   "cell_type": "code",
   "execution_count": 4,
   "metadata": {},
   "outputs": [
    {
     "data": {
      "application/vnd.plotly.v1+json": {
       "config": {
        "linkText": "Export to plot.ly",
        "plotlyServerURL": "https://plot.ly",
        "showLink": false
       },
       "data": [
        {
         "type": "bar",
         "uid": "2a65e038-b9a5-4862-afb2-183c59eeba22",
         "x": [
          "2012-06",
          "2012-08",
          "2012-10",
          "2012-11",
          "2012-12",
          "2013-01",
          "2013-02",
          "2013-04",
          "2013-05",
          "2013-06",
          "2013-07",
          "2013-08",
          "2013-09",
          "2013-10",
          "2013-11",
          "2013-12",
          "2014-01",
          "2014-02",
          "2014-03",
          "2014-04",
          "2014-05",
          "2014-06",
          "2014-07",
          "2014-08",
          "2014-09",
          "2014-10",
          "2014-11",
          "2014-12",
          "2015-01",
          "2015-02",
          "2015-03",
          "2015-04",
          "2015-05",
          "2015-06",
          "2015-07",
          "2015-08",
          "2015-09",
          "2015-10",
          "2015-11",
          "2015-12",
          "2016-01",
          "2016-02",
          "2016-03",
          "2016-04",
          "2016-05",
          "2016-06",
          "2016-07",
          "2016-08",
          "2016-09",
          "2016-10",
          "2016-11",
          "2016-12",
          "2017-01",
          "2017-02",
          "2017-03",
          "2017-04",
          "2017-05",
          "2017-06",
          "2017-07",
          "2017-08",
          "2017-09",
          "2017-10",
          "2017-11",
          "2017-12",
          "2018-01",
          "2018-02",
          "2018-03",
          "2018-04",
          "2018-05",
          "2018-06",
          "2018-07",
          "2018-08",
          "2018-09",
          "2018-10",
          "2018-11",
          "2018-12",
          "2019-01",
          "2019-02"
         ],
         "y": [
          1,
          1,
          1,
          1,
          1,
          2,
          1,
          4,
          15,
          13,
          18,
          20,
          22,
          20,
          29,
          9,
          41,
          38,
          43,
          46,
          42,
          45,
          33,
          35,
          41,
          41,
          60,
          61,
          48,
          52,
          54,
          49,
          50,
          57,
          55,
          47,
          49,
          57,
          71,
          68,
          75,
          79,
          69,
          67,
          87,
          85,
          70,
          78,
          84,
          75,
          71,
          72,
          81,
          68,
          77,
          69,
          75,
          80,
          75,
          67,
          71,
          78,
          81,
          58,
          78,
          59,
          46,
          40,
          44,
          47,
          59,
          46,
          44,
          45,
          45,
          24,
          44,
          4
         ]
        }
       ],
       "layout": {
        "autosize": true,
        "title": {
         "text": "Number of articles published each month"
        },
        "xaxis": {
         "autorange": true,
         "range": [
          "2012-05-18",
          "2019-02-15"
         ],
         "type": "date"
        },
        "yaxis": {
         "autorange": true,
         "range": [
          0,
          91.57894736842105
         ],
         "type": "linear"
        }
       }
      },
      "image/png": "[encoded data removed]",
      "text/html": [
       "<div id=\"370a050f-c097-45b6-a8b3-d94826efef14\" style=\"height: 525px; width: 100%;\" class=\"plotly-graph-div\"></div><script type=\"text/javascript\">require([\"plotly\"], function(Plotly) { window.PLOTLYENV=window.PLOTLYENV || {};window.PLOTLYENV.BASE_URL=\"https://plot.ly\";Plotly.newPlot(\"370a050f-c097-45b6-a8b3-d94826efef14\", [{\"x\": [\"2012-06\", \"2012-08\", \"2012-10\", \"2012-11\", \"2012-12\", \"2013-01\", \"2013-02\", \"2013-04\", \"2013-05\", \"2013-06\", \"2013-07\", \"2013-08\", \"2013-09\", \"2013-10\", \"2013-11\", \"2013-12\", \"2014-01\", \"2014-02\", \"2014-03\", \"2014-04\", \"2014-05\", \"2014-06\", \"2014-07\", \"2014-08\", \"2014-09\", \"2014-10\", \"2014-11\", \"2014-12\", \"2015-01\", \"2015-02\", \"2015-03\", \"2015-04\", \"2015-05\", \"2015-06\", \"2015-07\", \"2015-08\", \"2015-09\", \"2015-10\", \"2015-11\", \"2015-12\", \"2016-01\", \"2016-02\", \"2016-03\", \"2016-04\", \"2016-05\", \"2016-06\", \"2016-07\", \"2016-08\", \"2016-09\", \"2016-10\", \"2016-11\", \"2016-12\", \"2017-01\", \"2017-02\", \"2017-03\", \"2017-04\", \"2017-05\", \"2017-06\", \"2017-07\", \"2017-08\", \"2017-09\", \"2017-10\", \"2017-11\", \"2017-12\", \"2018-01\", \"2018-02\", \"2018-03\", \"2018-04\", \"2018-05\", \"2018-06\", \"2018-07\", \"2018-08\", \"2018-09\", \"2018-10\", \"2018-11\", \"2018-12\", \"2019-01\", \"2019-02\"], \"y\": [1, 1, 1, 1, 1, 2, 1, 4, 15, 13, 18, 20, 22, 20, 29, 9, 41, 38, 43, 46, 42, 45, 33, 35, 41, 41, 60, 61, 48, 52, 54, 49, 50, 57, 55, 47, 49, 57, 71, 68, 75, 79, 69, 67, 87, 85, 70, 78, 84, 75, 71, 72, 81, 68, 77, 69, 75, 80, 75, 67, 71, 78, 81, 58, 78, 59, 46, 40, 44, 47, 59, 46, 44, 45, 45, 24, 44, 4], \"type\": \"bar\", \"uid\": \"90d98380-d5d1-4493-ace0-e878821515c4\"}], {\"title\": {\"text\": \"Number of articles published each month\"}}, {\"showLink\": false, \"linkText\": \"Export to plot.ly\", \"plotlyServerURL\": \"https://plot.ly\"})});</script><script type=\"text/javascript\">window.addEventListener(\"resize\", function(){window._Plotly.Plots.resize(document.getElementById(\"370a050f-c097-45b6-a8b3-d94826efef14\"));});</script>"
      ],
      "text/vnd.plotly.v1+html": [
       "<div id=\"370a050f-c097-45b6-a8b3-d94826efef14\" style=\"height: 525px; width: 100%;\" class=\"plotly-graph-div\"></div><script type=\"text/javascript\">require([\"plotly\"], function(Plotly) { window.PLOTLYENV=window.PLOTLYENV || {};window.PLOTLYENV.BASE_URL=\"https://plot.ly\";Plotly.newPlot(\"370a050f-c097-45b6-a8b3-d94826efef14\", [{\"x\": [\"2012-06\", \"2012-08\", \"2012-10\", \"2012-11\", \"2012-12\", \"2013-01\", \"2013-02\", \"2013-04\", \"2013-05\", \"2013-06\", \"2013-07\", \"2013-08\", \"2013-09\", \"2013-10\", \"2013-11\", \"2013-12\", \"2014-01\", \"2014-02\", \"2014-03\", \"2014-04\", \"2014-05\", \"2014-06\", \"2014-07\", \"2014-08\", \"2014-09\", \"2014-10\", \"2014-11\", \"2014-12\", \"2015-01\", \"2015-02\", \"2015-03\", \"2015-04\", \"2015-05\", \"2015-06\", \"2015-07\", \"2015-08\", \"2015-09\", \"2015-10\", \"2015-11\", \"2015-12\", \"2016-01\", \"2016-02\", \"2016-03\", \"2016-04\", \"2016-05\", \"2016-06\", \"2016-07\", \"2016-08\", \"2016-09\", \"2016-10\", \"2016-11\", \"2016-12\", \"2017-01\", \"2017-02\", \"2017-03\", \"2017-04\", \"2017-05\", \"2017-06\", \"2017-07\", \"2017-08\", \"2017-09\", \"2017-10\", \"2017-11\", \"2017-12\", \"2018-01\", \"2018-02\", \"2018-03\", \"2018-04\", \"2018-05\", \"2018-06\", \"2018-07\", \"2018-08\", \"2018-09\", \"2018-10\", \"2018-11\", \"2018-12\", \"2019-01\", \"2019-02\"], \"y\": [1, 1, 1, 1, 1, 2, 1, 4, 15, 13, 18, 20, 22, 20, 29, 9, 41, 38, 43, 46, 42, 45, 33, 35, 41, 41, 60, 61, 48, 52, 54, 49, 50, 57, 55, 47, 49, 57, 71, 68, 75, 79, 69, 67, 87, 85, 70, 78, 84, 75, 71, 72, 81, 68, 77, 69, 75, 80, 75, 67, 71, 78, 81, 58, 78, 59, 46, 40, 44, 47, 59, 46, 44, 45, 45, 24, 44, 4], \"type\": \"bar\", \"uid\": \"90d98380-d5d1-4493-ace0-e878821515c4\"}], {\"title\": {\"text\": \"Number of articles published each month\"}}, {\"showLink\": false, \"linkText\": \"Export to plot.ly\", \"plotlyServerURL\": \"https://plot.ly\"})});</script><script type=\"text/javascript\">window.addEventListener(\"resize\", function(){window._Plotly.Plots.resize(document.getElementById(\"370a050f-c097-45b6-a8b3-d94826efef14\"));});</script>"
      ]
     },
     "metadata": {},
     "output_type": "display_data"
    }
   ],
   "source": [
    "plotData = df.groupby(\"published_period\")\n",
    "plotData = plotData.count().reset_index()\n",
    "\n",
    "p = [go.Bar(x=plotData[\"published_period\"], y=plotData[\"published\"])]\n",
    "l = go.Layout(title = \"Number of articles published each month\")\n",
    "plotly.offline.iplot({\"data\": p, \"layout\":l})"
   ]
  },
  {
   "cell_type": "markdown",
   "metadata": {},
   "source": [
    "Most articles were published between 2016 and 2018\n"
   ]
  },
  {
   "cell_type": "markdown",
   "metadata": {},
   "source": [
    "## Sources"
   ]
  },
  {
   "cell_type": "code",
   "execution_count": 6,
   "metadata": {},
   "outputs": [
    {
     "data": {
      "application/vnd.plotly.v1+json": {
       "config": {
        "linkText": "Export to plot.ly",
        "plotlyServerURL": "https://plot.ly",
        "showLink": false
       },
       "data": [
        {
         "orientation": "h",
         "type": "bar",
         "uid": "2288f59b-94f4-436e-897b-50eaaca8bf8b",
         "x": [
          3,
          54,
          74,
          210,
          243,
          433,
          645,
          1027,
          1069
         ],
         "y": [
          "Meldungen aus dem Handelsregisteramt des Kantons Bern",
          "GRUNDBUCHBLOG",
          "PropTech News",
          "IFMA News",
          "Everything PropTech",
          "ImmobilienScout24 Blog",
          "RETN - Real Estate Tech News",
          "Property Management Insider",
          "Immonews RSS Feed"
         ]
        }
       ],
       "layout": {
        "autosize": true,
        "margin": {
         "l": 400
        },
        "title": {
         "text": "Number of articles published by each source"
        },
        "xaxis": {
         "autorange": true,
         "range": [
          0,
          1125.2631578947369
         ],
         "type": "linear"
        },
        "yaxis": {
         "autorange": true,
         "range": [
          -0.5,
          8.5
         ],
         "type": "category"
        }
       }
      },
      "image/png": "[encoded data removed]",
      "text/html": [
       "<div id=\"041daac3-f0c6-47be-b191-e7b461b6fe73\" style=\"height: 525px; width: 100%;\" class=\"plotly-graph-div\"></div><script type=\"text/javascript\">require([\"plotly\"], function(Plotly) { window.PLOTLYENV=window.PLOTLYENV || {};window.PLOTLYENV.BASE_URL=\"https://plot.ly\";Plotly.newPlot(\"041daac3-f0c6-47be-b191-e7b461b6fe73\", [{\"orientation\": \"h\", \"x\": [3, 54, 74, 210, 243, 433, 645, 1027, 1069], \"y\": [\"Meldungen aus dem Handelsregisteramt des Kantons Bern\", \"GRUNDBUCHBLOG\", \"PropTech News\", \"IFMA News\", \"Everything PropTech\", \"ImmobilienScout24 Blog\", \"RETN - Real Estate Tech News\", \"Property Management Insider\", \"Immonews RSS Feed\"], \"type\": \"bar\", \"uid\": \"3acad816-d67c-4140-be26-0c0e3c9701bd\"}], {\"margin\": {\"l\": 400}, \"title\": {\"text\": \"Number of articles published by each source\"}}, {\"showLink\": false, \"linkText\": \"Export to plot.ly\", \"plotlyServerURL\": \"https://plot.ly\"})});</script><script type=\"text/javascript\">window.addEventListener(\"resize\", function(){window._Plotly.Plots.resize(document.getElementById(\"041daac3-f0c6-47be-b191-e7b461b6fe73\"));});</script>"
      ],
      "text/vnd.plotly.v1+html": [
       "<div id=\"041daac3-f0c6-47be-b191-e7b461b6fe73\" style=\"height: 525px; width: 100%;\" class=\"plotly-graph-div\"></div><script type=\"text/javascript\">require([\"plotly\"], function(Plotly) { window.PLOTLYENV=window.PLOTLYENV || {};window.PLOTLYENV.BASE_URL=\"https://plot.ly\";Plotly.newPlot(\"041daac3-f0c6-47be-b191-e7b461b6fe73\", [{\"orientation\": \"h\", \"x\": [3, 54, 74, 210, 243, 433, 645, 1027, 1069], \"y\": [\"Meldungen aus dem Handelsregisteramt des Kantons Bern\", \"GRUNDBUCHBLOG\", \"PropTech News\", \"IFMA News\", \"Everything PropTech\", \"ImmobilienScout24 Blog\", \"RETN - Real Estate Tech News\", \"Property Management Insider\", \"Immonews RSS Feed\"], \"type\": \"bar\", \"uid\": \"3acad816-d67c-4140-be26-0c0e3c9701bd\"}], {\"margin\": {\"l\": 400}, \"title\": {\"text\": \"Number of articles published by each source\"}}, {\"showLink\": false, \"linkText\": \"Export to plot.ly\", \"plotlyServerURL\": \"https://plot.ly\"})});</script><script type=\"text/javascript\">window.addEventListener(\"resize\", function(){window._Plotly.Plots.resize(document.getElementById(\"041daac3-f0c6-47be-b191-e7b461b6fe73\"));});</script>"
      ]
     },
     "metadata": {},
     "output_type": "display_data"
    }
   ],
   "source": [
    "plotData = df.groupby(\"feedTitle\")\n",
    "plotData = plotData.count().reset_index().sort_values([\"published_period\"])\n",
    "\n",
    "\n",
    "p = [go.Bar(x=plotData[\"published\"], y=plotData[\"feedTitle\"], orientation=\"h\")]\n",
    "l = go.Layout(title = \"Number of articles published by each source\", margin={\"l\":400})\n",
    "plotly.offline.iplot({\"data\": p, \"layout\":l})"
   ]
  },
  {
   "cell_type": "markdown",
   "metadata": {},
   "source": [
    "## Document Characteristics"
   ]
  },
  {
   "cell_type": "code",
   "execution_count": 7,
   "metadata": {},
   "outputs": [],
   "source": [
    "import nltk\n",
    "from nltk.corpus import PlaintextCorpusReader\n",
    "\n",
    "myCorp = PlaintextCorpusReader(\"../data/interim/text_data\", \".*\")"
   ]
  },
  {
   "cell_type": "markdown",
   "metadata": {},
   "source": [
    "### Wordcounts and Vocabulary size"
   ]
  },
  {
   "cell_type": "code",
   "execution_count": 8,
   "metadata": {},
   "outputs": [
    {
     "name": "stdout",
     "output_type": "stream",
     "text": [
      "Total number of Words:  463375\n",
      "Vocabulary size:  37159\n"
     ]
    },
    {
     "data": {
      "text/html": [
       "<div>\n",
       "<style scoped>\n",
       "    .dataframe tbody tr th:only-of-type {\n",
       "        vertical-align: middle;\n",
       "    }\n",
       "\n",
       "    .dataframe tbody tr th {\n",
       "        vertical-align: top;\n",
       "    }\n",
       "\n",
       "    .dataframe thead th {\n",
       "        text-align: right;\n",
       "    }\n",
       "</style>\n",
       "<table border=\"1\" class=\"dataframe\">\n",
       "  <thead>\n",
       "    <tr style=\"text-align: right;\">\n",
       "      <th></th>\n",
       "      <th>count</th>\n",
       "    </tr>\n",
       "  </thead>\n",
       "  <tbody>\n",
       "    <tr>\n",
       "      <th>.</th>\n",
       "      <td>22789</td>\n",
       "    </tr>\n",
       "    <tr>\n",
       "      <th>,</th>\n",
       "      <td>19247</td>\n",
       "    </tr>\n",
       "    <tr>\n",
       "      <th>die</th>\n",
       "      <td>9982</td>\n",
       "    </tr>\n",
       "    <tr>\n",
       "      <th>der</th>\n",
       "      <td>8718</td>\n",
       "    </tr>\n",
       "    <tr>\n",
       "      <th>und</th>\n",
       "      <td>8027</td>\n",
       "    </tr>\n",
       "    <tr>\n",
       "      <th>in</th>\n",
       "      <td>6726</td>\n",
       "    </tr>\n",
       "    <tr>\n",
       "      <th>-</th>\n",
       "      <td>6065</td>\n",
       "    </tr>\n",
       "    <tr>\n",
       "      <th>:</th>\n",
       "      <td>4804</td>\n",
       "    </tr>\n",
       "    <tr>\n",
       "      <th>the</th>\n",
       "      <td>4433</td>\n",
       "    </tr>\n",
       "    <tr>\n",
       "      <th>das</th>\n",
       "      <td>3464</td>\n",
       "    </tr>\n",
       "    <tr>\n",
       "      <th>fur</th>\n",
       "      <td>3373</td>\n",
       "    </tr>\n",
       "    <tr>\n",
       "      <th>zu</th>\n",
       "      <td>3315</td>\n",
       "    </tr>\n",
       "    <tr>\n",
       "      <th>den</th>\n",
       "      <td>3193</td>\n",
       "    </tr>\n",
       "    <tr>\n",
       "      <th>mit</th>\n",
       "      <td>2786</td>\n",
       "    </tr>\n",
       "    <tr>\n",
       "      <th>ist</th>\n",
       "      <td>2701</td>\n",
       "    </tr>\n",
       "    <tr>\n",
       "      <th>von</th>\n",
       "      <td>2693</td>\n",
       "    </tr>\n",
       "    <tr>\n",
       "      <th>auf</th>\n",
       "      <td>2598</td>\n",
       "    </tr>\n",
       "    <tr>\n",
       "      <th>im</th>\n",
       "      <td>2456</td>\n",
       "    </tr>\n",
       "    <tr>\n",
       "      <th>and</th>\n",
       "      <td>2344</td>\n",
       "    </tr>\n",
       "    <tr>\n",
       "      <th>to</th>\n",
       "      <td>2265</td>\n",
       "    </tr>\n",
       "  </tbody>\n",
       "</table>\n",
       "</div>"
      ],
      "text/plain": [
       "     count\n",
       ".    22789\n",
       ",    19247\n",
       "die   9982\n",
       "der   8718\n",
       "und   8027\n",
       "in    6726\n",
       "-     6065\n",
       ":     4804\n",
       "the   4433\n",
       "das   3464\n",
       "fur   3373\n",
       "zu    3315\n",
       "den   3193\n",
       "mit   2786\n",
       "ist   2701\n",
       "von   2693\n",
       "auf   2598\n",
       "im    2456\n",
       "and   2344\n",
       "to    2265"
      ]
     },
     "execution_count": 8,
     "metadata": {},
     "output_type": "execute_result"
    }
   ],
   "source": [
    "print(\"Total number of Words: \", len(myCorp.words()))\n",
    "print(\"Vocabulary size: \", len(set(myCorp.words())))\n",
    "\n",
    "wordcounts = nltk.collections.Counter(myCorp.words())\n",
    "wordcounts = pd.DataFrame.from_dict(wordcounts, orient = \"index\")\n",
    "wordcounts.columns = [\"count\"]\n",
    "wordcounts.sort_values(\"count\", ascending=False).head(20)"
   ]
  },
  {
   "cell_type": "markdown",
   "metadata": {},
   "source": [
    "## Detect Language"
   ]
  },
  {
   "cell_type": "code",
   "execution_count": 153,
   "metadata": {},
   "outputs": [
    {
     "ename": "AttributeError",
     "evalue": "'Series' object has no attribute 'lower'",
     "output_type": "error",
     "traceback": [
      "\u001b[1;31m---------------------------------------------------------------------------\u001b[0m",
      "\u001b[1;31mAttributeError\u001b[0m                            Traceback (most recent call last)",
      "\u001b[1;32m<ipython-input-153-bbd39f898fc0>\u001b[0m in \u001b[0;36m<module>\u001b[1;34m\u001b[0m\n\u001b[0;32m      9\u001b[0m                            quotechar=\"|\")\n\u001b[0;32m     10\u001b[0m \u001b[1;33m\u001b[0m\u001b[0m\n\u001b[1;32m---> 11\u001b[1;33m \u001b[0mgermanVocabulary\u001b[0m \u001b[1;33m=\u001b[0m \u001b[0mset\u001b[0m\u001b[1;33m(\u001b[0m\u001b[0mdeuNewsWords\u001b[0m\u001b[1;33m[\u001b[0m\u001b[1;34m\"word\"\u001b[0m\u001b[1;33m]\u001b[0m\u001b[1;33m.\u001b[0m\u001b[0mlower\u001b[0m\u001b[1;33m)\u001b[0m\u001b[1;33m\u001b[0m\u001b[1;33m\u001b[0m\u001b[0m\n\u001b[0m\u001b[0;32m     12\u001b[0m \u001b[1;32mdef\u001b[0m \u001b[0mmatch_language\u001b[0m\u001b[1;33m(\u001b[0m\u001b[0mtext\u001b[0m\u001b[1;33m,\u001b[0m \u001b[0mvocabulary\u001b[0m\u001b[1;33m)\u001b[0m\u001b[1;33m:\u001b[0m\u001b[1;33m\u001b[0m\u001b[1;33m\u001b[0m\u001b[0m\n\u001b[0;32m     13\u001b[0m     \u001b[1;32mpass\u001b[0m\u001b[1;33m\u001b[0m\u001b[1;33m\u001b[0m\u001b[0m\n",
      "\u001b[1;32mD:\\Programme\\anaconda35\\envs\\mas\\lib\\site-packages\\pandas\\core\\generic.py\u001b[0m in \u001b[0;36m__getattr__\u001b[1;34m(self, name)\u001b[0m\n\u001b[0;32m   5065\u001b[0m             \u001b[1;32mif\u001b[0m \u001b[0mself\u001b[0m\u001b[1;33m.\u001b[0m\u001b[0m_info_axis\u001b[0m\u001b[1;33m.\u001b[0m\u001b[0m_can_hold_identifiers_and_holds_name\u001b[0m\u001b[1;33m(\u001b[0m\u001b[0mname\u001b[0m\u001b[1;33m)\u001b[0m\u001b[1;33m:\u001b[0m\u001b[1;33m\u001b[0m\u001b[1;33m\u001b[0m\u001b[0m\n\u001b[0;32m   5066\u001b[0m                 \u001b[1;32mreturn\u001b[0m \u001b[0mself\u001b[0m\u001b[1;33m[\u001b[0m\u001b[0mname\u001b[0m\u001b[1;33m]\u001b[0m\u001b[1;33m\u001b[0m\u001b[1;33m\u001b[0m\u001b[0m\n\u001b[1;32m-> 5067\u001b[1;33m             \u001b[1;32mreturn\u001b[0m \u001b[0mobject\u001b[0m\u001b[1;33m.\u001b[0m\u001b[0m__getattribute__\u001b[0m\u001b[1;33m(\u001b[0m\u001b[0mself\u001b[0m\u001b[1;33m,\u001b[0m \u001b[0mname\u001b[0m\u001b[1;33m)\u001b[0m\u001b[1;33m\u001b[0m\u001b[1;33m\u001b[0m\u001b[0m\n\u001b[0m\u001b[0;32m   5068\u001b[0m \u001b[1;33m\u001b[0m\u001b[0m\n\u001b[0;32m   5069\u001b[0m     \u001b[1;32mdef\u001b[0m \u001b[0m__setattr__\u001b[0m\u001b[1;33m(\u001b[0m\u001b[0mself\u001b[0m\u001b[1;33m,\u001b[0m \u001b[0mname\u001b[0m\u001b[1;33m,\u001b[0m \u001b[0mvalue\u001b[0m\u001b[1;33m)\u001b[0m\u001b[1;33m:\u001b[0m\u001b[1;33m\u001b[0m\u001b[1;33m\u001b[0m\u001b[0m\n",
      "\u001b[1;31mAttributeError\u001b[0m: 'Series' object has no attribute 'lower'"
     ]
    }
   ],
   "source": [
    "'''english_vocab = set(w.lower() for w in nltk.corpus.words.words())\n",
    "text_vocab = set(w.lower() for w in text if w.lower().isalpha())\n",
    "unusual = text_vocab.difference(english_vocab) \n",
    "'''\n",
    "deuNewsWords = pd.read_csv(\"../data/external/deu_news_2015_100k/deu_news_2015_100k-words.txt\", \n",
    "                           sep=\"\\t\", \n",
    "                           header=None, \n",
    "                           names=[\"id\",\"word\",\"word2\",\"count\"], \n",
    "                           quotechar=\"|\")\n",
    "\n",
    "germanVocabulary = set(deuNewsWords[\"word\"])\n",
    "def match_language(text, vocabulary):\n",
    "    pass\n",
    "    "
   ]
  },
  {
   "cell_type": "code",
   "execution_count": 158,
   "metadata": {},
   "outputs": [
    {
     "data": {
      "text/plain": [
       "0                         !\n",
       "1                         \"\n",
       "2                         $\n",
       "3                         %\n",
       "4                         &\n",
       "5                         '\n",
       "6                         (\n",
       "7                         )\n",
       "8                         *\n",
       "9                         +\n",
       "10                        ,\n",
       "11                        -\n",
       "12                        .\n",
       "13                        /\n",
       "14                        :\n",
       "15                        ;\n",
       "16                        <\n",
       "17                        >\n",
       "18                        ?\n",
       "19                        @\n",
       "20                        €\n",
       "21                        ~\n",
       "22                        `\n",
       "23                        ´\n",
       "24                        §\n",
       "25                        «\n",
       "26                        °\n",
       "27                        »\n",
       "28                        ×\n",
       "29                        £\n",
       "                ...        \n",
       "187248                  †27\n",
       "187249                  †30\n",
       "187250                   †4\n",
       "187251                  †52\n",
       "187252                   †6\n",
       "187253                  †64\n",
       "187254                 •Der\n",
       "187255               …Krieg\n",
       "187256         …Schließlich\n",
       "187257                 …auf\n",
       "187258                 …für\n",
       "187259              …kannte\n",
       "187260                 …und\n",
       "187261                    -\n",
       "187262        ‹Aareböötler›\n",
       "187263                 ‹Ich\n",
       "187264              ‹Kübel›\n",
       "187265                  ‹Na\n",
       "187266                ‹Shit\n",
       "187267           ‹klaute›.»\n",
       "187268                 ‹off\n",
       "187269                ‹ohne\n",
       "187270              ‹stille\n",
       "187271           ›Casanova‹\n",
       "187272          ›Chemtrails\n",
       "187273    ›MojangSucksDick‹\n",
       "187274           ›NoWeDont‹\n",
       "187275                    −\n",
       "187276                    ⋅\n",
       "187277           Abonniere\n",
       "Name: word, Length: 187278, dtype: object"
      ]
     },
     "execution_count": 158,
     "metadata": {},
     "output_type": "execute_result"
    }
   ],
   "source": [
    "deuNewsWords[\"word\"]"
   ]
  },
  {
   "cell_type": "markdown",
   "metadata": {},
   "source": [
    "### TF/IDF Weights and most important words"
   ]
  },
  {
   "cell_type": "code",
   "execution_count": 74,
   "metadata": {},
   "outputs": [],
   "source": [
    "from sklearn.feature_extraction.text import TfidfVectorizer\n",
    "\n",
    "docs = []\n",
    "for i in myCorp.fileids():\n",
    "    docs.append(myCorp.raw(i))\n",
    "    \n",
    "tfidf = TfidfVectorizer()\n",
    "tfidf_matrix = tfidf.fit_transform(docs)\n",
    "feature_names = np.asarray(tfidf.get_feature_names())"
   ]
  },
  {
   "cell_type": "code",
   "execution_count": 129,
   "metadata": {},
   "outputs": [
    {
     "name": "stdout",
     "output_type": "stream",
     "text": [
      "03.11.2015 - energieeffizienz: effizienzlabel fur heizungen kommt\n",
      "in den kommenden jahren erhalten heizkessel ein effizienzlabel, um den energieverbrauch zu senken, wie der bundestag beschlossen hat. heizungsinstallateure und schornsteinfeger sollen das label vergeben und auf die heizung aufkleben, um verbraucher auf diese weise zu motivieren, ihre alten heizkessel auszutauschen.\n",
      "mehr als 70 prozent der heizgerate in deutschland sollen ineffizient und ein drittel von ihnen bereits alter als 30 jahre sein.\n"
     ]
    },
    {
     "data": {
      "text/plain": [
       "[('2015', 0.07191745812863615),\n",
       " ('der', 0.08942527191073067),\n",
       " ('fur', 0.05081170471632367),\n",
       " ('den', 0.10300925572208229),\n",
       " ('wie', 0.061456200816252284),\n",
       " ('die', 0.04527102798782058),\n",
       " ('in', 0.0688279781099633),\n",
       " ('kommenden', 0.12722543455733337),\n",
       " ('jahren', 0.08468808899028653),\n",
       " ('als', 0.1258231189746098),\n",
       " ('sein', 0.0778621967029735),\n",
       " ('und', 0.1401410134136414),\n",
       " ('ein', 0.11093076407473916),\n",
       " ('um', 0.12663747642040374),\n",
       " ('zu', 0.10540373135916212),\n",
       " ('auf', 0.10882716905959451),\n",
       " ('senken', 0.13693375436621658),\n",
       " ('von', 0.05324211158264939),\n",
       " ('deutschland', 0.08630339530520978),\n",
       " ('prozent', 0.078369898912676),\n",
       " ('alter', 0.11493326899600856),\n",
       " ('mehr', 0.06893948512517552),\n",
       " ('11', 0.08770783847108245),\n",
       " ('energieeffizienz', 0.08885176457671516),\n",
       " ('ihre', 0.08004521439572507),\n",
       " ('bereits', 0.08382838928468073),\n",
       " ('kommt', 0.09254536057026638),\n",
       " ('hat', 0.06601564971449414),\n",
       " ('das', 0.05233361508973866),\n",
       " ('diese', 0.07362942385761549),\n",
       " ('erhalten', 0.1047846255128299),\n",
       " ('drittel', 0.12657896408661717),\n",
       " ('verbraucher', 0.11382717440009141),\n",
       " ('sollen', 0.20633235579290707),\n",
       " ('alten', 0.12198811958123089),\n",
       " ('03', 0.09836883497472032),\n",
       " ('heizung', 0.12360099108315656),\n",
       " ('ihnen', 0.10186668395780903),\n",
       " ('30', 0.0942728046130858),\n",
       " ('jahre', 0.09282413507054751),\n",
       " ('vergeben', 0.1523920937915877),\n",
       " ('bundestag', 0.1486665087851944),\n",
       " ('effizienzlabel', 0.34990496624120354),\n",
       " ('heizungen', 0.14020325661416036),\n",
       " ('heizkessel', 0.3090353398677975),\n",
       " ('energieverbrauch', 0.13499325538259804),\n",
       " ('beschlossen', 0.13905933050852765),\n",
       " ('heizungsinstallateure', 0.19041082254597286),\n",
       " ('schornsteinfeger', 0.1624721166986913),\n",
       " ('label', 0.15045159480796916),\n",
       " ('aufkleben', 0.18136827365871136),\n",
       " ('weise', 0.1315554378479491),\n",
       " ('motivieren', 0.17495248312060177),\n",
       " ('auszutauschen', 0.15949414369523068),\n",
       " ('70', 0.12048406641754796),\n",
       " ('heizgerate', 0.17495248312060177),\n",
       " ('ineffizient', 0.19041082254597286)]"
      ]
     },
     "execution_count": 129,
     "metadata": {},
     "output_type": "execute_result"
    }
   ],
   "source": [
    "docNumber = 200\n",
    "print(docs[docNumber])\n",
    "feature_index = tfidf_matrix[docNumber,:].nonzero()\n",
    "words = feature_names[list(feature_index[1])]\n",
    "tfidf_scores = np.asarray(tfidf_matrix[docNumber, feature_index[1]].todense())\n",
    "\n",
    "list(zip(words, tfidf_scores[0,]))\n"
   ]
  },
  {
   "cell_type": "code",
   "execution_count": 123,
   "metadata": {},
   "outputs": [
    {
     "data": {
      "text/plain": [
       "[('new', 0.2507089562916092),\n",
       " ('for', 0.1969438294783352),\n",
       " ('perspective', 0.5547311794483237),\n",
       " ('creating', 0.45483659562863665),\n",
       " ('home', 0.354299063458935),\n",
       " ('multifamily', 0.31857767620847066),\n",
       " ('residents', 0.3958984401890671)]"
      ]
     },
     "execution_count": 123,
     "metadata": {},
     "output_type": "execute_result"
    }
   ],
   "source": []
  },
  {
   "cell_type": "code",
   "execution_count": null,
   "metadata": {},
   "outputs": [],
   "source": []
  }
 ],
 "metadata": {
  "kernelspec": {
   "display_name": "Python 3",
   "language": "python",
   "name": "python3"
  },
  "language_info": {
   "codemirror_mode": {
    "name": "ipython",
    "version": 3
   },
   "file_extension": ".py",
   "mimetype": "text/x-python",
   "name": "python",
   "nbconvert_exporter": "python",
   "pygments_lexer": "ipython3",
   "version": "3.6.8"
  }
 },
 "nbformat": 4,
 "nbformat_minor": 2
}

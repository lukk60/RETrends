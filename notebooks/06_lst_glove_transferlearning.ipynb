{
 "cells": [
  {
   "cell_type": "markdown",
   "metadata": {},
   "source": [
    "# Word2Vec test and benchmark"
   ]
  },
  {
   "cell_type": "markdown",
   "metadata": {},
   "source": [
    "Inizialize Model"
   ]
  },
  {
   "cell_type": "code",
   "execution_count": 21,
   "metadata": {},
   "outputs": [],
   "source": [
    "from gensim.test.utils import common_texts, get_tmpfile\n",
    "from gensim.models import Word2Vec\n",
    "\n",
    "get_tmpfile(\"test_word2vec.model\")\n",
    "model = Word2Vec(common_texts, size=100, window=5, min_count=1, workers=4)\n",
    "model.save(\"../models/test_word2vec.model\")"
   ]
  },
  {
   "cell_type": "code",
   "execution_count": 23,
   "metadata": {},
   "outputs": [
    {
     "data": {
      "text/plain": [
       "(0, 2)"
      ]
     },
     "execution_count": 23,
     "metadata": {},
     "output_type": "execute_result"
    }
   ],
   "source": [
    "model = Word2Vec.load(\"../models/test_word2vec.model\")\n",
    "model.train([[\"hello\", \"world\"]], total_examples=1, epochs=1)\n"
   ]
  },
  {
   "cell_type": "code",
   "execution_count": 25,
   "metadata": {},
   "outputs": [
    {
     "data": {
      "text/plain": [
       "array([ 2.1003128e-03,  3.4420234e-03,  1.9354440e-04,  2.8039194e-03,\n",
       "       -2.1621732e-03,  2.5655543e-03,  3.1805455e-03,  5.3735956e-04,\n",
       "        4.9454076e-03, -1.0939699e-03,  1.9551087e-03,  1.7835171e-03,\n",
       "       -6.1727734e-04,  1.7894616e-03, -3.4367610e-03,  1.4675827e-03,\n",
       "       -2.7013514e-03,  7.9605216e-04,  4.0964209e-03,  4.8735188e-03,\n",
       "        2.2430136e-04,  3.5671401e-04,  5.9762079e-04,  2.8287637e-04,\n",
       "        2.3643598e-03, -1.1502404e-03, -1.5252900e-03, -1.1614475e-03,\n",
       "        4.1092313e-03, -4.9863085e-03,  8.7356410e-04, -4.0538851e-03,\n",
       "       -3.3280412e-03,  2.7292072e-05,  4.8246933e-03,  1.9330091e-03,\n",
       "        2.0464670e-04,  4.1886414e-03, -1.7557767e-03, -1.7701632e-03,\n",
       "       -3.0530961e-03, -7.8247213e-05, -8.7607588e-04, -9.5735549e-04,\n",
       "        2.1053387e-03,  1.0547225e-03, -3.0918387e-03,  4.7522690e-03,\n",
       "        2.4095199e-04, -1.3110744e-04, -3.9003997e-03, -3.9575191e-04,\n",
       "       -1.0843076e-03, -1.5288134e-03,  1.9150389e-03, -9.0962026e-04,\n",
       "       -3.5244480e-03, -4.5240531e-03,  8.2839496e-04, -2.2338971e-03,\n",
       "        2.9373746e-03, -3.3357774e-03,  2.3143850e-03,  2.0585025e-03,\n",
       "       -4.1520926e-03, -3.9039894e-03,  1.1824678e-03, -4.1713216e-03,\n",
       "       -2.3132458e-03, -3.8360886e-03,  4.4674400e-04, -2.6088622e-03,\n",
       "       -4.1348441e-03,  1.5382981e-04, -3.7525601e-03,  2.5465493e-03,\n",
       "       -1.4416138e-03,  4.1112360e-03,  4.4205235e-03, -1.1273331e-03,\n",
       "        4.5855870e-03,  7.4707117e-04,  3.6860127e-03,  4.7291978e-04,\n",
       "       -1.3374232e-03, -2.4152349e-04, -2.7580312e-03,  2.0941333e-03,\n",
       "       -3.1158564e-04,  4.8847967e-03, -1.8314910e-03, -2.1026442e-04,\n",
       "        3.2143281e-03, -2.0000960e-03, -3.6266833e-03,  3.4751534e-03,\n",
       "        2.1322207e-03, -7.8771318e-06,  2.9660834e-04, -3.4654868e-04],\n",
       "      dtype=float32)"
      ]
     },
     "execution_count": 25,
     "metadata": {},
     "output_type": "execute_result"
    }
   ],
   "source": [
    "vector = model.wv['computer']  # numpy vector of a word\n",
    "vector"
   ]
  },
  {
   "cell_type": "code",
   "execution_count": null,
   "metadata": {},
   "outputs": [],
   "source": []
  }
 ],
 "metadata": {
  "kernelspec": {
   "display_name": "Python 3",
   "language": "python",
   "name": "python3"
  },
  "language_info": {
   "codemirror_mode": {
    "name": "ipython",
    "version": 3
   },
   "file_extension": ".py",
   "mimetype": "text/x-python",
   "name": "python",
   "nbconvert_exporter": "python",
   "pygments_lexer": "ipython3",
   "version": "3.5.4"
  }
 },
 "nbformat": 4,
 "nbformat_minor": 2
}

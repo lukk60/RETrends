{
 "cells": [
  {
   "cell_type": "markdown",
   "metadata": {},
   "source": [
    "# Create Wordcloud with all documents"
   ]
  },
  {
   "cell_type": "code",
   "execution_count": 20,
   "metadata": {},
   "outputs": [],
   "source": [
    "import pickle\n",
    "import os\n",
    "from bs4 import BeautifulSoup\n",
    "from bs4.element import Comment"
   ]
  },
  {
   "cell_type": "code",
   "execution_count": 21,
   "metadata": {},
   "outputs": [],
   "source": [
    "def tag_visible(element):\n",
    "    '''tags visible elements in a html document\n",
    "    Parameters:\n",
    "        element (bs4.element) html element\n",
    "\n",
    "    Returns:\n",
    "        Boolean (True if element is visible)\n",
    "    '''\n",
    "    if element.parent.name in ['style', 'script', 'head', 'title', 'meta', '[document]']:\n",
    "        return False\n",
    "    if isinstance(element, Comment):\n",
    "        return False\n",
    "    return True\n"
   ]
  },
  {
   "cell_type": "code",
   "execution_count": 44,
   "metadata": {},
   "outputs": [],
   "source": [
    "def text_from_html(body):\n",
    "    ''' extract visible text from a html document\n",
    "    Parameters:\n",
    "        body (bytes object e.g. from read(\"rb\"))\n",
    "    Returns:\n",
    "        string with all visible text\n",
    "    '''\n",
    "    soup = BeautifulSoup(body, 'html.parser')\n",
    "    texts = soup.findAll(text=True)\n",
    "    visible_texts = filter(tag_visible, texts)  \n",
    "    \n",
    "    return u\" \".join(t.strip() for t in visible_texts)"
   ]
  },
  {
   "cell_type": "code",
   "execution_count": 49,
   "metadata": {},
   "outputs": [],
   "source": [
    "rawPath = \"D:/ZHAW/RETrends/data/raw/scrape/\"\n",
    "\n",
    "for folder in os.listdir(rawPath): \n",
    "    allTexts = \"\"\n",
    "    for file in os.listdir(os.path.join(rawPath, folder)):\n",
    "        with open(os.path.join(rawPath, folder, file), \"rb\") as f:\n",
    "            html = f.read()\n",
    "        text = text_from_html(html)\n",
    "        allTexts += text\n",
    "    with open(folder+\"_allTexts.txt\", \"wb\") as f:\n",
    "        f.write(allTexts.encode(\"utf-8\"))"
   ]
  },
  {
   "cell_type": "code",
   "execution_count": null,
   "metadata": {},
   "outputs": [],
   "source": []
  }
 ],
 "metadata": {
  "kernelspec": {
   "display_name": "Python 3",
   "language": "python",
   "name": "python3"
  },
  "language_info": {
   "codemirror_mode": {
    "name": "ipython",
    "version": 3
   },
   "file_extension": ".py",
   "mimetype": "text/x-python",
   "name": "python",
   "nbconvert_exporter": "python",
   "pygments_lexer": "ipython3",
   "version": "3.6.8"
  }
 },
 "nbformat": 4,
 "nbformat_minor": 2
}

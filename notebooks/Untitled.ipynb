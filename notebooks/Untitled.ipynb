{
 "cells": [
  {
   "cell_type": "code",
   "execution_count": 3,
   "metadata": {},
   "outputs": [],
   "source": [
    "import pickle\n",
    "import os\n",
    "import pandas as pd\n",
    "import numpy as np"
   ]
  },
  {
   "cell_type": "code",
   "execution_count": 17,
   "metadata": {},
   "outputs": [],
   "source": [
    "with open(\"../data/processed/crawled_predicted.pkl\", \"rb\") as f:\n",
    "    d = pickle.load(f)"
   ]
  },
  {
   "cell_type": "code",
   "execution_count": 20,
   "metadata": {},
   "outputs": [],
   "source": [
    "with open(\"../src/models/guillaumegenthial_LSTM_CRF/vocabulary/tags.txt\", \"r\") as f:\n",
    "    tags = f.readlines()"
   ]
  },
  {
   "cell_type": "code",
   "execution_count": 18,
   "metadata": {},
   "outputs": [
    {
     "data": {
      "text/plain": [
       "['B-nat\\n',\n",
       " 'B-tim\\n',\n",
       " 'I-tim\\n',\n",
       " 'B-eve\\n',\n",
       " 'B-org\\n',\n",
       " 'B-art\\n',\n",
       " 'I-per\\n',\n",
       " 'B-gpe\\n',\n",
       " 'B-per\\n',\n",
       " 'O\\n',\n",
       " 'I-art\\n',\n",
       " 'B-geo\\n',\n",
       " 'I-gpe\\n',\n",
       " 'I-eve\\n',\n",
       " 'I-org\\n',\n",
       " 'I-nat\\n',\n",
       " 'I-geo']"
      ]
     },
     "execution_count": 18,
     "metadata": {},
     "output_type": "execute_result"
    }
   ],
   "source": [
    "df = pd.DataFrame(columns = [\"document\", \"entity-type\", \"entity-text\"])\n",
    "tags"
   ]
  },
  {
   "cell_type": "code",
   "execution_count": 12,
   "metadata": {},
   "outputs": [
    {
     "name": "stdout",
     "output_type": "stream",
     "text": [
      "[('Categories', 'O'), ('Search', 'O'), ('for', 'O'), ('anything', 'O'), ('Udemy', 'B-org'), ('for', 'I-org'), ('Business', 'I-org'), ('Get', 'I-org'), ('your', 'O'), ('team', 'O'), ('access', 'O'), ('to', 'O'), ('Udemy', 'B-per'), ('’', 'I-per'), ('s', 'O'), ('top', 'O'), ('3,000', 'O'), ('courses', 'O'), ('anytime', 'O'), (',', 'O'), ('anywhere', 'O'), ('.', 'O')]\n",
      "*****\n",
      "[('Try', 'O'), ('Udemy', 'O'), ('for', 'O'), ('Business', 'B-org'), ('Teach', 'I-org'), ('on', 'O'), ('Udemy', 'B-org'), ('Turn', 'I-org'), ('what', 'O'), ('you', 'O'), ('know', 'O'), ('into', 'O'), ('an', 'O'), ('opportunity', 'O'), ('and', 'O'), ('reach', 'O'), ('millions', 'O'), ('around', 'O'), ('the', 'O'), ('world', 'O'), ('.', 'O')]\n",
      "*****\n",
      "[('Learn', 'O'), ('more', 'O'), ('Shopping', 'O'), ('cart', 'O'), ('Log', 'O'), ('In', 'O'), ('Sign', 'O'), ('Up', 'O'), ('Building', 'O'), ('Information', 'O'), ('Modelling', 'O'), (':', 'O'), ('Essentials', 'O'), ('of', 'O'), ('BIM', 'B-org'), ('level-2', 'O'), ('3.6', 'O'), ('(', 'O'), ('69', 'O'), ('ratings', 'O'), (')', 'O'), ('Course', 'O'), ('Ratings', 'O'), ('are', 'O'), ('calculated', 'O'), ('from', 'O'), ('individual', 'O'), ('students', 'O'), ('’', 'O'), ('ratings', 'O'), ('and', 'O'), ('a', 'O'), ('variety', 'O'), ('of', 'O'), ('other', 'O'), ('signals', 'O'), (',', 'O'), ('like', 'O'), ('age', 'O'), ('of', 'O'), ('rating', 'O'), ('and', 'O'), ('reliability', 'O'), (',', 'O'), ('to', 'O'), ('ensure', 'O'), ('that', 'O'), ('they', 'O'), ('reflect', 'O'), ('course', 'O'), ('quality', 'O'), ('fairly', 'O'), ('and', 'O'), ('accurately', 'O'), ('.', 'O')]\n",
      "*****\n",
      "[('2,274', 'O'), ('students', 'O'), ('enrolled', 'O'), ('Building', 'B-org'), ('Information', 'I-org'), ('Modelling', 'I-org'), (':', 'O'), ('Essentials', 'O'), ('of', 'O'), ('BIM', 'B-org'), ('level-2', 'O'), ('The', 'O'), ('guide', 'O'), ('to', 'O'), ('learn', 'O'), ('the', 'O'), ('basics', 'O'), ('to', 'O'), ('understand', 'O'), ('the', 'O'), ('BIM', 'B-org'), ('concept', 'O'), ('.', 'O')]\n",
      "*****\n",
      "[('3.6', 'O'), ('(', 'O'), ('69', 'O'), ('ratings', 'O'), (')', 'O'), ('Course', 'O'), ('Ratings', 'O'), ('are', 'O'), ('calculated', 'O'), ('from', 'O'), ('individual', 'O'), ('students', 'O'), ('’', 'O'), ('ratings', 'O'), ('and', 'O'), ('a', 'O'), ('variety', 'O'), ('of', 'O'), ('other', 'O'), ('signals', 'O'), (',', 'O'), ('like', 'O'), ('age', 'O'), ('of', 'O'), ('rating', 'O'), ('and', 'O'), ('reliability', 'O'), (',', 'O'), ('to', 'O'), ('ensure', 'O'), ('that', 'O'), ('they', 'O'), ('reflect', 'O'), ('course', 'O'), ('quality', 'O'), ('fairly', 'O'), ('and', 'O'), ('accurately', 'O'), ('.', 'O')]\n",
      "*****\n",
      "[('2,274', 'O'), ('students', 'O'), ('enrolled', 'O'), ('Created', 'O'), ('by', 'O'), ('Ayman', 'B-per'), ('Kandeel', 'I-per'), ('Last', 'O'), ('updated', 'O'), ('6/2018', 'O'), ('English', 'B-gpe'), ('Preview', 'B-per'), ('this', 'O'), ('course', 'O'), ('Current', 'O'), ('price', 'O'), (':', 'O'), ('$', 'O'), ('11.99', 'O'), ('Original', 'O'), ('price', 'O'), (':', 'O'), ('$', 'O'), ('29.99', 'O'), ('Discount', 'O'), (':', 'O'), ('60', 'O'), ('%', 'O'), ('off', 'O'), ('3', 'O'), ('days', 'O'), ('left', 'O'), ('at', 'O'), ('this', 'O'), ('price', 'O'), ('!', 'O')]\n",
      "*****\n",
      "[('Add', 'O'), ('to', 'O'), ('cart', 'O'), ('30-Day', 'O'), ('Money-Back', 'O'), ('Guarantee', 'O'), ('This', 'O'), ('course', 'O'), ('includes', 'O'), ('2', 'O'), ('hours', 'O'), ('on-demand', 'O'), ('video', 'O'), ('11', 'O'), ('downloadable', 'O'), ('resources', 'O'), ('Full', 'O'), ('lifetime', 'O'), ('access', 'O'), ('Access', 'O'), ('on', 'O'), ('mobile', 'O'), ('and', 'O'), ('TV', 'O'), ('Certificate', 'O'), ('of', 'O'), ('Completion', 'O'), ('Training', 'O'), ('5', 'O'), ('or', 'O'), ('more', 'O'), ('people', 'O'), ('?', 'O')]\n",
      "*****\n",
      "[('Get', 'O'), ('your', 'O'), ('team', 'O'), ('access', 'O'), ('to', 'O'), ('Udemy', 'B-geo'), (\"'s\", 'O'), ('top', 'O'), ('3,000+', 'O'), ('courses', 'O'), ('anytime', 'O'), (',', 'O'), ('anywhere', 'O'), ('.', 'O')]\n",
      "*****\n",
      "[('Try', 'O'), ('Udemy', 'O'), ('for', 'O'), ('Business', 'O'), ('What', 'O'), ('you', 'O'), (\"'ll\", 'O'), ('learn', 'O'), ('1-', 'O'), ('Understand', 'O'), ('the', 'O'), ('methods', 'O'), ('and', 'O'), ('strategies', 'O'), ('to', 'O'), ('implement', 'O'), ('BIM', 'B-org'), ('in', 'O'), ('engineering', 'O'), ('projects', 'O'), ('2-', 'O'), ('Understand', 'B-geo'), ('what', 'O'), ('is', 'O'), ('mean', 'O'), ('by', 'O'), ('BIM', 'B-org'), ('LEVELS', 'I-org'), ('3-', 'I-org'), ('Understand', 'I-org'), ('what', 'O'), ('is', 'O'), ('mean', 'O'), ('by', 'O'), ('BIM', 'B-org'), ('level', 'O'), ('of', 'O'), ('develpoment', 'O'), ('4-', 'O'), ('Determine', 'O'), ('what', 'O'), ('LOD', 'O'), ('do', 'O'), ('you', 'O'), ('need', 'O'), ('at', 'O'), ('your', 'O'), ('project', 'O'), ('5-', 'O'), ('Understand', 'O'), ('what', 'O'), ('is', 'O'), ('mean', 'O'), ('by', 'O'), ('EIR', 'B-org'), (',', 'O'), ('employer', 'O'), ('information', 'O'), ('request', 'O'), ('for', 'O'), ('BIM', 'B-org'), ('6-', 'I-org'), ('Know', 'I-org'), ('about', 'O'), ('the', 'O'), ('latest', 'O'), ('codes', 'O'), ('and', 'O'), ('standards', 'O'), ('used', 'O'), ('in', 'O'), ('BIM', 'B-org'), ('7-', 'O'), ('Create', 'O'), ('your', 'O'), ('BIM', 'B-org'), ('executing', 'O'), ('plan', 'O'), ('in', 'O'), ('your', 'O'), ('organization', 'O'), ('pre', 'O'), ('&', 'O'), ('post', 'O'), ('of', 'O'), ('the', 'O'), ('contract', 'O'), ('Requirements', 'O'), ('Be', 'O'), ('an', 'O'), ('engineer', 'O'), ('or', 'O'), ('student', 'O'), ('in', 'O'), ('faculty', 'O'), ('of', 'O'), ('engineering', 'O'), ('Be', 'O'), ('able', 'O'), ('to', 'O'), ('under', 'O'), ('stand', 'O'), ('the', 'O'), ('main', 'O'), ('concept', 'O'), ('of', 'O'), ('the', 'O'), ('need', 'O'), ('of', 'O'), ('transfer', 'O'), ('to', 'O'), ('BIM', 'B-org'), ('.', 'O')]\n",
      "*****\n",
      "[('Has', 'O'), ('the', 'O'), ('minimum', 'O'), ('concept', 'O'), ('about', 'O'), ('the', 'O'), ('engineerig', 'O'), ('firm', 'O'), ('Description', 'O'), ('In', 'O'), ('this', 'O'), ('course', 'O'), ('you', 'O'), ('will', 'O'), ('understand', 'O'), ('What', 'O'), ('is', 'O'), ('mean', 'O'), ('by', 'O'), ('BIM', 'B-org'), (',', 'O'), ('what', 'O'), ('are', 'O'), ('the', 'O'), ('key', 'O'), ('points', 'O'), ('of', 'O'), ('the', 'O'), ('BIM', 'B-org'), ('process', 'O'), ('and', 'O'), ('the', 'O'), ('roles', 'O'), ('and', 'O'), ('responsibilities', 'O'), ('of', 'O'), ('each', 'O'), ('person', 'O'), ('in', 'O'), ('the', 'O'), ('BIM', 'B-org'), ('team', 'O'), (',', 'O'), ('you', 'O'), ('will', 'O'), ('learn', 'O'), ('what', 'O'), ('mean', 'O'), ('by', 'O'), ('BIM', 'B-org'), ('levels', 'O'), ('and', 'O'), ('what', 'O'), ('is', 'O'), ('the', 'O'), ('latest', 'O'), ('BIM', 'B-org'), ('level', 'O'), ('.', 'O')]\n",
      "*****\n",
      "[('Yoiu', 'B-org'), ('will', 'O'), ('know', 'O'), ('how', 'O'), ('to', 'O'), ('create', 'O'), ('your', 'O'), ('BIM', 'B-org'), ('excuting', 'O'), ('plan', 'O'), ('and', 'O'), ('how', 'O'), ('to', 'O'), ('implement', 'O'), ('it', 'O'), ('.', 'O')]\n",
      "*****\n",
      "[('You', 'O'), ('will', 'O'), ('be', 'O'), ('familiar', 'O'), ('with', 'O'), ('new', 'O'), ('terms', 'O'), ('like', 'O'), ('(', 'O'), ('BIM', 'B-org'), ('maturity', 'O'), (',', 'O'), ('BIP', 'B-org'), (',', 'O'), ('EIR', 'B-org'), (',', 'O'), ('BEP', 'B-org'), (',', 'O'), ('LOD', 'B-org'), (',', 'O'), ('COBIE.', 'B-org'), (',', 'O'), ('etc..', 'O'), (')', 'O'), ('**', 'O'), ('The', 'O'), ('course', 'O'), ('will', 'O'), ('explain', 'O'), ('all', 'O'), ('the', 'O'), ('following', 'O'), ('important', 'O'), ('topics', 'O'), ('in', 'O'), ('BIM**', 'B-org'), ('1-', 'O'), ('BIM', 'B-org'), ('definition', 'O'), ('.', 'O')]\n",
      "*****\n",
      "[('2-', 'O'), ('BIM', 'B-org'), ('dimensions', 'O'), ('.', 'O')]\n",
      "*****\n",
      "[('3-', 'O'), ('BIM', 'B-org'), ('VS', 'I-org'), ('CAD', 'I-org'), ('.', 'O')]\n",
      "*****\n",
      "[('4-', 'O'), ('BIM', 'B-org'), ('uses', 'O'), ('.', 'O')]\n",
      "*****\n",
      "[('5-', 'O'), ('BIM', 'B-org'), ('applications', 'O'), ('.', 'O')]\n",
      "*****\n",
      "[('6-', 'O'), ('BIM', 'B-org'), ('implementation', 'O'), ('factors', 'O'), ('.', 'O')]\n",
      "*****\n",
      "[('7-', 'O'), ('BIM', 'B-org'), ('levels', 'O'), ('of', 'O'), ('developments', 'O'), ('.', 'O')]\n",
      "*****\n",
      "[('8-', 'O'), ('BIM', 'B-org'), ('responsibilities', 'O'), ('9-', 'O'), ('BIM', 'B-org'), ('levels', 'O'), ('maturity', 'O'), ('.', 'O')]\n",
      "*****\n",
      "[('10-', 'O'), ('BIM', 'B-org'), ('executing', 'O'), ('plan', 'O'), ('.', 'O')]\n",
      "*****\n",
      "[('11-', 'O'), ('Employers', 'O'), ('Information', 'O'), ('Requirements', 'O'), ('At', 'O'), ('the', 'O'), ('end', 'O'), ('of', 'O'), ('this', 'O'), ('course', 'O'), ('you', 'O'), ('will', 'O'), ('be', 'O'), ('ready', 'O'), ('for', 'O'), ('the', 'O'), ('advanced', 'O'), ('level', 'O'), ('of', 'O'), ('BIM', 'B-org'), ('with', 'O'), ('information', 'O'), ('management', 'O'), ('.', 'O')]\n",
      "*****\n",
      "[('Who', 'O'), ('this', 'O'), ('course', 'O'), ('is', 'O'), ('for', 'O'), (':', 'O'), ('Engineers', 'O'), (',', 'O'), ('students', 'O'), (',', 'O'), ('professional', 'O'), ('engineers', 'O'), (',', 'O'), ('contractors', 'O'), (',', 'O'), ('surveyors', 'O'), (',', 'O'), ('civil', 'O'), ('engineers', 'O'), (',', 'O'), ('project', 'O'), ('managers', 'O'), ('.', 'O')]\n",
      "*****\n",
      "[('Any', 'O'), ('one', 'O'), ('has', 'O'), ('the', 'O'), ('interest', 'O'), ('to', 'O'), ('learn', 'O'), ('about', 'O'), ('BIM', 'B-org'), ('technology', 'O'), ('Any', 'O'), ('fresh', 'O'), ('graduated', 'O'), ('engineer', 'O'), ('Any', 'O'), ('student', 'O'), ('doing', 'O'), ('research', 'O'), ('in', 'O'), ('BIM', 'B-org'), ('technology', 'O'), ('Course', 'O'), ('content', 'O'), ('Expand', 'B-gpe'), ('all', 'O'), ('15', 'O'), ('lectures', 'O'), ('01:53:33', 'O'), ('+', 'O'), ('–', 'O'), ('BIM', 'B-art'), ('DEFINITION', 'I-art'), ('.', 'O')]\n",
      "*****\n",
      "[('1', 'O'), ('lecture', 'O'), ('09:08', 'B-tim'), ('Introduction', 'O'), ('to', 'O'), ('the', 'O'), ('course', 'O'), ('.', 'O')]\n",
      "*****\n",
      "[('Preview', 'B-per'), ('09:08', 'B-tim'), ('+', 'I-tim'), ('–', 'I-tim'), ('BIM', 'B-per'), ('DIMENSIONS', 'I-per'), ('2', 'O'), ('lectures', 'O'), ('12:23', 'B-tim'), ('BIM', 'B-art'), ('DIMENSIONS', 'I-art'), ('PART', 'I-art'), ('1', 'I-art'), ('06:38', 'I-art'), ('BIM', 'B-art'), ('DIMENSIONS', 'I-art'), ('EXAMPLES', 'I-art'), ('Preview', 'I-art'), ('05:45', 'I-art'), ('+', 'O'), ('–', 'O'), ('BIM', 'O'), ('VS', 'O'), ('.', 'O')]\n",
      "*****\n",
      "[('TRADITIONAL', 'O'), ('SYSTEMS', 'O'), ('&', 'O'), ('CAD', 'O'), ('1', 'O'), ('lecture', 'O'), ('05:38', 'B-tim'), ('BIM', 'I-tim'), ('VS', 'I-tim'), ('.', 'O')]\n",
      "*****\n",
      "[('TRADITIONAL', 'B-art'), ('SYSTEMS', 'I-art'), ('&', 'I-art'), ('CAD', 'I-art'), ('Preview', 'I-art'), ('05:38', 'I-art'), ('+', 'I-art'), ('–', 'I-art'), ('BIM', 'I-art'), ('USES', 'I-art'), ('AND', 'O'), ('BENEFITS', 'O'), ('1', 'O'), ('lecture', 'O'), ('09:26', 'B-tim'), ('BIM', 'B-art'), ('USES', 'I-art'), ('AND', 'I-art'), ('BENEFITS', 'I-art'), ('09:26', 'I-art'), ('+', 'I-art'), ('–', 'I-art'), ('BIM', 'I-art'), ('APPLICATIONS', 'I-art'), ('2', 'I-art'), ('lectures', 'O'), ('08:49', 'B-tim'), ('BIM', 'B-art'), ('APPLICATIONS', 'I-art'), ('-', 'I-art'), ('AUGMENTED', 'I-art'), ('REALITY', 'I-art'), ('04:46', 'I-art'), ('BIM', 'I-art'), ('APPLICATIONS', 'I-art'), ('-', 'I-art'), ('VIRTUAL', 'I-art'), ('REALITY', 'I-art'), ('04:03', 'I-art'), ('+', 'I-art'), ('–', 'I-art'), ('BIM', 'I-art'), ('IMPLEMENTATION', 'I-art'), ('FACTORS', 'I-art'), ('1', 'I-art'), ('lecture', 'O'), ('05:48', 'B-tim'), ('BIM', 'B-art'), ('IMPLEMENTATION', 'I-art'), ('FACTORS', 'I-art'), ('05:48', 'I-art'), ('+', 'O'), ('–', 'O'), ('BIM', 'O'), ('LEVEL', 'O'), ('OF', 'O'), ('DEVELOPMENT', 'O'), ('2', 'O'), ('lectures', 'O'), ('18:19', 'B-tim'), ('BIM', 'B-art'), ('LEVEL', 'I-art'), ('OF', 'I-art'), ('DEVELOPMENT', 'I-art'), ('12:11', 'I-art'), ('BIM', 'I-art'), ('BAM', 'I-art'), ('BOOM', 'I-art'), ('06:08', 'I-art'), ('+', 'O'), ('–', 'O'), ('BIM', 'O'), ('ROLES', 'O'), ('AND', 'O'), ('RESPONSIBILITIES', 'O'), ('1', 'O'), ('lecture', 'O'), ('11:04', 'B-tim'), ('BIM', 'B-art'), ('ROLES', 'I-art'), ('AND', 'I-art'), ('RESPONSIBILITIES', 'I-art'), ('11:04', 'I-art'), ('+', 'I-art'), ('–', 'I-art'), ('BIM', 'I-art'), ('maturity', 'O'), ('levels', 'O'), ('1', 'O'), ('lecture', 'O'), ('08:15', 'B-tim'), ('BIM', 'O'), ('maturity', 'O'), ('levels', 'O'), ('08:15', 'B-tim'), ('+', 'I-tim'), ('–', 'I-art'), ('BIM', 'I-art'), ('EXECUTING', 'I-art'), ('PLAN', 'I-art'), ('3', 'I-art'), ('lectures', 'O'), ('24:43', 'B-tim'), ('BIM', 'B-art'), ('EXECUTING', 'I-art'), ('PLAN', 'I-art'), ('-', 'O'), ('SUPPLY', 'B-art'), ('CHAIN', 'I-art'), ('-EIR', 'I-art'), ('06:38', 'I-art'), ('BIM', 'I-art'), ('ASSESSMENT', 'I-art'), ('FOR', 'I-art'), ('ORGANIZATION', 'I-art'), ('10:32', 'I-art'), ('BIM', 'I-art'), ('EXECUTING', 'I-art'), ('PLAN', 'I-art'), ('PRE', 'I-art'), ('AND', 'I-art'), ('POST', 'I-art'), ('CONTRACT', 'I-art'), ('07:33', 'I-art'), ('Udemy', 'I-art'), ('for', 'I-art'), ('Business', 'I-art'), ('Teach', 'I-art'), ('on', 'O'), ('Udemy', 'B-art'), ('Udemy', 'I-art'), ('app', 'O'), ('About', 'O'), ('us', 'O'), ('Careers', 'O'), ('Blog', 'O'), ('Topics', 'O'), ('Concepts', 'O'), ('Support', 'O'), ('Affiliate', 'O'), ('English', 'B-art'), ('Copyright', 'I-art'), ('©', 'I-art'), ('2019', 'I-art'), ('Udemy', 'I-art'), (',', 'O'), ('Inc', 'B-per'), ('.', 'O')]\n",
      "*****\n",
      "[('Terms', 'B-org'), ('Privacy', 'I-org'), ('Policy', 'I-org'), ('and', 'O'), ('Cookie', 'B-org'), ('Policy', 'I-org'), ('Intellectual', 'I-org'), ('Property', 'I-org'), ('Get', 'I-org'), ('The', 'I-org'), ('App', 'I-org')]\n",
      "*****\n"
     ]
    }
   ],
   "source": [
    "doc = d['D:/ZHAW/RETrends/data/raw/scrape\\\\Building_Information_Modelling\\\\1.html']\n",
    "for s in doc:\n",
    "    for t in s:\n",
    "        if t[1]\n",
    "    print(s)\n",
    "    print(\"*****\")"
   ]
  }
 ],
 "metadata": {
  "kernelspec": {
   "display_name": "Python 3",
   "language": "python",
   "name": "python3"
  },
  "language_info": {
   "codemirror_mode": {
    "name": "ipython",
    "version": 3
   },
   "file_extension": ".py",
   "mimetype": "text/x-python",
   "name": "python",
   "nbconvert_exporter": "python",
   "pygments_lexer": "ipython3",
   "version": "3.6.8"
  }
 },
 "nbformat": 4,
 "nbformat_minor": 2
}

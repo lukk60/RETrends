{
 "cells": [
  {
   "cell_type": "code",
   "execution_count": 40,
   "metadata": {},
   "outputs": [],
   "source": [
    "import pandas as pd\n",
    "import numpy as np\n",
    "\n",
    "data = pd.read_csv(\"../data/external/kaggle_ner_dataset/ner_dataset.csv\", \n",
    "                   encoding = \"latin1\")\n",
    "data = data.fillna(method=\"ffill\")\n",
    "dSample = data[:200]"
   ]
  },
  {
   "cell_type": "code",
   "execution_count": 42,
   "metadata": {},
   "outputs": [],
   "source": [
    "dSample.shape\n",
    "dSample = dSample.groupby(\"Sentence #\")"
   ]
  },
  {
   "cell_type": "code",
   "execution_count": 45,
   "metadata": {},
   "outputs": [
    {
     "data": {
      "text/plain": [
       "Sentence #\n",
       "Sentence: 1     24\n",
       "Sentence: 10     4\n",
       "Sentence: 2     30\n",
       "Sentence: 3     14\n",
       "Sentence: 4     15\n",
       "Sentence: 5     25\n",
       "Sentence: 6     24\n",
       "Sentence: 7     21\n",
       "Sentence: 8     28\n",
       "Sentence: 9     15\n",
       "dtype: int64"
      ]
     },
     "execution_count": 45,
     "metadata": {},
     "output_type": "execute_result"
    }
   ],
   "source": [
    "def save_append(df):\n",
    "    df.to_csv()\n",
    "\n",
    "dSample.apply(len)"
   ]
  },
  {
   "cell_type": "code",
   "execution_count": null,
   "metadata": {},
   "outputs": [],
   "source": [
    "data.to_csv()"
   ]
  }
 ],
 "metadata": {
  "kernelspec": {
   "display_name": "Python 3",
   "language": "python",
   "name": "python3"
  },
  "language_info": {
   "codemirror_mode": {
    "name": "ipython",
    "version": 3
   },
   "file_extension": ".py",
   "mimetype": "text/x-python",
   "name": "python",
   "nbconvert_exporter": "python",
   "pygments_lexer": "ipython3",
   "version": "3.6.8"
  }
 },
 "nbformat": 4,
 "nbformat_minor": 2
}

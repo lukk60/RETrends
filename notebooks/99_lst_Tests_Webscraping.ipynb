{
 "cells": [
  {
   "cell_type": "markdown",
   "metadata": {},
   "source": [
    "# Test Google Search Scraping"
   ]
  },
  {
   "cell_type": "markdown",
   "metadata": {},
   "source": [
    "## Get Links via Google Search"
   ]
  },
  {
   "cell_type": "code",
   "execution_count": 2,
   "metadata": {},
   "outputs": [],
   "source": [
    "from googlesearch import search"
   ]
  },
  {
   "cell_type": "code",
   "execution_count": 3,
   "metadata": {},
   "outputs": [],
   "source": [
    "# create generator object\n",
    "generator = search('digital real estate', stop=10)"
   ]
  },
  {
   "cell_type": "code",
   "execution_count": 4,
   "metadata": {},
   "outputs": [],
   "source": [
    "# iterate through generator \n",
    "# no direct iteration on generator to catch errors more easily\n",
    "a = []\n",
    "for i in range(10):\n",
    "    res = generator.send(None)\n",
    "    a.append(res)"
   ]
  },
  {
   "cell_type": "code",
   "execution_count": 30,
   "metadata": {},
   "outputs": [
    {
     "data": {
      "text/plain": [
       "'https://www.business.com/articles/investing-in-digital-real-estate/'"
      ]
     },
     "execution_count": 30,
     "metadata": {},
     "output_type": "execute_result"
    }
   ],
   "source": [
    "a[1]"
   ]
  },
  {
   "cell_type": "markdown",
   "metadata": {},
   "source": [
    "## Crawling Webpages"
   ]
  },
  {
   "cell_type": "code",
   "execution_count": 70,
   "metadata": {},
   "outputs": [],
   "source": [
    "import requests\n",
    "from bs4 import BeautifulSoup\n",
    "from bs4.element import Comment"
   ]
  },
  {
   "cell_type": "code",
   "execution_count": 71,
   "metadata": {},
   "outputs": [
    {
     "data": {
      "text/plain": [
       "200"
      ]
     },
     "execution_count": 71,
     "metadata": {},
     "output_type": "execute_result"
    }
   ],
   "source": [
    "# get webpage\n",
    "headers = {\"user-agent\": \"Mozilla/5.0 (Windows NT 10.0; Win64; x64) AppleWebKit/537.36 (KHTML, like Gecko) Chrome/72.0.3626.121 Safari/537.36\"}\n",
    "page = requests.get(a[0], headers = headers)\n",
    "page.status_code"
   ]
  },
  {
   "cell_type": "code",
   "execution_count": 76,
   "metadata": {},
   "outputs": [],
   "source": [
    "# save to html file\n",
    "soup = BeautifulSoup(page.content, \"html.parser\")\n",
    "html = soup.prettify(\"utf-8\")\n",
    "\n",
    "with open(\"test_save.html\", \"wb\") as f:\n",
    "    f.write(html)"
   ]
  },
  {
   "cell_type": "code",
   "execution_count": 77,
   "metadata": {},
   "outputs": [],
   "source": [
    "# load html file\n",
    "with open(\"test_save.html\", \"rb\") as f:\n",
    "    html = f.read()"
   ]
  },
  {
   "cell_type": "code",
   "execution_count": 80,
   "metadata": {},
   "outputs": [],
   "source": [
    "def tag_visible(element):\n",
    "    if element.parent.name in ['style', 'script', 'head', 'title', 'meta', '[document]']:\n",
    "        return False\n",
    "    if isinstance(element, Comment):\n",
    "        return False\n",
    "    return True\n",
    "\n",
    "\n",
    "def text_from_html(body):\n",
    "    soup = BeautifulSoup(body, 'html.parser')\n",
    "    texts = soup.findAll(text=True)\n",
    "    visible_texts = filter(tag_visible, texts)  \n",
    "    \n",
    "    return u\" \".join(t.strip() for t in visible_texts)"
   ]
  },
  {
   "cell_type": "code",
   "execution_count": 81,
   "metadata": {},
   "outputs": [
    {
     "data": {
      "text/plain": [
       "'                             Events    PropTechs    Community    Digital Top 10    Products    News    Kontakt     DE      FR                                             Die Gestalter der digitalen Welt treffen die Experten der Immobilienbranche.  Jetzt anmelden   Events           Wir präsentieren Ihnen spannende Property-Technology-Unternehmen aus dem In- und Ausland.   Proptechs           Gemeinsam skizzieren wir Wege zum erfolgreichen Digital Real Estate.   Community           Exklusiv ausgewählten Referenzprojekte, innovativen Prozesse und Tools   Digital Top 10           Brauchen Sie Unterstützung in Ihrer Innovationsstrategie oder sind Sie auf der Suche nach neuen Start-ups?  Erfahren Sie mehr über unsere Produkte und Services   Products                                     Die Gestalter der digitalen Welt treffen die Experten der Immobilienbranche.  Jetzt anmelden   Events           Wir präsentieren Ihnen spannende Property-Technology-Unternehmen aus dem In- und Ausland.   Proptechs           Gemeinsam skizzieren wir Wege zum erfolgreichen Digital Real Estate.   Community           Exklusiv ausgewählten Referenzprojekte, innovativen Prozesse und Tools   Digital Top 10           Brauchen Sie Unterstützung in Ihrer Innovationsstrategie oder sind Sie auf der Suche nach neuen Start-ups?  Erfahren Sie mehr über unsere Produkte und Services   Products                               DIE DIGITAL TOP 10 SCHWEIZ SIND VERÖFFENTLICHT!      PROJEKTE 2019 >                  Real Estate wird Digital          Unsere Welt wird digital.  Überall und immer schneller. Ob Wirtschaft, Politik oder Freizeit – wir müssen auf den digitalen Zug aufspringen, um erfolgreich zu bleiben. Auch die Immobilienwirtschaft ist in hohem Masse gefordert. Als Querschnittsbranche entlang dem Lebenszyklus von Immobilien muss sie die Potenziale der Digitalisierung nutzen und langfristige Strategien entwickeln. Digital Real Estate ist der Schlüssel zu dieser Welt. pom+ hat die Instrumente, um die Türen dorthin weit zu öffnen.                                Events   Die Gestalter der digitalen Welt treffen die Experten der Immobilienbranche. Und skizzieren gemeinsam das Bild der digitalen Immobilienwelt von Morgen. Der Digital Real Estate Summit ist die Plattform für all jene, die die virtuelle Welt als Chance begreifen. Denn: Vieles ist machbar, wenn man die richtigen Informationen hat.     >                           PropTechs   Property Technology, kurz PropTech, steht für Innovative Technologien und Software-Lösungen in der Immobilienbranche. In unserer Rubrik PropTech präsentieren wir Ihnen spannende Digitalisierungs-Unternehmen aus dem In- und Ausland. Der Fokus liegt auf Start- ups, es werden aber auch etablierte Unternehmen mit hoher Innovationskraft aufgeführt.     >                           Community   Hinter der Digitalisierung stehen Menschen, die die Zukunft vorausdenken. Wir bringen diese Menschen zusammen, um mit ihnen die Herausforderungen, die die neuen Technologien für die Immobilienbranche bringen, zu diskutieren. Gemeinsam skizzieren wir Wege zum erfolgreichen Digital Real Estate.     >                               Digital Top 10   Einmal jährlich publizieren pom+ und das Fachmagazin «immobilia» die Auswertung\\xa0«Top 10 Digital Real Estate ». Die exklusiv ausgewählten und publizierten Referenzprojekte, innovativen Prozesse und Tools zeigen, wie die Digitalisierung die Bau- und Immobilienwirtschaft voranbringt.     >                           Products   Unsere Produkte zur Digitalisierung im Immobilienwesen zeigen, wo der Markt heute steht und welche Herausforderungen auf die Akteure warten. Sie stellen aktuelle Trends vor und analysieren das Marktgeschehen. Und sie stellen Räume zur Verfügung, in denen die digitalen Herausforderungen von morgen gedacht werden können. Angesprochen sind Eigentümer, Investoren, Nutzer und Betreiber.     >                           News   Neuigkeiten, Informationen und Beiträge zum Thema Digital Real Estate.     >                   News                              Digital Real Estate Summit 2019 Bilder      Impressionen von Summit am 5. März 2019         >                     Digital Top 10 Projekte 2019      Die «Digital Top 10»\\xa02019 sind veröffentlicht!  Im 2019 publizierten pom+ und das Fachmagazin «immobilia» die Auswertung\\xa0«Digital Top 10».\\xa0Die exklusiv ausgewählten Referenzprojekte, innovativen Prozesse und Tools zeigten, wie die Digitalisierung die Bau- und Immobilienwirtschaft voranbringt.         >                     5. Digital Real Estate Summit 2019      Dienstag, 05. März 2019, 11.00 – 18.30 h Campussaal FHNW Brugg Windisch Das Gipfeltreffen der digitalen Immobilienwirtschaft  Der Digital Real Estate Summit ist DIE Plattform für alle Akteure der Immobilienwirtschaft, die die digitale Welt als Chance begreifen und neue Geschäftsmöglichkeiten erschliessen bzw. bestehende weiterentwickeln wollen.         >                     Neue Ausgabe von Digital Top 10: Anmeldungen gestartet      Die Bau- und Immobilienwirtschaft setzt sich intensiv mit dem digitalen Wandel auseinander. «Digital Top 10» zeigt die besten Innovationen der Schweiz. Seit September können Sie Ihre Innovation für die Digital Top 10, Ausgabe 2019, einreichen! Die Digital Top 10 werden von Digital Real Estate by pom+ und Bauen digital Schweiz / buildingSMART getragen, «immobilia» ist der offizielle Medienpartner.         >                     Digital Top 10 Projekte 2018      Die Digital Top 10 2018 sind veröffentlicht!  Im 2018 publizierten pom+ und die Handelszeitung die Auswertung\\xa0«Digital Top 10».\\xa0Die exklusiv ausgewählten Referenzprojekte, innovativen Prozesse und Tools zeigten, wie die Digitalisierung die Bau- und Immobilienwirtschaft voranbringt.         >                     4. Digital Real Estate Summit 2018      Dienstag, 06. März 2018, 11.00 – 18.30 h Campussaal FHNW Brugg Windisch Das Gipfeltreffen der digitalen Immobilienwirtschaft  Der Digital Real Estate Summit ist DIE Plattform für alle Akteure der Immobilienwirtschaft, die die digitale Welt als Chance begreifen und neue Geschäftsmöglichkeiten erschliessen bzw. bestehende weiterentwickeln wollen.         >                 NEWS >                   @ 2018 Digital Real Estate\\xa0by pom+         Impressum  |  Kontakt         Summit auf Twitter                        '"
      ]
     },
     "execution_count": 81,
     "metadata": {},
     "output_type": "execute_result"
    }
   ],
   "source": [
    "text_from_html(html)"
   ]
  },
  {
   "cell_type": "code",
   "execution_count": null,
   "metadata": {},
   "outputs": [],
   "source": []
  }
 ],
 "metadata": {
  "kernelspec": {
   "display_name": "Python 3",
   "language": "python",
   "name": "python3"
  },
  "language_info": {
   "codemirror_mode": {
    "name": "ipython",
    "version": 3
   },
   "file_extension": ".py",
   "mimetype": "text/x-python",
   "name": "python",
   "nbconvert_exporter": "python",
   "pygments_lexer": "ipython3",
   "version": "3.6.8"
  }
 },
 "nbformat": 4,
 "nbformat_minor": 2
}
